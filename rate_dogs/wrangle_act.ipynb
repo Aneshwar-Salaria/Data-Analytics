{
 "cells": [
  {
   "cell_type": "markdown",
   "metadata": {
    "extensions": {
     "jupyter_dashboards": {
      "version": 1,
      "views": {
       "grid_default": {
        "col": 0,
        "height": 4,
        "hidden": false,
        "row": 0,
        "width": 4
       },
       "report_default": {
        "hidden": false
       }
      }
     }
    }
   },
   "source": [
    "# Project: Wrangling and Analyze Data"
   ]
  },
  {
   "cell_type": "code",
   "execution_count": 113,
   "metadata": {},
   "outputs": [],
   "source": [
    "#Import all the packages\n",
    "import pandas as pd\n",
    "import numpy as np\n",
    "import os\n",
    "import requests\n",
    "import json\n",
    "import random\n",
    "import matplotlib.pyplot as plt\n",
    "\n",
    "%matplotlib inline"
   ]
  },
  {
   "cell_type": "markdown",
   "metadata": {},
   "source": [
    "## Data Gathering\n",
    "In the cell below, gather **all** three pieces of data for this project and load them in the notebook. **Note:** the methods required to gather each data are different.\n",
    "1. Directly download the WeRateDogs Twitter archive data (twitter_archive_enhanced.csv)"
   ]
  },
  {
   "cell_type": "code",
   "execution_count": 21,
   "metadata": {
    "extensions": {
     "jupyter_dashboards": {
      "version": 1,
      "views": {
       "grid_default": {
        "hidden": true
       },
       "report_default": {
        "hidden": true
       }
      }
     }
    }
   },
   "outputs": [],
   "source": [
    "# Read the 'twitter-archive-inhanced.csv' into pandas dataframe\n",
    "twitter_archive_df = pd.read_csv('twitter-archive-enhanced.csv')"
   ]
  },
  {
   "cell_type": "markdown",
   "metadata": {},
   "source": [
    "2. Use the Requests library to download the tweet image prediction (image_predictions.tsv)"
   ]
  },
  {
   "cell_type": "code",
   "execution_count": 23,
   "metadata": {},
   "outputs": [],
   "source": [
    "# Download 'image-prediction.tsv' using request library \n",
    "url = 'https://d17h27t6h515a5.cloudfront.net/topher/2017/August/599fd2ad_image-predictions/image-predictions.tsv'\n",
    "\n",
    "with open('image_predictions.tsv','wb') as file:\n",
    "    image_predictions = requests.get(url)\n",
    "    file.write(image_predictions.content)"
   ]
  },
  {
   "cell_type": "code",
   "execution_count": 24,
   "metadata": {},
   "outputs": [],
   "source": [
    "# Read the downloaded 'image-prediction.tsv' file intpo pandas dataframe\n",
    "image_pred_df = pd.read_csv('image_predictions.tsv',sep='\\t')"
   ]
  },
  {
   "cell_type": "markdown",
   "metadata": {},
   "source": [
    "3. Use the Tweepy library to query additional data via the Twitter API (tweet_json.txt)"
   ]
  },
  {
   "cell_type": "code",
   "execution_count": 25,
   "metadata": {},
   "outputs": [],
   "source": [
    "# Read the downloaded tweet_json.txt file line by line into pandas dataframe\n",
    "with open('tweet-json.txt') as file:\n",
    "    tw_api_df = pd.DataFrame((json.loads(line) for line in file), columns = ['created_at','id','retweeted','favourites_count'])"
   ]
  },
  {
   "cell_type": "markdown",
   "metadata": {
    "extensions": {
     "jupyter_dashboards": {
      "version": 1,
      "views": {
       "grid_default": {
        "col": 4,
        "height": 4,
        "hidden": false,
        "row": 28,
        "width": 4
       },
       "report_default": {
        "hidden": false
       }
      }
     }
    }
   },
   "source": [
    "## Assessing Data\n",
    "In this section, detect and document at least **eight (8) quality issues and two (2) tidiness issue**. You must use **both** visual assessment\n",
    "programmatic assessement to assess the data.\n",
    "\n",
    "**Note:** pay attention to the following key points when you access the data.\n",
    "\n",
    "* You only want original ratings (no retweets) that have images. Though there are 5000+ tweets in the dataset, not all are dog ratings and some are retweets.\n",
    "* Assessing and cleaning the entire dataset completely would require a lot of time, and is not necessary to practice and demonstrate your skills in data wrangling. Therefore, the requirements of this project are only to assess and clean at least 8 quality issues and at least 2 tidiness issues in this dataset.\n",
    "* The fact that the rating numerators are greater than the denominators does not need to be cleaned. This [unique rating system](http://knowyourmeme.com/memes/theyre-good-dogs-brent) is a big part of the popularity of WeRateDogs.\n",
    "* You do not need to gather the tweets beyond August 1st, 2017. You can, but note that you won't be able to gather the image predictions for these tweets since you don't have access to the algorithm used.\n",
    "\n"
   ]
  },
  {
   "cell_type": "markdown",
   "metadata": {},
   "source": [
    "### Twitter Archive"
   ]
  },
  {
   "cell_type": "code",
   "execution_count": 26,
   "metadata": {},
   "outputs": [
    {
     "data": {
      "text/html": [
       "<div>\n",
       "<style scoped>\n",
       "    .dataframe tbody tr th:only-of-type {\n",
       "        vertical-align: middle;\n",
       "    }\n",
       "\n",
       "    .dataframe tbody tr th {\n",
       "        vertical-align: top;\n",
       "    }\n",
       "\n",
       "    .dataframe thead th {\n",
       "        text-align: right;\n",
       "    }\n",
       "</style>\n",
       "<table border=\"1\" class=\"dataframe\">\n",
       "  <thead>\n",
       "    <tr style=\"text-align: right;\">\n",
       "      <th></th>\n",
       "      <th>tweet_id</th>\n",
       "      <th>in_reply_to_status_id</th>\n",
       "      <th>in_reply_to_user_id</th>\n",
       "      <th>timestamp</th>\n",
       "      <th>source</th>\n",
       "      <th>text</th>\n",
       "      <th>retweeted_status_id</th>\n",
       "      <th>retweeted_status_user_id</th>\n",
       "      <th>retweeted_status_timestamp</th>\n",
       "      <th>expanded_urls</th>\n",
       "      <th>rating_numerator</th>\n",
       "      <th>rating_denominator</th>\n",
       "      <th>name</th>\n",
       "      <th>doggo</th>\n",
       "      <th>floofer</th>\n",
       "      <th>pupper</th>\n",
       "      <th>puppo</th>\n",
       "    </tr>\n",
       "  </thead>\n",
       "  <tbody>\n",
       "    <tr>\n",
       "      <th>0</th>\n",
       "      <td>892420643555336193</td>\n",
       "      <td>NaN</td>\n",
       "      <td>NaN</td>\n",
       "      <td>2017-08-01 16:23:56 +0000</td>\n",
       "      <td>&lt;a href=\"http://twitter.com/download/iphone\" r...</td>\n",
       "      <td>This is Phineas. He's a mystical boy. Only eve...</td>\n",
       "      <td>NaN</td>\n",
       "      <td>NaN</td>\n",
       "      <td>NaN</td>\n",
       "      <td>https://twitter.com/dog_rates/status/892420643...</td>\n",
       "      <td>13</td>\n",
       "      <td>10</td>\n",
       "      <td>Phineas</td>\n",
       "      <td>None</td>\n",
       "      <td>None</td>\n",
       "      <td>None</td>\n",
       "      <td>None</td>\n",
       "    </tr>\n",
       "    <tr>\n",
       "      <th>1</th>\n",
       "      <td>892177421306343426</td>\n",
       "      <td>NaN</td>\n",
       "      <td>NaN</td>\n",
       "      <td>2017-08-01 00:17:27 +0000</td>\n",
       "      <td>&lt;a href=\"http://twitter.com/download/iphone\" r...</td>\n",
       "      <td>This is Tilly. She's just checking pup on you....</td>\n",
       "      <td>NaN</td>\n",
       "      <td>NaN</td>\n",
       "      <td>NaN</td>\n",
       "      <td>https://twitter.com/dog_rates/status/892177421...</td>\n",
       "      <td>13</td>\n",
       "      <td>10</td>\n",
       "      <td>Tilly</td>\n",
       "      <td>None</td>\n",
       "      <td>None</td>\n",
       "      <td>None</td>\n",
       "      <td>None</td>\n",
       "    </tr>\n",
       "    <tr>\n",
       "      <th>2</th>\n",
       "      <td>891815181378084864</td>\n",
       "      <td>NaN</td>\n",
       "      <td>NaN</td>\n",
       "      <td>2017-07-31 00:18:03 +0000</td>\n",
       "      <td>&lt;a href=\"http://twitter.com/download/iphone\" r...</td>\n",
       "      <td>This is Archie. He is a rare Norwegian Pouncin...</td>\n",
       "      <td>NaN</td>\n",
       "      <td>NaN</td>\n",
       "      <td>NaN</td>\n",
       "      <td>https://twitter.com/dog_rates/status/891815181...</td>\n",
       "      <td>12</td>\n",
       "      <td>10</td>\n",
       "      <td>Archie</td>\n",
       "      <td>None</td>\n",
       "      <td>None</td>\n",
       "      <td>None</td>\n",
       "      <td>None</td>\n",
       "    </tr>\n",
       "    <tr>\n",
       "      <th>3</th>\n",
       "      <td>891689557279858688</td>\n",
       "      <td>NaN</td>\n",
       "      <td>NaN</td>\n",
       "      <td>2017-07-30 15:58:51 +0000</td>\n",
       "      <td>&lt;a href=\"http://twitter.com/download/iphone\" r...</td>\n",
       "      <td>This is Darla. She commenced a snooze mid meal...</td>\n",
       "      <td>NaN</td>\n",
       "      <td>NaN</td>\n",
       "      <td>NaN</td>\n",
       "      <td>https://twitter.com/dog_rates/status/891689557...</td>\n",
       "      <td>13</td>\n",
       "      <td>10</td>\n",
       "      <td>Darla</td>\n",
       "      <td>None</td>\n",
       "      <td>None</td>\n",
       "      <td>None</td>\n",
       "      <td>None</td>\n",
       "    </tr>\n",
       "    <tr>\n",
       "      <th>4</th>\n",
       "      <td>891327558926688256</td>\n",
       "      <td>NaN</td>\n",
       "      <td>NaN</td>\n",
       "      <td>2017-07-29 16:00:24 +0000</td>\n",
       "      <td>&lt;a href=\"http://twitter.com/download/iphone\" r...</td>\n",
       "      <td>This is Franklin. He would like you to stop ca...</td>\n",
       "      <td>NaN</td>\n",
       "      <td>NaN</td>\n",
       "      <td>NaN</td>\n",
       "      <td>https://twitter.com/dog_rates/status/891327558...</td>\n",
       "      <td>12</td>\n",
       "      <td>10</td>\n",
       "      <td>Franklin</td>\n",
       "      <td>None</td>\n",
       "      <td>None</td>\n",
       "      <td>None</td>\n",
       "      <td>None</td>\n",
       "    </tr>\n",
       "  </tbody>\n",
       "</table>\n",
       "</div>"
      ],
      "text/plain": [
       "             tweet_id  in_reply_to_status_id  in_reply_to_user_id  \\\n",
       "0  892420643555336193                    NaN                  NaN   \n",
       "1  892177421306343426                    NaN                  NaN   \n",
       "2  891815181378084864                    NaN                  NaN   \n",
       "3  891689557279858688                    NaN                  NaN   \n",
       "4  891327558926688256                    NaN                  NaN   \n",
       "\n",
       "                   timestamp  \\\n",
       "0  2017-08-01 16:23:56 +0000   \n",
       "1  2017-08-01 00:17:27 +0000   \n",
       "2  2017-07-31 00:18:03 +0000   \n",
       "3  2017-07-30 15:58:51 +0000   \n",
       "4  2017-07-29 16:00:24 +0000   \n",
       "\n",
       "                                              source  \\\n",
       "0  <a href=\"http://twitter.com/download/iphone\" r...   \n",
       "1  <a href=\"http://twitter.com/download/iphone\" r...   \n",
       "2  <a href=\"http://twitter.com/download/iphone\" r...   \n",
       "3  <a href=\"http://twitter.com/download/iphone\" r...   \n",
       "4  <a href=\"http://twitter.com/download/iphone\" r...   \n",
       "\n",
       "                                                text  retweeted_status_id  \\\n",
       "0  This is Phineas. He's a mystical boy. Only eve...                  NaN   \n",
       "1  This is Tilly. She's just checking pup on you....                  NaN   \n",
       "2  This is Archie. He is a rare Norwegian Pouncin...                  NaN   \n",
       "3  This is Darla. She commenced a snooze mid meal...                  NaN   \n",
       "4  This is Franklin. He would like you to stop ca...                  NaN   \n",
       "\n",
       "   retweeted_status_user_id retweeted_status_timestamp  \\\n",
       "0                       NaN                        NaN   \n",
       "1                       NaN                        NaN   \n",
       "2                       NaN                        NaN   \n",
       "3                       NaN                        NaN   \n",
       "4                       NaN                        NaN   \n",
       "\n",
       "                                       expanded_urls  rating_numerator  \\\n",
       "0  https://twitter.com/dog_rates/status/892420643...                13   \n",
       "1  https://twitter.com/dog_rates/status/892177421...                13   \n",
       "2  https://twitter.com/dog_rates/status/891815181...                12   \n",
       "3  https://twitter.com/dog_rates/status/891689557...                13   \n",
       "4  https://twitter.com/dog_rates/status/891327558...                12   \n",
       "\n",
       "   rating_denominator      name doggo floofer pupper puppo  \n",
       "0                  10   Phineas  None    None   None  None  \n",
       "1                  10     Tilly  None    None   None  None  \n",
       "2                  10    Archie  None    None   None  None  \n",
       "3                  10     Darla  None    None   None  None  \n",
       "4                  10  Franklin  None    None   None  None  "
      ]
     },
     "execution_count": 26,
     "metadata": {},
     "output_type": "execute_result"
    }
   ],
   "source": [
    "twitter_archive_df.head()"
   ]
  },
  {
   "cell_type": "code",
   "execution_count": 27,
   "metadata": {},
   "outputs": [
    {
     "name": "stdout",
     "output_type": "stream",
     "text": [
      "<class 'pandas.core.frame.DataFrame'>\n",
      "RangeIndex: 2356 entries, 0 to 2355\n",
      "Data columns (total 17 columns):\n",
      " #   Column                      Non-Null Count  Dtype  \n",
      "---  ------                      --------------  -----  \n",
      " 0   tweet_id                    2356 non-null   int64  \n",
      " 1   in_reply_to_status_id       78 non-null     float64\n",
      " 2   in_reply_to_user_id         78 non-null     float64\n",
      " 3   timestamp                   2356 non-null   object \n",
      " 4   source                      2356 non-null   object \n",
      " 5   text                        2356 non-null   object \n",
      " 6   retweeted_status_id         181 non-null    float64\n",
      " 7   retweeted_status_user_id    181 non-null    float64\n",
      " 8   retweeted_status_timestamp  181 non-null    object \n",
      " 9   expanded_urls               2297 non-null   object \n",
      " 10  rating_numerator            2356 non-null   int64  \n",
      " 11  rating_denominator          2356 non-null   int64  \n",
      " 12  name                        2356 non-null   object \n",
      " 13  doggo                       2356 non-null   object \n",
      " 14  floofer                     2356 non-null   object \n",
      " 15  pupper                      2356 non-null   object \n",
      " 16  puppo                       2356 non-null   object \n",
      "dtypes: float64(4), int64(3), object(10)\n",
      "memory usage: 313.0+ KB\n"
     ]
    }
   ],
   "source": [
    "twitter_archive_df.info()"
   ]
  },
  {
   "cell_type": "code",
   "execution_count": 28,
   "metadata": {},
   "outputs": [
    {
     "data": {
      "text/plain": [
       "None          745\n",
       "a              55\n",
       "Charlie        12\n",
       "Cooper         11\n",
       "Lucy           11\n",
       "             ... \n",
       "Dex             1\n",
       "Ace             1\n",
       "Tayzie          1\n",
       "Grizzie         1\n",
       "Christoper      1\n",
       "Name: name, Length: 957, dtype: int64"
      ]
     },
     "execution_count": 28,
     "metadata": {},
     "output_type": "execute_result"
    }
   ],
   "source": [
    "twitter_archive_df.name.value_counts()"
   ]
  },
  {
   "cell_type": "code",
   "execution_count": 29,
   "metadata": {},
   "outputs": [
    {
     "data": {
      "text/plain": [
       "181"
      ]
     },
     "execution_count": 29,
     "metadata": {},
     "output_type": "execute_result"
    }
   ],
   "source": [
    "np.isfinite(twitter_archive_df.retweeted_status_id).sum()"
   ]
  },
  {
   "cell_type": "markdown",
   "metadata": {},
   "source": [
    "### Image predictions"
   ]
  },
  {
   "cell_type": "code",
   "execution_count": 30,
   "metadata": {},
   "outputs": [
    {
     "data": {
      "text/html": [
       "<div>\n",
       "<style scoped>\n",
       "    .dataframe tbody tr th:only-of-type {\n",
       "        vertical-align: middle;\n",
       "    }\n",
       "\n",
       "    .dataframe tbody tr th {\n",
       "        vertical-align: top;\n",
       "    }\n",
       "\n",
       "    .dataframe thead th {\n",
       "        text-align: right;\n",
       "    }\n",
       "</style>\n",
       "<table border=\"1\" class=\"dataframe\">\n",
       "  <thead>\n",
       "    <tr style=\"text-align: right;\">\n",
       "      <th></th>\n",
       "      <th>tweet_id</th>\n",
       "      <th>jpg_url</th>\n",
       "      <th>img_num</th>\n",
       "      <th>p1</th>\n",
       "      <th>p1_conf</th>\n",
       "      <th>p1_dog</th>\n",
       "      <th>p2</th>\n",
       "      <th>p2_conf</th>\n",
       "      <th>p2_dog</th>\n",
       "      <th>p3</th>\n",
       "      <th>p3_conf</th>\n",
       "      <th>p3_dog</th>\n",
       "    </tr>\n",
       "  </thead>\n",
       "  <tbody>\n",
       "    <tr>\n",
       "      <th>0</th>\n",
       "      <td>666020888022790149</td>\n",
       "      <td>https://pbs.twimg.com/media/CT4udn0WwAA0aMy.jpg</td>\n",
       "      <td>1</td>\n",
       "      <td>Welsh_springer_spaniel</td>\n",
       "      <td>0.465074</td>\n",
       "      <td>True</td>\n",
       "      <td>collie</td>\n",
       "      <td>0.156665</td>\n",
       "      <td>True</td>\n",
       "      <td>Shetland_sheepdog</td>\n",
       "      <td>0.061428</td>\n",
       "      <td>True</td>\n",
       "    </tr>\n",
       "    <tr>\n",
       "      <th>1</th>\n",
       "      <td>666029285002620928</td>\n",
       "      <td>https://pbs.twimg.com/media/CT42GRgUYAA5iDo.jpg</td>\n",
       "      <td>1</td>\n",
       "      <td>redbone</td>\n",
       "      <td>0.506826</td>\n",
       "      <td>True</td>\n",
       "      <td>miniature_pinscher</td>\n",
       "      <td>0.074192</td>\n",
       "      <td>True</td>\n",
       "      <td>Rhodesian_ridgeback</td>\n",
       "      <td>0.072010</td>\n",
       "      <td>True</td>\n",
       "    </tr>\n",
       "    <tr>\n",
       "      <th>2</th>\n",
       "      <td>666033412701032449</td>\n",
       "      <td>https://pbs.twimg.com/media/CT4521TWwAEvMyu.jpg</td>\n",
       "      <td>1</td>\n",
       "      <td>German_shepherd</td>\n",
       "      <td>0.596461</td>\n",
       "      <td>True</td>\n",
       "      <td>malinois</td>\n",
       "      <td>0.138584</td>\n",
       "      <td>True</td>\n",
       "      <td>bloodhound</td>\n",
       "      <td>0.116197</td>\n",
       "      <td>True</td>\n",
       "    </tr>\n",
       "    <tr>\n",
       "      <th>3</th>\n",
       "      <td>666044226329800704</td>\n",
       "      <td>https://pbs.twimg.com/media/CT5Dr8HUEAA-lEu.jpg</td>\n",
       "      <td>1</td>\n",
       "      <td>Rhodesian_ridgeback</td>\n",
       "      <td>0.408143</td>\n",
       "      <td>True</td>\n",
       "      <td>redbone</td>\n",
       "      <td>0.360687</td>\n",
       "      <td>True</td>\n",
       "      <td>miniature_pinscher</td>\n",
       "      <td>0.222752</td>\n",
       "      <td>True</td>\n",
       "    </tr>\n",
       "    <tr>\n",
       "      <th>4</th>\n",
       "      <td>666049248165822465</td>\n",
       "      <td>https://pbs.twimg.com/media/CT5IQmsXIAAKY4A.jpg</td>\n",
       "      <td>1</td>\n",
       "      <td>miniature_pinscher</td>\n",
       "      <td>0.560311</td>\n",
       "      <td>True</td>\n",
       "      <td>Rottweiler</td>\n",
       "      <td>0.243682</td>\n",
       "      <td>True</td>\n",
       "      <td>Doberman</td>\n",
       "      <td>0.154629</td>\n",
       "      <td>True</td>\n",
       "    </tr>\n",
       "  </tbody>\n",
       "</table>\n",
       "</div>"
      ],
      "text/plain": [
       "             tweet_id                                          jpg_url  \\\n",
       "0  666020888022790149  https://pbs.twimg.com/media/CT4udn0WwAA0aMy.jpg   \n",
       "1  666029285002620928  https://pbs.twimg.com/media/CT42GRgUYAA5iDo.jpg   \n",
       "2  666033412701032449  https://pbs.twimg.com/media/CT4521TWwAEvMyu.jpg   \n",
       "3  666044226329800704  https://pbs.twimg.com/media/CT5Dr8HUEAA-lEu.jpg   \n",
       "4  666049248165822465  https://pbs.twimg.com/media/CT5IQmsXIAAKY4A.jpg   \n",
       "\n",
       "   img_num                      p1   p1_conf  p1_dog                  p2  \\\n",
       "0        1  Welsh_springer_spaniel  0.465074    True              collie   \n",
       "1        1                 redbone  0.506826    True  miniature_pinscher   \n",
       "2        1         German_shepherd  0.596461    True            malinois   \n",
       "3        1     Rhodesian_ridgeback  0.408143    True             redbone   \n",
       "4        1      miniature_pinscher  0.560311    True          Rottweiler   \n",
       "\n",
       "    p2_conf  p2_dog                   p3   p3_conf  p3_dog  \n",
       "0  0.156665    True    Shetland_sheepdog  0.061428    True  \n",
       "1  0.074192    True  Rhodesian_ridgeback  0.072010    True  \n",
       "2  0.138584    True           bloodhound  0.116197    True  \n",
       "3  0.360687    True   miniature_pinscher  0.222752    True  \n",
       "4  0.243682    True             Doberman  0.154629    True  "
      ]
     },
     "execution_count": 30,
     "metadata": {},
     "output_type": "execute_result"
    }
   ],
   "source": [
    "image_pred_df.head()"
   ]
  },
  {
   "cell_type": "code",
   "execution_count": 31,
   "metadata": {},
   "outputs": [
    {
     "name": "stdout",
     "output_type": "stream",
     "text": [
      "<class 'pandas.core.frame.DataFrame'>\n",
      "RangeIndex: 2075 entries, 0 to 2074\n",
      "Data columns (total 12 columns):\n",
      " #   Column    Non-Null Count  Dtype  \n",
      "---  ------    --------------  -----  \n",
      " 0   tweet_id  2075 non-null   int64  \n",
      " 1   jpg_url   2075 non-null   object \n",
      " 2   img_num   2075 non-null   int64  \n",
      " 3   p1        2075 non-null   object \n",
      " 4   p1_conf   2075 non-null   float64\n",
      " 5   p1_dog    2075 non-null   bool   \n",
      " 6   p2        2075 non-null   object \n",
      " 7   p2_conf   2075 non-null   float64\n",
      " 8   p2_dog    2075 non-null   bool   \n",
      " 9   p3        2075 non-null   object \n",
      " 10  p3_conf   2075 non-null   float64\n",
      " 11  p3_dog    2075 non-null   bool   \n",
      "dtypes: bool(3), float64(3), int64(2), object(4)\n",
      "memory usage: 152.1+ KB\n"
     ]
    }
   ],
   "source": [
    "image_pred_df.info()"
   ]
  },
  {
   "cell_type": "code",
   "execution_count": 32,
   "metadata": {},
   "outputs": [
    {
     "data": {
      "text/plain": [
       "66"
      ]
     },
     "execution_count": 32,
     "metadata": {},
     "output_type": "execute_result"
    }
   ],
   "source": [
    "image_pred_df.jpg_url.duplicated().sum()"
   ]
  },
  {
   "cell_type": "code",
   "execution_count": 33,
   "metadata": {},
   "outputs": [
    {
     "data": {
      "text/plain": [
       "array(['Welsh_springer_spaniel', 'redbone', 'German_shepherd',\n",
       "       'Rhodesian_ridgeback', 'miniature_pinscher',\n",
       "       'Bernese_mountain_dog', 'box_turtle', 'chow', 'shopping_cart',\n",
       "       'miniature_poodle', 'golden_retriever', 'Gordon_setter',\n",
       "       'Walker_hound', 'pug', 'bloodhound', 'Lhasa', 'English_setter',\n",
       "       'hen', 'desktop_computer', 'Italian_greyhound', 'Maltese_dog',\n",
       "       'three-toed_sloth', 'ox', 'malamute', 'guinea_pig',\n",
       "       'soft-coated_wheaten_terrier', 'Chihuahua',\n",
       "       'black-and-tan_coonhound', 'coho', 'toy_terrier',\n",
       "       'Blenheim_spaniel', 'Pembroke', 'llama',\n",
       "       'Chesapeake_Bay_retriever', 'curly-coated_retriever', 'dalmatian',\n",
       "       'Ibizan_hound', 'Border_collie', 'Labrador_retriever', 'seat_belt',\n",
       "       'snail', 'miniature_schnauzer', 'Airedale', 'triceratops', 'swab',\n",
       "       'hay', 'hyena', 'jigsaw_puzzle', 'West_Highland_white_terrier',\n",
       "       'toy_poodle', 'giant_schnauzer', 'vizsla', 'vacuum', 'Rottweiler',\n",
       "       'Siberian_husky', 'teddy', 'papillon', 'Saint_Bernard',\n",
       "       'porcupine', 'goose', 'Tibetan_terrier', 'borzoi', 'beagle',\n",
       "       'hare', 'Yorkshire_terrier', 'Pomeranian', 'electric_fan',\n",
       "       'web_site', 'ibex', 'kuvasz', 'fire_engine', 'lorikeet',\n",
       "       'flat-coated_retriever', 'toyshop', 'common_iguana',\n",
       "       'Norwegian_elkhound', 'frilled_lizard', 'leatherback_turtle',\n",
       "       'hamster', 'Angora', 'Arctic_fox', 'trombone', 'canoe',\n",
       "       'king_penguin', 'shopping_basket', 'standard_poodle',\n",
       "       'Staffordshire_bullterrier', 'basenji', 'Lakeland_terrier',\n",
       "       'American_Staffordshire_terrier', 'bearskin', 'Shih-Tzu',\n",
       "       'bustard', 'crash_helmet', 'French_bulldog', 'Pekinese',\n",
       "       'komondor', 'ski_mask', 'malinois', 'kelpie', 'Brittany_spaniel',\n",
       "       'cocker_spaniel', 'shower_curtain', 'basset', 'jellyfish',\n",
       "       'doormat', 'Arabian_camel', 'lynx', 'hog', 'comic_book', 'minivan',\n",
       "       'seashore', 'cuirass', 'Brabancon_griffon', 'candle', 'Eskimo_dog',\n",
       "       'weasel', 'Christmas_stocking', 'washbasin', 'car_mirror',\n",
       "       'piggy_bank', 'pot', 'boathouse', 'mud_turtle',\n",
       "       'German_short-haired_pointer', 'Shetland_sheepdog',\n",
       "       'Irish_terrier', 'cairn', 'platypus', 'English_springer',\n",
       "       'whippet', 'ping-pong_ball', 'sea_urchin', 'bow_tie',\n",
       "       'window_shade', \"jack-o'-lantern\", 'sorrel', 'Sussex_spaniel',\n",
       "       'peacock', 'axolotl', 'wool', 'banana', 'Dandie_Dinmont',\n",
       "       'Norwich_terrier', 'wood_rabbit', 'dhole', 'keeshond',\n",
       "       'Norfolk_terrier', 'lacewing', 'dingo', 'brown_bear',\n",
       "       'Old_English_sheepdog', 'scorpion', 'flamingo', 'microphone',\n",
       "       'Samoyed', 'pitcher', 'African_hunting_dog', 'refrigerator',\n",
       "       'picket_fence', 'tub', 'zebra', 'hermit_crab', 'swing', 'Doberman',\n",
       "       'park_bench', 'feather_boa', 'Loafer', 'stone_wall', 'ice_bear',\n",
       "       'prayer_rug', 'chimpanzee', 'china_cabinet', 'bee_eater',\n",
       "       'tennis_ball', 'carton', 'killer_whale', 'ostrich', 'terrapin',\n",
       "       'Siamese_cat', 'gondola', 'Great_Pyrenees', 'microwave',\n",
       "       'starfish', 'sandbar', 'tusker', 'motor_scooter', 'ram',\n",
       "       'leaf_beetle', 'wombat', 'schipperke', 'Newfoundland',\n",
       "       'bull_mastiff', 'water_bottle', 'suit', 'toilet_seat', 'collie',\n",
       "       'robin', 'Cardigan', 'Greater_Swiss_Mountain_dog', 'slug',\n",
       "       'toilet_tissue', 'acorn_squash', 'soccer_ball',\n",
       "       'African_crocodile', 'tick', 'ocarina', 'boxer', 'street_sign',\n",
       "       'bow', 'stove', 'paper_towel', 'upright', 'dough',\n",
       "       'Scottish_deerhound', 'bath_towel', 'standard_schnauzer',\n",
       "       'walking_stick', 'Irish_water_spaniel', 'bubble', 'Boston_bull',\n",
       "       'book_jacket', 'rain_barrel', 'black-footed_ferret', 'guenon',\n",
       "       'Japanese_spaniel', 'water_buffalo', 'patio', 'cowboy_hat',\n",
       "       'dogsled', 'maze', 'harp', 'panpipe', 'cash_machine', 'mailbox',\n",
       "       'wallaby', 'EntleBucher', 'earthstar', 'pillow', 'bluetick',\n",
       "       'space_heater', 'carousel', 'Irish_setter', 'birdhouse', 'snorkel',\n",
       "       'bald_eagle', 'koala', 'Leonberg', 'cheetah', 'minibus',\n",
       "       'Weimaraner', 'clog', 'dishwasher', 'white_wolf', 'sliding_door',\n",
       "       'damselfly', 'Great_Dane', 'Tibetan_mastiff', 'cheeseburger',\n",
       "       'fiddler_crab', 'bannister', 'crane', 'Scotch_terrier',\n",
       "       'snowmobile', 'badger', 'bighorn', 'geyser', 'barrow', 'bison',\n",
       "       'Mexican_hairless', 'ice_lolly', 'sea_lion', 'dining_table',\n",
       "       'groenendael', 'Australian_terrier', 'beaver', 'briard',\n",
       "       'Appenzeller', 'grey_fox', 'mousetrap', 'hippopotamus',\n",
       "       'Border_terrier', 'hummingbird', 'tailed_frog', 'otter',\n",
       "       'Egyptian_cat', 'four-poster', 'wild_boar', 'bathtub', 'agama',\n",
       "       'muzzle', 'hotdog', 'bib', 'espresso', 'timber_wolf', 'meerkat',\n",
       "       'nail', 'hammer', 'home_theater', 'alp', 'bonnet', 'handkerchief',\n",
       "       'hand_blower', 'polecat', 'lakeside', 'studio_couch', 'cup',\n",
       "       'cliff', 'Bedlington_terrier', 'lawn_mower', 'balloon',\n",
       "       'sunglasses', 'rapeseed', 'traffic_light', 'coil', 'binoculars',\n",
       "       'paddle', 'tiger_shark', 'sulphur-crested_cockatoo',\n",
       "       'wire-haired_fox_terrier', 'Saluki', 'American_black_bear',\n",
       "       'rotisserie', 'conch', 'skunk', 'bookshop', 'radio_telescope',\n",
       "       'cougar', 'African_grey', 'coral_reef', 'lion', 'maillot',\n",
       "       'Madagascar_cat', 'tabby', 'silky_terrier', 'giant_panda',\n",
       "       'long-horned_beetle', 'Afghan_hound', 'clumber', 'sundial',\n",
       "       'padlock', 'pool_table', 'quilt', 'beach_wagon', 'remote_control',\n",
       "       'bakery', 'pedestal', 'gas_pump', 'bookcase', 'shield', 'loupe',\n",
       "       'restaurant', 'prison', 'school_bus', 'cowboy_boot', 'jersey',\n",
       "       'wooden_spoon', 'leopard', 'mortarboard', 'teapot',\n",
       "       'military_uniform', 'washer', 'coffee_mug', 'fountain',\n",
       "       'pencil_box', 'barbell', 'grille', 'revolver', 'envelope',\n",
       "       'syringe', 'marmot', 'pole', 'laptop', 'basketball', 'tricycle',\n",
       "       'convertible', 'limousine', 'orange'], dtype=object)"
      ]
     },
     "execution_count": 33,
     "metadata": {},
     "output_type": "execute_result"
    }
   ],
   "source": [
    "image_pred_df.p1.unique()"
   ]
  },
  {
   "cell_type": "code",
   "execution_count": 34,
   "metadata": {},
   "outputs": [
    {
     "data": {
      "text/plain": [
       "array(['collie', 'miniature_pinscher', 'malinois', 'redbone',\n",
       "       'Rottweiler', 'English_springer', 'mud_turtle', 'Tibetan_mastiff',\n",
       "       'shopping_basket', 'komondor', 'Yorkshire_terrier',\n",
       "       'English_foxhound', 'bull_mastiff', 'German_shepherd', 'Shih-Tzu',\n",
       "       'Newfoundland', 'cock', 'desk', 'toy_terrier', 'toy_poodle',\n",
       "       'otter', 'Chesapeake_Bay_retriever', 'Siberian_husky', 'skunk',\n",
       "       'Afghan_hound', 'bloodhound', 'barracouta', 'papillon',\n",
       "       'cocker_spaniel', 'chow', 'Irish_terrier', 'chain_saw', 'beagle',\n",
       "       'giant_schnauzer', 'Labrador_retriever', 'Pembroke', 'Chihuahua',\n",
       "       'Weimaraner', 'slug', 'Brittany_spaniel', 'standard_schnauzer',\n",
       "       'teddy', 'armadillo', 'African_hunting_dog', 'vizsla', 'doormat',\n",
       "       'pug', 'Italian_greyhound', 'Samoyed', 'Pomeranian',\n",
       "       'miniature_poodle', 'Lakeland_terrier', 'Irish_setter', 'swab',\n",
       "       'malamute', 'bath_towel', 'Border_collie', 'Leonberg', 'drake',\n",
       "       'French_bulldog', 'ice_bear', 'Christmas_stocking',\n",
       "       'golden_retriever', 'standard_poodle', 'dhole', 'kuvasz',\n",
       "       'Cardigan', 'silky_terrier', 'spotlight', 'dishwasher', 'bighorn',\n",
       "       'tow_truck', 'hummingbird', 'English_setter', 'prayer_rug',\n",
       "       'frilled_lizard', 'Pekinese', 'ox', 'boxer', 'hog', 'guinea_pig',\n",
       "       'hen', 'wallaby', 'cowboy_boot', 'cornet', 'minivan', 'paddle',\n",
       "       'basset', 'hamper', 'Bedlington_terrier', 'Shetland_sheepdog',\n",
       "       'bow', 'Lhasa', 'pelican', 'toaster', 'groenendael',\n",
       "       'Australian_terrier', 'llama', 'knee_pad', 'pillow',\n",
       "       'Ibizan_hound', 'Old_English_sheepdog', 'Welsh_springer_spaniel',\n",
       "       'coral_reef', 'bison', 'waffle_iron', 'tabby', 'bib', 'police_van',\n",
       "       'Eskimo_dog', 'breastplate', 'German_short-haired_pointer',\n",
       "       'Norfolk_terrier', 'Blenheim_spaniel', 'pickup',\n",
       "       'miniature_schnauzer', 'lampshade', 'Tibetan_terrier',\n",
       "       'Siamese_cat', 'borzoi', 'studio_couch', 'toilet_seat', 'hamster',\n",
       "       'seat_belt', 'keeshond', 'koala', 'hair_spray', 'Saint_Bernard',\n",
       "       'tray', 'American_Staffordshire_terrier', 'birdhouse', 'terrapin',\n",
       "       'Staffordshire_bullterrier', 'briard',\n",
       "       'West_Highland_white_terrier', 'spotted_salamander', 'tennis_ball',\n",
       "       'porcupine', 'cardigan', 'corn', 'basenji', 'otterhound',\n",
       "       'European_gallinule', 'indri', 'tailed_frog', 'beach_wagon',\n",
       "       'siamang', 'orange', 'home_theater', 'cairn', 'hare',\n",
       "       'Norwegian_elkhound', 'Brabancon_griffon', 'American_black_bear',\n",
       "       'sulphur_butterfly', 'Sealyham_terrier', 'Walker_hound',\n",
       "       'tarantula', 'Persian_cat', 'coral_fungus', 'accordion', 'kelpie',\n",
       "       'Great_Pyrenees', 'wood_rabbit', 'black-and-tan_coonhound',\n",
       "       'sunglasses', 'plow', 'whippet', 'rain_barrel', 'bathtub', 'tiger',\n",
       "       'snail', 'tick', 'wire-haired_fox_terrier', 'water_bottle', 'wig',\n",
       "       'platypus', 'Irish_wolfhound', 'ram', 'gorilla',\n",
       "       'entertainment_center', 'toucan', 'mask', 'shopping_cart',\n",
       "       'Sussex_spaniel', 'crate', 'grey_whale', 'badger', 'Airedale',\n",
       "       'Arabian_camel', 'cockroach', 'lifeboat', 'rotisserie', 'goldfish',\n",
       "       'stingray', 'warthog', 'bobsled', 'rhinoceros_beetle', 'beaver',\n",
       "       'brown_bear', 'Maltese_dog', 'weasel', 'quill',\n",
       "       'Rhodesian_ridgeback', 'Arctic_fox', 'ashcan', 'bow_tie',\n",
       "       'soft-coated_wheaten_terrier', 'schipperke', 'bearskin',\n",
       "       'Kerry_blue_terrier', 'ice_lolly', 'American_alligator',\n",
       "       'mosquito_net', 'sea_lion', 'Boston_bull', 'nail',\n",
       "       'black-footed_ferret', 'promontory', 'sarong', 'Doberman',\n",
       "       'space_heater', 'Great_Dane', 'mailbox', 'Saluki', 'bakery',\n",
       "       'sandal', 'leafhopper', 'barrel', 'water_buffalo', 'polecat',\n",
       "       'macaque', 'Japanese_spaniel', 'folding_chair', 'trench_coat',\n",
       "       'Angora', 'junco', 'crib', 'dalmatian', 'snowmobile',\n",
       "       'flat-coated_retriever', 'streetcar', 'window_screen', 'bannister',\n",
       "       'hair_slide', 'meerkat', 'cannon', 'jaguar', 'Border_terrier',\n",
       "       'Greater_Swiss_Mountain_dog', 'hay', 'apron', 'cloak', 'radiator',\n",
       "       'muzzle', 'feather_boa', 'rifle', 'chimpanzee', 'loggerhead',\n",
       "       'torch', 'Mexican_hairless', 'spindle', 'triceratops',\n",
       "       'Appenzeller', 'stove', 'dingo', 'oscilloscope', 'common_newt',\n",
       "       'hotdog', 'medicine_chest', 'quail', 'horse_cart', 'four-poster',\n",
       "       'pier', 'red_fox', 'affenpinscher', 'assault_rifle',\n",
       "       'mashed_potato', 'moped', 'hyena', 'seashore', 'tub', 'sports_car',\n",
       "       'swing', 'mink', 'bluetick', 'neck_brace', 'grey_fox', 'mongoose',\n",
       "       'fur_coat', 'Scotch_terrier', 'spatula', 'paper_towel', 'shoji',\n",
       "       'toyshop', 'banded_gecko', 'peacock', 'crossword_puzzle',\n",
       "       'tree_frog', 'wombat', 'turnstile', 'sleeping_bag', 'quilt',\n",
       "       'Gila_monster', 'giant_panda', 'Dandie_Dinmont', 'handkerchief',\n",
       "       'sombrero', 'Indian_elephant', 'coffee_mug', 'gibbon', 'carton',\n",
       "       'screw', 'minibus', 'hatchet', 'window_shade', 'lawn_mower',\n",
       "       'washbasin', 'sock', 'prison', 'patio', 'china_cabinet',\n",
       "       'chain_mail', 'breakwater', 'computer_keyboard', 'goose',\n",
       "       'lakeside', 'solar_dish', 'table_lamp', 'Windsor_tie',\n",
       "       'punching_bag', 'comic_book', 'sunglass', 'great_white_shark',\n",
       "       'timber_wolf', 'fountain', 'dugong', 'marmot', 'barbershop',\n",
       "       'shovel', 'curly-coated_retriever', 'lesser_panda', 'monitor',\n",
       "       'crutch', 'cash_machine', 'printer', 'volcano', 'wallet', 'laptop',\n",
       "       'bathing_cap', 'confectionery', 'dam', 'killer_whale', 'canoe',\n",
       "       'Madagascar_cat', 'jean', 'boathouse', 'cliff', 'maillot', 'iPod',\n",
       "       'hand-held_computer', 'black_widow', 'Norwich_terrier', 'necklace',\n",
       "       'dining_table', 'binoculars', 'cradle', 'sea_urchin', 'cougar',\n",
       "       'EntleBucher', 'basketball', 'lighter', 'saltshaker', 'harvester',\n",
       "       'television', 'envelope', 'house_finch', 'web_site', 'palace',\n",
       "       'shower_curtain', 'cab', 'snorkel', 'jigsaw_puzzle', 'sweatshirt',\n",
       "       'white_wolf', 'sliding_door', 'academic_gown', 'cowboy_hat',\n",
       "       'can_opener', 'cup', 'rule', 'soccer_ball', 'bucket', 'racket',\n",
       "       'menu', 'purse', 'Bernese_mountain_dog', 'dumbbell', 'projectile',\n",
       "       'dock', 'oxygen_mask', 'sandbar', 'umbrella', 'shower_cap',\n",
       "       'bagel'], dtype=object)"
      ]
     },
     "execution_count": 34,
     "metadata": {},
     "output_type": "execute_result"
    }
   ],
   "source": [
    "image_pred_df.p2.unique()"
   ]
  },
  {
   "cell_type": "code",
   "execution_count": 35,
   "metadata": {},
   "outputs": [
    {
     "data": {
      "text/plain": [
       "array(['Shetland_sheepdog', 'Rhodesian_ridgeback', 'bloodhound',\n",
       "       'miniature_pinscher', 'Doberman', 'Greater_Swiss_Mountain_dog',\n",
       "       'terrapin', 'fur_coat', 'golden_retriever',\n",
       "       'soft-coated_wheaten_terrier', 'Labrador_retriever', 'Pekinese',\n",
       "       'Ibizan_hound', 'French_bulldog', 'malinois', 'Dandie_Dinmont',\n",
       "       'borzoi', 'partridge', 'bookcase', 'basenji', 'miniature_poodle',\n",
       "       'great_grey_owl', 'groenendael', 'Eskimo_dog', 'hamster', 'briard',\n",
       "       'papillon', 'flat-coated_retriever', 'gar', 'Chihuahua',\n",
       "       'Shih-Tzu', 'Pomeranian', 'dingo', 'power_drill', 'Saluki',\n",
       "       'Great_Pyrenees', 'West_Highland_white_terrier', 'collie',\n",
       "       'toy_poodle', 'vizsla', 'acorn', 'giant_schnauzer', 'teddy',\n",
       "       'common_iguana', 'wig', 'water_buffalo', 'coyote', 'seat_belt',\n",
       "       'kelpie', 'space_heater', 'Brabancon_griffon', 'standard_poodle',\n",
       "       'beagle', 'Irish_water_spaniel', 'bluetick', 'Weimaraner',\n",
       "       'Chesapeake_Bay_retriever', 'toilet_tissue',\n",
       "       'black-and-tan_coonhound', 'kuvasz', 'Christmas_stocking',\n",
       "       'badger', 'hen', 'Staffordshire_bullterrier', 'Yorkshire_terrier',\n",
       "       'Lakeland_terrier', 'weasel', 'ski_mask', 'cocker_spaniel',\n",
       "       'Australian_terrier', 'lampshade', 'oscilloscope', 'ram', 'jeep',\n",
       "       'ice_bear', 'African_grey', 'Great_Dane', 'curly-coated_retriever',\n",
       "       'doormat', 'African_chameleon', 'schipperke', 'muzzle',\n",
       "       'triceratops', 'Newfoundland', 'Band_Aid', 'wood_rabbit',\n",
       "       'white_wolf', 'giant_panda', 'Welsh_springer_spaniel',\n",
       "       'French_horn', 'toy_terrier', 'Pembroke', 'Cardigan', 'bassinet',\n",
       "       'pug', 'Afghan_hound', 'American_Staffordshire_terrier', 'whippet',\n",
       "       'English_setter', 'panpipe', 'crane', 'mouse', 'titi', 'Angora',\n",
       "       'Boston_bull', 'silky_terrier', 'Japanese_spaniel', 'sandbar',\n",
       "       'balance_beam', 'black-footed_ferret', 'miniature_schnauzer',\n",
       "       'Blenheim_spaniel', 'bathtub', 'Saint_Bernard', 'redbone',\n",
       "       'goldfish', 'Norfolk_terrier', 'llama', 'koala', 'pillow',\n",
       "       'jersey', 'chow', 'minibus', 'malamute', 'bulletproof_vest',\n",
       "       'beach_wagon', 'cairn', 'plunger', 'paper_towel', 'wing',\n",
       "       'English_foxhound', 'Brittany_spaniel', 'bolete', 'ashcan',\n",
       "       'box_turtle', 'guinea_pig', 'bison', 'bull_mastiff', 'racket',\n",
       "       'cardoon', 'Tibetan_mastiff', 'window_screen', 'Irish_terrier',\n",
       "       'agama', 'common_newt', 'car_wheel', 'gorilla', 'bagel', 'clumber',\n",
       "       'Egyptian_cat', 'television', 'boxer', 'brown_bear', 'leafhopper',\n",
       "       'German_shepherd', 'Border_collie', 'menu', 'wolf_spider',\n",
       "       'bathing_cap', 'stinkhorn', 'drumstick', 'mask',\n",
       "       'Scottish_deerhound', 'shower_curtain', 'Appenzeller',\n",
       "       'plastic_bag', 'swimming_trunks', 'prairie_chicken', 'red_wolf',\n",
       "       'Maltese_dog', 'snail', 'gibbon', 'Gordon_setter', 'black_swan',\n",
       "       'beacon', 'wool', 'cowboy_boot', 'Rottweiler', 'poncho', 'swing',\n",
       "       'Arctic_fox', 'bib', 'Italian_greyhound', 'steam_locomotive',\n",
       "       'fountain', 'chickadee', 'abaya', 'Border_terrier', 'bubble',\n",
       "       'chimpanzee', 'hammerhead', 'Norwegian_elkhound',\n",
       "       'Norwich_terrier', 'Airedale', 'Siamese_cat', 'sea_cucumber',\n",
       "       'seashore', 'nipple', 'moped', 'Arabian_camel', 'crayfish',\n",
       "       'wallaby', 'wire-haired_fox_terrier', 'toilet_seat',\n",
       "       'Old_English_sheepdog', 'pajama', 'Walker_hound', 'shovel',\n",
       "       'bucket', 'Sealyham_terrier', 'Windsor_tie', 'Siberian_husky',\n",
       "       'quill', 'Persian_cat', 'European_fire_salamander',\n",
       "       'three-toed_sloth', 'swab', 'echidna', 'tennis_ball', 'Lhasa',\n",
       "       'coral_reef', 'keeshond', 'mink', 'screw', 'basset', 'wreck',\n",
       "       'kimono', 'German_short-haired_pointer', 'joystick', 'microwave',\n",
       "       'Tibetan_terrier', 'Irish_wolfhound', 'Samoyed', 'loggerhead',\n",
       "       'French_loaf', 'Irish_setter', 'komondor', 'purse', 'greenhouse',\n",
       "       'broccoli', 'shopping_basket', 'macaque', 'squirrel_monkey',\n",
       "       'green_lizard', 'parallel_bars', 'cloak', 'chest', 'sundial',\n",
       "       'mosquito_net', 'bath_towel', 'cuirass', 'zebra', 'lumbermill',\n",
       "       'wallet', 'feather_boa', 'English_springer', 'electric_fan',\n",
       "       'hippopotamus', 'ox', 'quilt', 'assault_rifle', 'axolotl', 'pot',\n",
       "       'toyshop', 'pizza', 'scuba_diver', 'beaver', 'Mexican_hairless',\n",
       "       'cliff', 'loupe', 'wild_boar', 'jaguar', 'hog', 'polecat', 'lion',\n",
       "       'EntleBucher', 'hand-held_computer', 'washbasin', 'whiptail',\n",
       "       'rock_crab', 'hare', 'shoji', 'sombrero', 'bell_cote', 'rifle',\n",
       "       'goose', 'pickup', 'sunglasses', 'limousine', 'bow_tie', 'pretzel',\n",
       "       'marmot', 'ice_lolly', 'vacuum', 'dalmatian', 'prison',\n",
       "       'shower_cap', 'sliding_door', 'dugong', 'otterhound', 'eel',\n",
       "       'binder', 'bullfrog', 'soap_dispenser', 'sea_lion', 'carton',\n",
       "       'brass', 'mitten', 'golfcart', 'cougar', 'warthog', 'umbrella',\n",
       "       'neck_brace', 'cup', 'book_jacket', 'padlock', 'cab', 'chime',\n",
       "       'Leonberg', 'viaduct', 'American_black_bear', 'tub', 'hand_blower',\n",
       "       'king_penguin', 'rotisserie', 'bannister', 'passenger_car',\n",
       "       'mongoose', 'dhole', 'consomme', 'valley', 'park_bench',\n",
       "       'mushroom', 'barrow', 'parachute', 'desktop_computer', 'snorkel',\n",
       "       'wok', 'affenpinscher', 'space_shuttle', 'rain_barrel',\n",
       "       'ballplayer', 'mountain_tent', 'oxcart', 'buckeye', 'sunglass',\n",
       "       'croquet_ball', 'refrigerator', 'snow_leopard', 'tripod',\n",
       "       'rapeseed', 'tiger_cat', 'Bernese_mountain_dog', 'notebook',\n",
       "       'maraca', 'pool_table', 'lakeside', 'theater_curtain', 'pier',\n",
       "       'cheetah', 'mousetrap', 'pop_bottle', 'soccer_ball', 'wombat',\n",
       "       'rhinoceros_beetle', 'paddlewheel', 'paintbrush', 'maze',\n",
       "       'hatchet', 'chain', 'jigsaw_puzzle', 'switch',\n",
       "       'Kerry_blue_terrier', 'barbell', 'convertible',\n",
       "       'entertainment_center', 'file', 'guillotine', 'nail',\n",
       "       'standard_schnauzer', 'bow', 'grocery_store', 'boathouse', 'conch',\n",
       "       'Bouvier_des_Flandres', 'grey_fox', 'shopping_cart', 'meerkat',\n",
       "       'grand_piano', 'envelope', 'screen', 'coffeepot', 'printer',\n",
       "       'otter', 'restaurant', 'bonnet', 'crossword_puzzle', 'go-kart',\n",
       "       'Sussex_spaniel', 'orangutan', 'canoe', 'barber_chair',\n",
       "       'traffic_light', 'ibex', 'can_opener', 'Indian_elephant',\n",
       "       'spatula', 'banana'], dtype=object)"
      ]
     },
     "execution_count": 35,
     "metadata": {},
     "output_type": "execute_result"
    }
   ],
   "source": [
    "image_pred_df.p3.unique()"
   ]
  },
  {
   "cell_type": "markdown",
   "metadata": {},
   "source": [
    "### Twitter API"
   ]
  },
  {
   "cell_type": "code",
   "execution_count": 36,
   "metadata": {},
   "outputs": [
    {
     "data": {
      "text/html": [
       "<div>\n",
       "<style scoped>\n",
       "    .dataframe tbody tr th:only-of-type {\n",
       "        vertical-align: middle;\n",
       "    }\n",
       "\n",
       "    .dataframe tbody tr th {\n",
       "        vertical-align: top;\n",
       "    }\n",
       "\n",
       "    .dataframe thead th {\n",
       "        text-align: right;\n",
       "    }\n",
       "</style>\n",
       "<table border=\"1\" class=\"dataframe\">\n",
       "  <thead>\n",
       "    <tr style=\"text-align: right;\">\n",
       "      <th></th>\n",
       "      <th>created_at</th>\n",
       "      <th>id</th>\n",
       "      <th>retweeted</th>\n",
       "      <th>favourites_count</th>\n",
       "    </tr>\n",
       "  </thead>\n",
       "  <tbody>\n",
       "    <tr>\n",
       "      <th>0</th>\n",
       "      <td>Tue Aug 01 16:23:56 +0000 2017</td>\n",
       "      <td>892420643555336193</td>\n",
       "      <td>False</td>\n",
       "      <td>NaN</td>\n",
       "    </tr>\n",
       "    <tr>\n",
       "      <th>1</th>\n",
       "      <td>Tue Aug 01 00:17:27 +0000 2017</td>\n",
       "      <td>892177421306343426</td>\n",
       "      <td>False</td>\n",
       "      <td>NaN</td>\n",
       "    </tr>\n",
       "    <tr>\n",
       "      <th>2</th>\n",
       "      <td>Mon Jul 31 00:18:03 +0000 2017</td>\n",
       "      <td>891815181378084864</td>\n",
       "      <td>False</td>\n",
       "      <td>NaN</td>\n",
       "    </tr>\n",
       "    <tr>\n",
       "      <th>3</th>\n",
       "      <td>Sun Jul 30 15:58:51 +0000 2017</td>\n",
       "      <td>891689557279858688</td>\n",
       "      <td>False</td>\n",
       "      <td>NaN</td>\n",
       "    </tr>\n",
       "    <tr>\n",
       "      <th>4</th>\n",
       "      <td>Sat Jul 29 16:00:24 +0000 2017</td>\n",
       "      <td>891327558926688256</td>\n",
       "      <td>False</td>\n",
       "      <td>NaN</td>\n",
       "    </tr>\n",
       "  </tbody>\n",
       "</table>\n",
       "</div>"
      ],
      "text/plain": [
       "                       created_at                  id  retweeted  \\\n",
       "0  Tue Aug 01 16:23:56 +0000 2017  892420643555336193      False   \n",
       "1  Tue Aug 01 00:17:27 +0000 2017  892177421306343426      False   \n",
       "2  Mon Jul 31 00:18:03 +0000 2017  891815181378084864      False   \n",
       "3  Sun Jul 30 15:58:51 +0000 2017  891689557279858688      False   \n",
       "4  Sat Jul 29 16:00:24 +0000 2017  891327558926688256      False   \n",
       "\n",
       "   favourites_count  \n",
       "0               NaN  \n",
       "1               NaN  \n",
       "2               NaN  \n",
       "3               NaN  \n",
       "4               NaN  "
      ]
     },
     "execution_count": 36,
     "metadata": {},
     "output_type": "execute_result"
    }
   ],
   "source": [
    "tw_api_df.head()"
   ]
  },
  {
   "cell_type": "code",
   "execution_count": 37,
   "metadata": {},
   "outputs": [
    {
     "name": "stdout",
     "output_type": "stream",
     "text": [
      "<class 'pandas.core.frame.DataFrame'>\n",
      "RangeIndex: 2354 entries, 0 to 2353\n",
      "Data columns (total 4 columns):\n",
      " #   Column            Non-Null Count  Dtype  \n",
      "---  ------            --------------  -----  \n",
      " 0   created_at        2354 non-null   object \n",
      " 1   id                2354 non-null   int64  \n",
      " 2   retweeted         2354 non-null   bool   \n",
      " 3   favourites_count  0 non-null      float64\n",
      "dtypes: bool(1), float64(1), int64(1), object(1)\n",
      "memory usage: 57.6+ KB\n"
     ]
    }
   ],
   "source": [
    "tw_api_df.info()"
   ]
  },
  {
   "cell_type": "markdown",
   "metadata": {},
   "source": [
    "### Quality issues\n",
    "1. Column names are not descriptive and are confusing to interpret.\n",
    "\n",
    "2. There are 66 duplicate images.\n",
    "\n",
    "3. Data type of timestamp is incorrect.\n",
    "\n",
    "4. For some entries rating denominator is not equal to 10.\n",
    "\n",
    "5. For some entries rating numerator is less than rating denominator.\n",
    "\n",
    "6. There are 181 retweet entries which needs to be removed.\n",
    "\n",
    "7. Some of the predicted items contain underscore between words.\n",
    "\n",
    "8. Tweet id should be string."
   ]
  },
  {
   "cell_type": "markdown",
   "metadata": {
    "extensions": {
     "jupyter_dashboards": {
      "version": 1,
      "views": {
       "grid_default": {
        "col": 0,
        "height": 7,
        "hidden": false,
        "row": 40,
        "width": 12
       },
       "report_default": {
        "hidden": false
       }
      }
     }
    }
   },
   "source": [
    "### Tidiness issues\n",
    "1. A single column for kind of dog instead of four different columns\n",
    "\n",
    "2. A seperate column for the rating (numerator rating / denominator rating) for comparision\n",
    "\n",
    "3. Twitter API dataframe and Twitter Archive dataframe should be in same dataframe."
   ]
  },
  {
   "cell_type": "markdown",
   "metadata": {
    "extensions": {
     "jupyter_dashboards": {
      "version": 1,
      "views": {
       "grid_default": {
        "col": 4,
        "height": 4,
        "hidden": false,
        "row": 32,
        "width": 4
       },
       "report_default": {
        "hidden": false
       }
      }
     }
    }
   },
   "source": [
    "## Cleaning Data\n",
    "In this section, clean **all** of the issues you documented while assessing. \n",
    "\n",
    "**Note:** Make a copy of the original data before cleaning. Cleaning includes merging individual pieces of data according to the rules of [tidy data](https://cran.r-project.org/web/packages/tidyr/vignettes/tidy-data.html). The result should be a high-quality and tidy master pandas DataFrame (or DataFrames, if appropriate)."
   ]
  },
  {
   "cell_type": "code",
   "execution_count": 39,
   "metadata": {},
   "outputs": [],
   "source": [
    "# Make copies of original pieces of data\n",
    "clean_twitter_archive_df = twitter_archive_df.copy()\n",
    "clean_image_pred_df = image_pred_df.copy()\n",
    "clean_tw_api_df = tw_api_df.copy()"
   ]
  },
  {
   "cell_type": "markdown",
   "metadata": {},
   "source": [
    "### Issue #1: Column names are not descriptive and are confusing to interpret"
   ]
  },
  {
   "cell_type": "markdown",
   "metadata": {},
   "source": [
    "#### Define: \n",
    "Replace current column names of the three dataframes using .rename() method."
   ]
  },
  {
   "cell_type": "markdown",
   "metadata": {},
   "source": [
    "#### Code"
   ]
  },
  {
   "cell_type": "code",
   "execution_count": 40,
   "metadata": {},
   "outputs": [],
   "source": [
    "clean_tw_api_df.rename(columns = {'id':'tweet_id',\n",
    "                                 'created_at':'tweet_date',\n",
    "                                 'favourites_counts':'like_counts'}, inplace = True)\n",
    "\n",
    "clean_image_pred_df.rename(columns = {'jpg_url':'image_url',\n",
    "                                     'img_num':'number_of_images',\n",
    "                                     'p1':'prediction_1',\n",
    "                                     'p2':'prediction_2',\n",
    "                                     'p3':'prediction_3',\n",
    "                                     'p1_dog':'prediction_1_if_dog',\n",
    "                                     'p2_dog':'prediction_2_if_dog',\n",
    "                                     'p3_dog':'prediction_3_if_dog',}, inplace = True)\n",
    "\n",
    "clean_twitter_archive_df.rename(columns = {'favourites_count':'like_count',\n",
    "                                           'favourites_count':'like_count'}, inplace = True)"
   ]
  },
  {
   "cell_type": "markdown",
   "metadata": {},
   "source": [
    "#### Test"
   ]
  },
  {
   "cell_type": "code",
   "execution_count": 41,
   "metadata": {},
   "outputs": [
    {
     "data": {
      "text/html": [
       "<div>\n",
       "<style scoped>\n",
       "    .dataframe tbody tr th:only-of-type {\n",
       "        vertical-align: middle;\n",
       "    }\n",
       "\n",
       "    .dataframe tbody tr th {\n",
       "        vertical-align: top;\n",
       "    }\n",
       "\n",
       "    .dataframe thead th {\n",
       "        text-align: right;\n",
       "    }\n",
       "</style>\n",
       "<table border=\"1\" class=\"dataframe\">\n",
       "  <thead>\n",
       "    <tr style=\"text-align: right;\">\n",
       "      <th></th>\n",
       "      <th>tweet_date</th>\n",
       "      <th>tweet_id</th>\n",
       "      <th>retweeted</th>\n",
       "      <th>favourites_count</th>\n",
       "    </tr>\n",
       "  </thead>\n",
       "  <tbody>\n",
       "    <tr>\n",
       "      <th>0</th>\n",
       "      <td>Tue Aug 01 16:23:56 +0000 2017</td>\n",
       "      <td>892420643555336193</td>\n",
       "      <td>False</td>\n",
       "      <td>NaN</td>\n",
       "    </tr>\n",
       "  </tbody>\n",
       "</table>\n",
       "</div>"
      ],
      "text/plain": [
       "                       tweet_date            tweet_id  retweeted  \\\n",
       "0  Tue Aug 01 16:23:56 +0000 2017  892420643555336193      False   \n",
       "\n",
       "   favourites_count  \n",
       "0               NaN  "
      ]
     },
     "execution_count": 41,
     "metadata": {},
     "output_type": "execute_result"
    }
   ],
   "source": [
    "clean_tw_api_df.head(1)"
   ]
  },
  {
   "cell_type": "code",
   "execution_count": 42,
   "metadata": {},
   "outputs": [
    {
     "data": {
      "text/html": [
       "<div>\n",
       "<style scoped>\n",
       "    .dataframe tbody tr th:only-of-type {\n",
       "        vertical-align: middle;\n",
       "    }\n",
       "\n",
       "    .dataframe tbody tr th {\n",
       "        vertical-align: top;\n",
       "    }\n",
       "\n",
       "    .dataframe thead th {\n",
       "        text-align: right;\n",
       "    }\n",
       "</style>\n",
       "<table border=\"1\" class=\"dataframe\">\n",
       "  <thead>\n",
       "    <tr style=\"text-align: right;\">\n",
       "      <th></th>\n",
       "      <th>tweet_id</th>\n",
       "      <th>image_url</th>\n",
       "      <th>number_of_images</th>\n",
       "      <th>prediction_1</th>\n",
       "      <th>p1_conf</th>\n",
       "      <th>prediction_1_if_dog</th>\n",
       "      <th>prediction_2</th>\n",
       "      <th>p2_conf</th>\n",
       "      <th>prediction_2_if_dog</th>\n",
       "      <th>prediction_3</th>\n",
       "      <th>p3_conf</th>\n",
       "      <th>prediction_3_if_dog</th>\n",
       "    </tr>\n",
       "  </thead>\n",
       "  <tbody>\n",
       "    <tr>\n",
       "      <th>0</th>\n",
       "      <td>666020888022790149</td>\n",
       "      <td>https://pbs.twimg.com/media/CT4udn0WwAA0aMy.jpg</td>\n",
       "      <td>1</td>\n",
       "      <td>Welsh_springer_spaniel</td>\n",
       "      <td>0.465074</td>\n",
       "      <td>True</td>\n",
       "      <td>collie</td>\n",
       "      <td>0.156665</td>\n",
       "      <td>True</td>\n",
       "      <td>Shetland_sheepdog</td>\n",
       "      <td>0.061428</td>\n",
       "      <td>True</td>\n",
       "    </tr>\n",
       "  </tbody>\n",
       "</table>\n",
       "</div>"
      ],
      "text/plain": [
       "             tweet_id                                        image_url  \\\n",
       "0  666020888022790149  https://pbs.twimg.com/media/CT4udn0WwAA0aMy.jpg   \n",
       "\n",
       "   number_of_images            prediction_1   p1_conf  prediction_1_if_dog  \\\n",
       "0                 1  Welsh_springer_spaniel  0.465074                 True   \n",
       "\n",
       "  prediction_2   p2_conf  prediction_2_if_dog       prediction_3   p3_conf  \\\n",
       "0       collie  0.156665                 True  Shetland_sheepdog  0.061428   \n",
       "\n",
       "   prediction_3_if_dog  \n",
       "0                 True  "
      ]
     },
     "execution_count": 42,
     "metadata": {},
     "output_type": "execute_result"
    }
   ],
   "source": [
    "clean_image_pred_df.head(1)"
   ]
  },
  {
   "cell_type": "code",
   "execution_count": 43,
   "metadata": {},
   "outputs": [
    {
     "data": {
      "text/html": [
       "<div>\n",
       "<style scoped>\n",
       "    .dataframe tbody tr th:only-of-type {\n",
       "        vertical-align: middle;\n",
       "    }\n",
       "\n",
       "    .dataframe tbody tr th {\n",
       "        vertical-align: top;\n",
       "    }\n",
       "\n",
       "    .dataframe thead th {\n",
       "        text-align: right;\n",
       "    }\n",
       "</style>\n",
       "<table border=\"1\" class=\"dataframe\">\n",
       "  <thead>\n",
       "    <tr style=\"text-align: right;\">\n",
       "      <th></th>\n",
       "      <th>tweet_id</th>\n",
       "      <th>in_reply_to_status_id</th>\n",
       "      <th>in_reply_to_user_id</th>\n",
       "      <th>timestamp</th>\n",
       "      <th>source</th>\n",
       "      <th>text</th>\n",
       "      <th>retweeted_status_id</th>\n",
       "      <th>retweeted_status_user_id</th>\n",
       "      <th>retweeted_status_timestamp</th>\n",
       "      <th>expanded_urls</th>\n",
       "      <th>rating_numerator</th>\n",
       "      <th>rating_denominator</th>\n",
       "      <th>name</th>\n",
       "      <th>doggo</th>\n",
       "      <th>floofer</th>\n",
       "      <th>pupper</th>\n",
       "      <th>puppo</th>\n",
       "    </tr>\n",
       "  </thead>\n",
       "  <tbody>\n",
       "    <tr>\n",
       "      <th>0</th>\n",
       "      <td>892420643555336193</td>\n",
       "      <td>NaN</td>\n",
       "      <td>NaN</td>\n",
       "      <td>2017-08-01 16:23:56 +0000</td>\n",
       "      <td>&lt;a href=\"http://twitter.com/download/iphone\" r...</td>\n",
       "      <td>This is Phineas. He's a mystical boy. Only eve...</td>\n",
       "      <td>NaN</td>\n",
       "      <td>NaN</td>\n",
       "      <td>NaN</td>\n",
       "      <td>https://twitter.com/dog_rates/status/892420643...</td>\n",
       "      <td>13</td>\n",
       "      <td>10</td>\n",
       "      <td>Phineas</td>\n",
       "      <td>None</td>\n",
       "      <td>None</td>\n",
       "      <td>None</td>\n",
       "      <td>None</td>\n",
       "    </tr>\n",
       "  </tbody>\n",
       "</table>\n",
       "</div>"
      ],
      "text/plain": [
       "             tweet_id  in_reply_to_status_id  in_reply_to_user_id  \\\n",
       "0  892420643555336193                    NaN                  NaN   \n",
       "\n",
       "                   timestamp  \\\n",
       "0  2017-08-01 16:23:56 +0000   \n",
       "\n",
       "                                              source  \\\n",
       "0  <a href=\"http://twitter.com/download/iphone\" r...   \n",
       "\n",
       "                                                text  retweeted_status_id  \\\n",
       "0  This is Phineas. He's a mystical boy. Only eve...                  NaN   \n",
       "\n",
       "   retweeted_status_user_id retweeted_status_timestamp  \\\n",
       "0                       NaN                        NaN   \n",
       "\n",
       "                                       expanded_urls  rating_numerator  \\\n",
       "0  https://twitter.com/dog_rates/status/892420643...                13   \n",
       "\n",
       "   rating_denominator     name doggo floofer pupper puppo  \n",
       "0                  10  Phineas  None    None   None  None  "
      ]
     },
     "execution_count": 43,
     "metadata": {},
     "output_type": "execute_result"
    }
   ],
   "source": [
    "clean_twitter_archive_df.head(1)"
   ]
  },
  {
   "cell_type": "markdown",
   "metadata": {},
   "source": [
    "### Issue #2: Twitter API dataframe and Twitter Archive dataframe should be in same dataframe."
   ]
  },
  {
   "cell_type": "markdown",
   "metadata": {
    "collapsed": true,
    "extensions": {
     "jupyter_dashboards": {
      "version": 1,
      "views": {
       "grid_default": {
        "hidden": true
       },
       "report_default": {
        "hidden": true
       }
      }
     }
    }
   },
   "source": [
    "#### Define\n",
    "Combine clean_tw_api_df and clean_twitter_archive_df using .merge() method"
   ]
  },
  {
   "cell_type": "markdown",
   "metadata": {},
   "source": [
    "#### Code"
   ]
  },
  {
   "cell_type": "code",
   "execution_count": 44,
   "metadata": {},
   "outputs": [],
   "source": [
    "clean_twitter_archive_df = pd.merge(clean_tw_api_df, clean_twitter_archive_df, on='tweet_id')"
   ]
  },
  {
   "cell_type": "markdown",
   "metadata": {},
   "source": [
    "#### Test"
   ]
  },
  {
   "cell_type": "code",
   "execution_count": 45,
   "metadata": {},
   "outputs": [
    {
     "data": {
      "text/html": [
       "<div>\n",
       "<style scoped>\n",
       "    .dataframe tbody tr th:only-of-type {\n",
       "        vertical-align: middle;\n",
       "    }\n",
       "\n",
       "    .dataframe tbody tr th {\n",
       "        vertical-align: top;\n",
       "    }\n",
       "\n",
       "    .dataframe thead th {\n",
       "        text-align: right;\n",
       "    }\n",
       "</style>\n",
       "<table border=\"1\" class=\"dataframe\">\n",
       "  <thead>\n",
       "    <tr style=\"text-align: right;\">\n",
       "      <th></th>\n",
       "      <th>tweet_date</th>\n",
       "      <th>tweet_id</th>\n",
       "      <th>retweeted</th>\n",
       "      <th>favourites_count</th>\n",
       "      <th>in_reply_to_status_id</th>\n",
       "      <th>in_reply_to_user_id</th>\n",
       "      <th>timestamp</th>\n",
       "      <th>source</th>\n",
       "      <th>text</th>\n",
       "      <th>retweeted_status_id</th>\n",
       "      <th>retweeted_status_user_id</th>\n",
       "      <th>retweeted_status_timestamp</th>\n",
       "      <th>expanded_urls</th>\n",
       "      <th>rating_numerator</th>\n",
       "      <th>rating_denominator</th>\n",
       "      <th>name</th>\n",
       "      <th>doggo</th>\n",
       "      <th>floofer</th>\n",
       "      <th>pupper</th>\n",
       "      <th>puppo</th>\n",
       "    </tr>\n",
       "  </thead>\n",
       "  <tbody>\n",
       "    <tr>\n",
       "      <th>0</th>\n",
       "      <td>Tue Aug 01 16:23:56 +0000 2017</td>\n",
       "      <td>892420643555336193</td>\n",
       "      <td>False</td>\n",
       "      <td>NaN</td>\n",
       "      <td>NaN</td>\n",
       "      <td>NaN</td>\n",
       "      <td>2017-08-01 16:23:56 +0000</td>\n",
       "      <td>&lt;a href=\"http://twitter.com/download/iphone\" r...</td>\n",
       "      <td>This is Phineas. He's a mystical boy. Only eve...</td>\n",
       "      <td>NaN</td>\n",
       "      <td>NaN</td>\n",
       "      <td>NaN</td>\n",
       "      <td>https://twitter.com/dog_rates/status/892420643...</td>\n",
       "      <td>13</td>\n",
       "      <td>10</td>\n",
       "      <td>Phineas</td>\n",
       "      <td>None</td>\n",
       "      <td>None</td>\n",
       "      <td>None</td>\n",
       "      <td>None</td>\n",
       "    </tr>\n",
       "    <tr>\n",
       "      <th>1</th>\n",
       "      <td>Tue Aug 01 00:17:27 +0000 2017</td>\n",
       "      <td>892177421306343426</td>\n",
       "      <td>False</td>\n",
       "      <td>NaN</td>\n",
       "      <td>NaN</td>\n",
       "      <td>NaN</td>\n",
       "      <td>2017-08-01 00:17:27 +0000</td>\n",
       "      <td>&lt;a href=\"http://twitter.com/download/iphone\" r...</td>\n",
       "      <td>This is Tilly. She's just checking pup on you....</td>\n",
       "      <td>NaN</td>\n",
       "      <td>NaN</td>\n",
       "      <td>NaN</td>\n",
       "      <td>https://twitter.com/dog_rates/status/892177421...</td>\n",
       "      <td>13</td>\n",
       "      <td>10</td>\n",
       "      <td>Tilly</td>\n",
       "      <td>None</td>\n",
       "      <td>None</td>\n",
       "      <td>None</td>\n",
       "      <td>None</td>\n",
       "    </tr>\n",
       "    <tr>\n",
       "      <th>2</th>\n",
       "      <td>Mon Jul 31 00:18:03 +0000 2017</td>\n",
       "      <td>891815181378084864</td>\n",
       "      <td>False</td>\n",
       "      <td>NaN</td>\n",
       "      <td>NaN</td>\n",
       "      <td>NaN</td>\n",
       "      <td>2017-07-31 00:18:03 +0000</td>\n",
       "      <td>&lt;a href=\"http://twitter.com/download/iphone\" r...</td>\n",
       "      <td>This is Archie. He is a rare Norwegian Pouncin...</td>\n",
       "      <td>NaN</td>\n",
       "      <td>NaN</td>\n",
       "      <td>NaN</td>\n",
       "      <td>https://twitter.com/dog_rates/status/891815181...</td>\n",
       "      <td>12</td>\n",
       "      <td>10</td>\n",
       "      <td>Archie</td>\n",
       "      <td>None</td>\n",
       "      <td>None</td>\n",
       "      <td>None</td>\n",
       "      <td>None</td>\n",
       "    </tr>\n",
       "    <tr>\n",
       "      <th>3</th>\n",
       "      <td>Sun Jul 30 15:58:51 +0000 2017</td>\n",
       "      <td>891689557279858688</td>\n",
       "      <td>False</td>\n",
       "      <td>NaN</td>\n",
       "      <td>NaN</td>\n",
       "      <td>NaN</td>\n",
       "      <td>2017-07-30 15:58:51 +0000</td>\n",
       "      <td>&lt;a href=\"http://twitter.com/download/iphone\" r...</td>\n",
       "      <td>This is Darla. She commenced a snooze mid meal...</td>\n",
       "      <td>NaN</td>\n",
       "      <td>NaN</td>\n",
       "      <td>NaN</td>\n",
       "      <td>https://twitter.com/dog_rates/status/891689557...</td>\n",
       "      <td>13</td>\n",
       "      <td>10</td>\n",
       "      <td>Darla</td>\n",
       "      <td>None</td>\n",
       "      <td>None</td>\n",
       "      <td>None</td>\n",
       "      <td>None</td>\n",
       "    </tr>\n",
       "    <tr>\n",
       "      <th>4</th>\n",
       "      <td>Sat Jul 29 16:00:24 +0000 2017</td>\n",
       "      <td>891327558926688256</td>\n",
       "      <td>False</td>\n",
       "      <td>NaN</td>\n",
       "      <td>NaN</td>\n",
       "      <td>NaN</td>\n",
       "      <td>2017-07-29 16:00:24 +0000</td>\n",
       "      <td>&lt;a href=\"http://twitter.com/download/iphone\" r...</td>\n",
       "      <td>This is Franklin. He would like you to stop ca...</td>\n",
       "      <td>NaN</td>\n",
       "      <td>NaN</td>\n",
       "      <td>NaN</td>\n",
       "      <td>https://twitter.com/dog_rates/status/891327558...</td>\n",
       "      <td>12</td>\n",
       "      <td>10</td>\n",
       "      <td>Franklin</td>\n",
       "      <td>None</td>\n",
       "      <td>None</td>\n",
       "      <td>None</td>\n",
       "      <td>None</td>\n",
       "    </tr>\n",
       "  </tbody>\n",
       "</table>\n",
       "</div>"
      ],
      "text/plain": [
       "                       tweet_date            tweet_id  retweeted  \\\n",
       "0  Tue Aug 01 16:23:56 +0000 2017  892420643555336193      False   \n",
       "1  Tue Aug 01 00:17:27 +0000 2017  892177421306343426      False   \n",
       "2  Mon Jul 31 00:18:03 +0000 2017  891815181378084864      False   \n",
       "3  Sun Jul 30 15:58:51 +0000 2017  891689557279858688      False   \n",
       "4  Sat Jul 29 16:00:24 +0000 2017  891327558926688256      False   \n",
       "\n",
       "   favourites_count  in_reply_to_status_id  in_reply_to_user_id  \\\n",
       "0               NaN                    NaN                  NaN   \n",
       "1               NaN                    NaN                  NaN   \n",
       "2               NaN                    NaN                  NaN   \n",
       "3               NaN                    NaN                  NaN   \n",
       "4               NaN                    NaN                  NaN   \n",
       "\n",
       "                   timestamp  \\\n",
       "0  2017-08-01 16:23:56 +0000   \n",
       "1  2017-08-01 00:17:27 +0000   \n",
       "2  2017-07-31 00:18:03 +0000   \n",
       "3  2017-07-30 15:58:51 +0000   \n",
       "4  2017-07-29 16:00:24 +0000   \n",
       "\n",
       "                                              source  \\\n",
       "0  <a href=\"http://twitter.com/download/iphone\" r...   \n",
       "1  <a href=\"http://twitter.com/download/iphone\" r...   \n",
       "2  <a href=\"http://twitter.com/download/iphone\" r...   \n",
       "3  <a href=\"http://twitter.com/download/iphone\" r...   \n",
       "4  <a href=\"http://twitter.com/download/iphone\" r...   \n",
       "\n",
       "                                                text  retweeted_status_id  \\\n",
       "0  This is Phineas. He's a mystical boy. Only eve...                  NaN   \n",
       "1  This is Tilly. She's just checking pup on you....                  NaN   \n",
       "2  This is Archie. He is a rare Norwegian Pouncin...                  NaN   \n",
       "3  This is Darla. She commenced a snooze mid meal...                  NaN   \n",
       "4  This is Franklin. He would like you to stop ca...                  NaN   \n",
       "\n",
       "   retweeted_status_user_id retweeted_status_timestamp  \\\n",
       "0                       NaN                        NaN   \n",
       "1                       NaN                        NaN   \n",
       "2                       NaN                        NaN   \n",
       "3                       NaN                        NaN   \n",
       "4                       NaN                        NaN   \n",
       "\n",
       "                                       expanded_urls  rating_numerator  \\\n",
       "0  https://twitter.com/dog_rates/status/892420643...                13   \n",
       "1  https://twitter.com/dog_rates/status/892177421...                13   \n",
       "2  https://twitter.com/dog_rates/status/891815181...                12   \n",
       "3  https://twitter.com/dog_rates/status/891689557...                13   \n",
       "4  https://twitter.com/dog_rates/status/891327558...                12   \n",
       "\n",
       "   rating_denominator      name doggo floofer pupper puppo  \n",
       "0                  10   Phineas  None    None   None  None  \n",
       "1                  10     Tilly  None    None   None  None  \n",
       "2                  10    Archie  None    None   None  None  \n",
       "3                  10     Darla  None    None   None  None  \n",
       "4                  10  Franklin  None    None   None  None  "
      ]
     },
     "execution_count": 45,
     "metadata": {},
     "output_type": "execute_result"
    }
   ],
   "source": [
    "clean_twitter_archive_df.head()"
   ]
  },
  {
   "cell_type": "markdown",
   "metadata": {},
   "source": [
    "### Issue #3: A single column for kind of dog instead of four different columns"
   ]
  },
  {
   "cell_type": "markdown",
   "metadata": {
    "collapsed": true,
    "extensions": {
     "jupyter_dashboards": {
      "version": 1,
      "views": {
       "grid_default": {
        "hidden": true
       },
       "report_default": {
        "hidden": true
       }
      }
     }
    }
   },
   "source": [
    "#### Define"
   ]
  },
  {
   "cell_type": "markdown",
   "metadata": {},
   "source": [
    "Create a seperate column for kind of dog and remove the useless columns with this respect."
   ]
  },
  {
   "cell_type": "markdown",
   "metadata": {},
   "source": [
    "#### Code"
   ]
  },
  {
   "cell_type": "code",
   "execution_count": 46,
   "metadata": {},
   "outputs": [],
   "source": [
    "# Create a list of dog 'kind' based on values in respetive columns\n",
    "stages_list = []\n",
    "\n",
    "for i in range(clean_twitter_archive_df.shape[0]):\n",
    "    x = 0\n",
    "    if clean_twitter_archive_df.doggo[i] != 'None':\n",
    "        x += 1\n",
    "    if clean_twitter_archive_df.floofer[i] != 'None':\n",
    "        x += 1\n",
    "    if clean_twitter_archive_df.pupper[i] != 'None':\n",
    "        x += 1\n",
    "    if clean_twitter_archive_df.puppo[i] != 'None':\n",
    "        x += 1\n",
    "    if x == 0:\n",
    "        stages_list.append('not_availabe')\n",
    "    if x > 1:\n",
    "        stages_list.append('multiple_entries')\n",
    "    if x == 1:\n",
    "        if clean_twitter_archive_df.doggo[i] == 'doggo': \n",
    "            stages_list.append('doggo')\n",
    "        if clean_twitter_archive_df.floofer[i] == 'floofer':\n",
    "            stages_list.append('floofer')\n",
    "        if clean_twitter_archive_df.pupper[i] == 'pupper':\n",
    "            stages_list.append('pupper')\n",
    "        if clean_twitter_archive_df.puppo[i] == 'puppo':\n",
    "            stages_list.append('puppo')"
   ]
  },
  {
   "cell_type": "code",
   "execution_count": 47,
   "metadata": {},
   "outputs": [],
   "source": [
    "# Convert list into numpy array\n",
    "stages_list = np.array(stages_list)"
   ]
  },
  {
   "cell_type": "code",
   "execution_count": 48,
   "metadata": {},
   "outputs": [],
   "source": [
    "# Add the this array to Twitter Archive dataframe\n",
    "clean_twitter_archive_df['stage'] = stages_list"
   ]
  },
  {
   "cell_type": "code",
   "execution_count": 49,
   "metadata": {},
   "outputs": [],
   "source": [
    "# Remove useless columns for dog 'kind'\n",
    "clean_twitter_archive_df = clean_twitter_archive_df.drop(['doggo','floofer','pupper','puppo'],axis=1)"
   ]
  },
  {
   "cell_type": "markdown",
   "metadata": {},
   "source": [
    "#### Test"
   ]
  },
  {
   "cell_type": "code",
   "execution_count": 50,
   "metadata": {},
   "outputs": [
    {
     "data": {
      "text/html": [
       "<div>\n",
       "<style scoped>\n",
       "    .dataframe tbody tr th:only-of-type {\n",
       "        vertical-align: middle;\n",
       "    }\n",
       "\n",
       "    .dataframe tbody tr th {\n",
       "        vertical-align: top;\n",
       "    }\n",
       "\n",
       "    .dataframe thead th {\n",
       "        text-align: right;\n",
       "    }\n",
       "</style>\n",
       "<table border=\"1\" class=\"dataframe\">\n",
       "  <thead>\n",
       "    <tr style=\"text-align: right;\">\n",
       "      <th></th>\n",
       "      <th>tweet_date</th>\n",
       "      <th>tweet_id</th>\n",
       "      <th>retweeted</th>\n",
       "      <th>favourites_count</th>\n",
       "      <th>in_reply_to_status_id</th>\n",
       "      <th>in_reply_to_user_id</th>\n",
       "      <th>timestamp</th>\n",
       "      <th>source</th>\n",
       "      <th>text</th>\n",
       "      <th>retweeted_status_id</th>\n",
       "      <th>retweeted_status_user_id</th>\n",
       "      <th>retweeted_status_timestamp</th>\n",
       "      <th>expanded_urls</th>\n",
       "      <th>rating_numerator</th>\n",
       "      <th>rating_denominator</th>\n",
       "      <th>name</th>\n",
       "      <th>stage</th>\n",
       "    </tr>\n",
       "  </thead>\n",
       "  <tbody>\n",
       "    <tr>\n",
       "      <th>1276</th>\n",
       "      <td>Sun Mar 13 03:13:29 +0000 2016</td>\n",
       "      <td>708853462201716736</td>\n",
       "      <td>False</td>\n",
       "      <td>NaN</td>\n",
       "      <td>NaN</td>\n",
       "      <td>NaN</td>\n",
       "      <td>2016-03-13 03:13:29 +0000</td>\n",
       "      <td>&lt;a href=\"http://vine.co\" rel=\"nofollow\"&gt;Vine -...</td>\n",
       "      <td>This is Lucy. She doesn't understand fetch. 8/...</td>\n",
       "      <td>NaN</td>\n",
       "      <td>NaN</td>\n",
       "      <td>NaN</td>\n",
       "      <td>https://vine.co/v/iHl2UDEBZ95</td>\n",
       "      <td>8</td>\n",
       "      <td>10</td>\n",
       "      <td>Lucy</td>\n",
       "      <td>not_availabe</td>\n",
       "    </tr>\n",
       "    <tr>\n",
       "      <th>1677</th>\n",
       "      <td>Wed Dec 30 02:54:35 +0000 2015</td>\n",
       "      <td>682032003584274432</td>\n",
       "      <td>False</td>\n",
       "      <td>NaN</td>\n",
       "      <td>NaN</td>\n",
       "      <td>NaN</td>\n",
       "      <td>2015-12-30 02:54:35 +0000</td>\n",
       "      <td>&lt;a href=\"http://twitter.com/download/iphone\" r...</td>\n",
       "      <td>This is Ulysses. He likes holding hands and hi...</td>\n",
       "      <td>NaN</td>\n",
       "      <td>NaN</td>\n",
       "      <td>NaN</td>\n",
       "      <td>https://twitter.com/dog_rates/status/682032003...</td>\n",
       "      <td>11</td>\n",
       "      <td>10</td>\n",
       "      <td>Ulysses</td>\n",
       "      <td>not_availabe</td>\n",
       "    </tr>\n",
       "    <tr>\n",
       "      <th>690</th>\n",
       "      <td>Sat Oct 15 16:01:13 +0000 2016</td>\n",
       "      <td>787322443945877504</td>\n",
       "      <td>False</td>\n",
       "      <td>NaN</td>\n",
       "      <td>NaN</td>\n",
       "      <td>NaN</td>\n",
       "      <td>2016-10-15 16:01:13 +0000</td>\n",
       "      <td>&lt;a href=\"http://twitter.com/download/iphone\" r...</td>\n",
       "      <td>This is Lincoln. He forgot to use his blinker ...</td>\n",
       "      <td>NaN</td>\n",
       "      <td>NaN</td>\n",
       "      <td>NaN</td>\n",
       "      <td>https://twitter.com/dog_rates/status/787322443...</td>\n",
       "      <td>10</td>\n",
       "      <td>10</td>\n",
       "      <td>Lincoln</td>\n",
       "      <td>not_availabe</td>\n",
       "    </tr>\n",
       "    <tr>\n",
       "      <th>243</th>\n",
       "      <td>Sun Mar 26 16:55:29 +0000 2017</td>\n",
       "      <td>846042936437604353</td>\n",
       "      <td>False</td>\n",
       "      <td>NaN</td>\n",
       "      <td>NaN</td>\n",
       "      <td>NaN</td>\n",
       "      <td>2017-03-26 16:55:29 +0000</td>\n",
       "      <td>&lt;a href=\"http://twitter.com/download/iphone\" r...</td>\n",
       "      <td>Meet Jarvis. The snow pupsets him. Officially ...</td>\n",
       "      <td>NaN</td>\n",
       "      <td>NaN</td>\n",
       "      <td>NaN</td>\n",
       "      <td>https://twitter.com/dog_rates/status/846042936...</td>\n",
       "      <td>12</td>\n",
       "      <td>10</td>\n",
       "      <td>Jarvis</td>\n",
       "      <td>not_availabe</td>\n",
       "    </tr>\n",
       "    <tr>\n",
       "      <th>379</th>\n",
       "      <td>Fri Feb 03 19:31:54 +0000 2017</td>\n",
       "      <td>827600520311402496</td>\n",
       "      <td>False</td>\n",
       "      <td>NaN</td>\n",
       "      <td>NaN</td>\n",
       "      <td>NaN</td>\n",
       "      <td>2017-02-03 19:31:54 +0000</td>\n",
       "      <td>&lt;a href=\"http://twitter.com/download/iphone\" r...</td>\n",
       "      <td>Meet Tucker. It's his birthday. He's pupset wi...</td>\n",
       "      <td>NaN</td>\n",
       "      <td>NaN</td>\n",
       "      <td>NaN</td>\n",
       "      <td>https://twitter.com/dog_rates/status/827600520...</td>\n",
       "      <td>13</td>\n",
       "      <td>10</td>\n",
       "      <td>Tucker</td>\n",
       "      <td>not_availabe</td>\n",
       "    </tr>\n",
       "  </tbody>\n",
       "</table>\n",
       "</div>"
      ],
      "text/plain": [
       "                          tweet_date            tweet_id  retweeted  \\\n",
       "1276  Sun Mar 13 03:13:29 +0000 2016  708853462201716736      False   \n",
       "1677  Wed Dec 30 02:54:35 +0000 2015  682032003584274432      False   \n",
       "690   Sat Oct 15 16:01:13 +0000 2016  787322443945877504      False   \n",
       "243   Sun Mar 26 16:55:29 +0000 2017  846042936437604353      False   \n",
       "379   Fri Feb 03 19:31:54 +0000 2017  827600520311402496      False   \n",
       "\n",
       "      favourites_count  in_reply_to_status_id  in_reply_to_user_id  \\\n",
       "1276               NaN                    NaN                  NaN   \n",
       "1677               NaN                    NaN                  NaN   \n",
       "690                NaN                    NaN                  NaN   \n",
       "243                NaN                    NaN                  NaN   \n",
       "379                NaN                    NaN                  NaN   \n",
       "\n",
       "                      timestamp  \\\n",
       "1276  2016-03-13 03:13:29 +0000   \n",
       "1677  2015-12-30 02:54:35 +0000   \n",
       "690   2016-10-15 16:01:13 +0000   \n",
       "243   2017-03-26 16:55:29 +0000   \n",
       "379   2017-02-03 19:31:54 +0000   \n",
       "\n",
       "                                                 source  \\\n",
       "1276  <a href=\"http://vine.co\" rel=\"nofollow\">Vine -...   \n",
       "1677  <a href=\"http://twitter.com/download/iphone\" r...   \n",
       "690   <a href=\"http://twitter.com/download/iphone\" r...   \n",
       "243   <a href=\"http://twitter.com/download/iphone\" r...   \n",
       "379   <a href=\"http://twitter.com/download/iphone\" r...   \n",
       "\n",
       "                                                   text  retweeted_status_id  \\\n",
       "1276  This is Lucy. She doesn't understand fetch. 8/...                  NaN   \n",
       "1677  This is Ulysses. He likes holding hands and hi...                  NaN   \n",
       "690   This is Lincoln. He forgot to use his blinker ...                  NaN   \n",
       "243   Meet Jarvis. The snow pupsets him. Officially ...                  NaN   \n",
       "379   Meet Tucker. It's his birthday. He's pupset wi...                  NaN   \n",
       "\n",
       "      retweeted_status_user_id retweeted_status_timestamp  \\\n",
       "1276                       NaN                        NaN   \n",
       "1677                       NaN                        NaN   \n",
       "690                        NaN                        NaN   \n",
       "243                        NaN                        NaN   \n",
       "379                        NaN                        NaN   \n",
       "\n",
       "                                          expanded_urls  rating_numerator  \\\n",
       "1276                      https://vine.co/v/iHl2UDEBZ95                 8   \n",
       "1677  https://twitter.com/dog_rates/status/682032003...                11   \n",
       "690   https://twitter.com/dog_rates/status/787322443...                10   \n",
       "243   https://twitter.com/dog_rates/status/846042936...                12   \n",
       "379   https://twitter.com/dog_rates/status/827600520...                13   \n",
       "\n",
       "      rating_denominator     name         stage  \n",
       "1276                  10     Lucy  not_availabe  \n",
       "1677                  10  Ulysses  not_availabe  \n",
       "690                   10  Lincoln  not_availabe  \n",
       "243                   10   Jarvis  not_availabe  \n",
       "379                   10   Tucker  not_availabe  "
      ]
     },
     "execution_count": 50,
     "metadata": {},
     "output_type": "execute_result"
    }
   ],
   "source": [
    "clean_twitter_archive_df.sample(5)"
   ]
  },
  {
   "cell_type": "code",
   "execution_count": 51,
   "metadata": {},
   "outputs": [
    {
     "data": {
      "text/html": [
       "<div>\n",
       "<style scoped>\n",
       "    .dataframe tbody tr th:only-of-type {\n",
       "        vertical-align: middle;\n",
       "    }\n",
       "\n",
       "    .dataframe tbody tr th {\n",
       "        vertical-align: top;\n",
       "    }\n",
       "\n",
       "    .dataframe thead th {\n",
       "        text-align: right;\n",
       "    }\n",
       "</style>\n",
       "<table border=\"1\" class=\"dataframe\">\n",
       "  <thead>\n",
       "    <tr style=\"text-align: right;\">\n",
       "      <th></th>\n",
       "      <th>tweet_date</th>\n",
       "      <th>tweet_id</th>\n",
       "      <th>retweeted</th>\n",
       "      <th>favourites_count</th>\n",
       "      <th>in_reply_to_status_id</th>\n",
       "      <th>in_reply_to_user_id</th>\n",
       "      <th>timestamp</th>\n",
       "      <th>source</th>\n",
       "      <th>text</th>\n",
       "      <th>retweeted_status_id</th>\n",
       "      <th>retweeted_status_user_id</th>\n",
       "      <th>retweeted_status_timestamp</th>\n",
       "      <th>expanded_urls</th>\n",
       "      <th>rating_numerator</th>\n",
       "      <th>rating_denominator</th>\n",
       "      <th>name</th>\n",
       "      <th>stage</th>\n",
       "    </tr>\n",
       "  </thead>\n",
       "  <tbody>\n",
       "    <tr>\n",
       "      <th>2037</th>\n",
       "      <td>Tue Dec 01 04:33:59 +0000 2015</td>\n",
       "      <td>671547767500775424</td>\n",
       "      <td>False</td>\n",
       "      <td>NaN</td>\n",
       "      <td>NaN</td>\n",
       "      <td>NaN</td>\n",
       "      <td>2015-12-01 04:33:59 +0000</td>\n",
       "      <td>&lt;a href=\"http://twitter.com/download/iphone\" r...</td>\n",
       "      <td>This is Marley. She chews shoes then feels ext...</td>\n",
       "      <td>NaN</td>\n",
       "      <td>NaN</td>\n",
       "      <td>NaN</td>\n",
       "      <td>https://twitter.com/dog_rates/status/671547767...</td>\n",
       "      <td>10</td>\n",
       "      <td>10</td>\n",
       "      <td>Marley</td>\n",
       "      <td>not_availabe</td>\n",
       "    </tr>\n",
       "  </tbody>\n",
       "</table>\n",
       "</div>"
      ],
      "text/plain": [
       "                          tweet_date            tweet_id  retweeted  \\\n",
       "2037  Tue Dec 01 04:33:59 +0000 2015  671547767500775424      False   \n",
       "\n",
       "      favourites_count  in_reply_to_status_id  in_reply_to_user_id  \\\n",
       "2037               NaN                    NaN                  NaN   \n",
       "\n",
       "                      timestamp  \\\n",
       "2037  2015-12-01 04:33:59 +0000   \n",
       "\n",
       "                                                 source  \\\n",
       "2037  <a href=\"http://twitter.com/download/iphone\" r...   \n",
       "\n",
       "                                                   text  retweeted_status_id  \\\n",
       "2037  This is Marley. She chews shoes then feels ext...                  NaN   \n",
       "\n",
       "      retweeted_status_user_id retweeted_status_timestamp  \\\n",
       "2037                       NaN                        NaN   \n",
       "\n",
       "                                          expanded_urls  rating_numerator  \\\n",
       "2037  https://twitter.com/dog_rates/status/671547767...                10   \n",
       "\n",
       "      rating_denominator    name         stage  \n",
       "2037                  10  Marley  not_availabe  "
      ]
     },
     "execution_count": 51,
     "metadata": {},
     "output_type": "execute_result"
    }
   ],
   "source": [
    "clean_twitter_archive_df.sample()"
   ]
  },
  {
   "cell_type": "markdown",
   "metadata": {},
   "source": [
    "### Issue #4: For some entries rating denominator is not equal to 10."
   ]
  },
  {
   "cell_type": "markdown",
   "metadata": {
    "collapsed": true,
    "extensions": {
     "jupyter_dashboards": {
      "version": 1,
      "views": {
       "grid_default": {
        "hidden": true
       },
       "report_default": {
        "hidden": true
       }
      }
     }
    }
   },
   "source": [
    "#### Define"
   ]
  },
  {
   "cell_type": "markdown",
   "metadata": {},
   "source": [
    "Query clean_twitter_archive_df where rating_denominator is equal to 10"
   ]
  },
  {
   "cell_type": "markdown",
   "metadata": {},
   "source": [
    "#### Code"
   ]
  },
  {
   "cell_type": "code",
   "execution_count": 52,
   "metadata": {},
   "outputs": [],
   "source": [
    "clean_twitter_archive_df = clean_twitter_archive_df.query('rating_denominator == 10')"
   ]
  },
  {
   "cell_type": "markdown",
   "metadata": {},
   "source": [
    "#### Test"
   ]
  },
  {
   "cell_type": "code",
   "execution_count": 53,
   "metadata": {},
   "outputs": [
    {
     "data": {
      "text/html": [
       "<div>\n",
       "<style scoped>\n",
       "    .dataframe tbody tr th:only-of-type {\n",
       "        vertical-align: middle;\n",
       "    }\n",
       "\n",
       "    .dataframe tbody tr th {\n",
       "        vertical-align: top;\n",
       "    }\n",
       "\n",
       "    .dataframe thead th {\n",
       "        text-align: right;\n",
       "    }\n",
       "</style>\n",
       "<table border=\"1\" class=\"dataframe\">\n",
       "  <thead>\n",
       "    <tr style=\"text-align: right;\">\n",
       "      <th></th>\n",
       "      <th>tweet_date</th>\n",
       "      <th>tweet_id</th>\n",
       "      <th>retweeted</th>\n",
       "      <th>favourites_count</th>\n",
       "      <th>in_reply_to_status_id</th>\n",
       "      <th>in_reply_to_user_id</th>\n",
       "      <th>timestamp</th>\n",
       "      <th>source</th>\n",
       "      <th>text</th>\n",
       "      <th>retweeted_status_id</th>\n",
       "      <th>retweeted_status_user_id</th>\n",
       "      <th>retweeted_status_timestamp</th>\n",
       "      <th>expanded_urls</th>\n",
       "      <th>rating_numerator</th>\n",
       "      <th>rating_denominator</th>\n",
       "      <th>name</th>\n",
       "      <th>stage</th>\n",
       "    </tr>\n",
       "  </thead>\n",
       "  <tbody>\n",
       "  </tbody>\n",
       "</table>\n",
       "</div>"
      ],
      "text/plain": [
       "Empty DataFrame\n",
       "Columns: [tweet_date, tweet_id, retweeted, favourites_count, in_reply_to_status_id, in_reply_to_user_id, timestamp, source, text, retweeted_status_id, retweeted_status_user_id, retweeted_status_timestamp, expanded_urls, rating_numerator, rating_denominator, name, stage]\n",
       "Index: []"
      ]
     },
     "execution_count": 53,
     "metadata": {},
     "output_type": "execute_result"
    }
   ],
   "source": [
    "clean_twitter_archive_df.query('rating_denominator != 10')"
   ]
  },
  {
   "cell_type": "markdown",
   "metadata": {},
   "source": [
    "### Issue #5: For some entries rating numerator is less than rating denominator."
   ]
  },
  {
   "cell_type": "markdown",
   "metadata": {
    "collapsed": true,
    "extensions": {
     "jupyter_dashboards": {
      "version": 1,
      "views": {
       "grid_default": {
        "hidden": true
       },
       "report_default": {
        "hidden": true
       }
      }
     }
    }
   },
   "source": [
    "#### Define"
   ]
  },
  {
   "cell_type": "markdown",
   "metadata": {},
   "source": [
    "Query clean_twitter_archive_df where rating_numerator is greater than or equal to rating_denominator and assign it to the dataframe."
   ]
  },
  {
   "cell_type": "markdown",
   "metadata": {},
   "source": [
    "#### Code"
   ]
  },
  {
   "cell_type": "code",
   "execution_count": 54,
   "metadata": {},
   "outputs": [],
   "source": [
    "clean_twitter_archive_df = clean_twitter_archive_df.query('rating_numerator >= rating_denominator')"
   ]
  },
  {
   "cell_type": "markdown",
   "metadata": {},
   "source": [
    "#### Test"
   ]
  },
  {
   "cell_type": "code",
   "execution_count": 55,
   "metadata": {},
   "outputs": [
    {
     "data": {
      "text/html": [
       "<div>\n",
       "<style scoped>\n",
       "    .dataframe tbody tr th:only-of-type {\n",
       "        vertical-align: middle;\n",
       "    }\n",
       "\n",
       "    .dataframe tbody tr th {\n",
       "        vertical-align: top;\n",
       "    }\n",
       "\n",
       "    .dataframe thead th {\n",
       "        text-align: right;\n",
       "    }\n",
       "</style>\n",
       "<table border=\"1\" class=\"dataframe\">\n",
       "  <thead>\n",
       "    <tr style=\"text-align: right;\">\n",
       "      <th></th>\n",
       "      <th>tweet_date</th>\n",
       "      <th>tweet_id</th>\n",
       "      <th>retweeted</th>\n",
       "      <th>favourites_count</th>\n",
       "      <th>in_reply_to_status_id</th>\n",
       "      <th>in_reply_to_user_id</th>\n",
       "      <th>timestamp</th>\n",
       "      <th>source</th>\n",
       "      <th>text</th>\n",
       "      <th>retweeted_status_id</th>\n",
       "      <th>retweeted_status_user_id</th>\n",
       "      <th>retweeted_status_timestamp</th>\n",
       "      <th>expanded_urls</th>\n",
       "      <th>rating_numerator</th>\n",
       "      <th>rating_denominator</th>\n",
       "      <th>name</th>\n",
       "      <th>stage</th>\n",
       "    </tr>\n",
       "  </thead>\n",
       "  <tbody>\n",
       "    <tr>\n",
       "      <th>0</th>\n",
       "      <td>Tue Aug 01 16:23:56 +0000 2017</td>\n",
       "      <td>892420643555336193</td>\n",
       "      <td>False</td>\n",
       "      <td>NaN</td>\n",
       "      <td>NaN</td>\n",
       "      <td>NaN</td>\n",
       "      <td>2017-08-01 16:23:56 +0000</td>\n",
       "      <td>&lt;a href=\"http://twitter.com/download/iphone\" r...</td>\n",
       "      <td>This is Phineas. He's a mystical boy. Only eve...</td>\n",
       "      <td>NaN</td>\n",
       "      <td>NaN</td>\n",
       "      <td>NaN</td>\n",
       "      <td>https://twitter.com/dog_rates/status/892420643...</td>\n",
       "      <td>13</td>\n",
       "      <td>10</td>\n",
       "      <td>Phineas</td>\n",
       "      <td>not_availabe</td>\n",
       "    </tr>\n",
       "    <tr>\n",
       "      <th>1</th>\n",
       "      <td>Tue Aug 01 00:17:27 +0000 2017</td>\n",
       "      <td>892177421306343426</td>\n",
       "      <td>False</td>\n",
       "      <td>NaN</td>\n",
       "      <td>NaN</td>\n",
       "      <td>NaN</td>\n",
       "      <td>2017-08-01 00:17:27 +0000</td>\n",
       "      <td>&lt;a href=\"http://twitter.com/download/iphone\" r...</td>\n",
       "      <td>This is Tilly. She's just checking pup on you....</td>\n",
       "      <td>NaN</td>\n",
       "      <td>NaN</td>\n",
       "      <td>NaN</td>\n",
       "      <td>https://twitter.com/dog_rates/status/892177421...</td>\n",
       "      <td>13</td>\n",
       "      <td>10</td>\n",
       "      <td>Tilly</td>\n",
       "      <td>not_availabe</td>\n",
       "    </tr>\n",
       "    <tr>\n",
       "      <th>2</th>\n",
       "      <td>Mon Jul 31 00:18:03 +0000 2017</td>\n",
       "      <td>891815181378084864</td>\n",
       "      <td>False</td>\n",
       "      <td>NaN</td>\n",
       "      <td>NaN</td>\n",
       "      <td>NaN</td>\n",
       "      <td>2017-07-31 00:18:03 +0000</td>\n",
       "      <td>&lt;a href=\"http://twitter.com/download/iphone\" r...</td>\n",
       "      <td>This is Archie. He is a rare Norwegian Pouncin...</td>\n",
       "      <td>NaN</td>\n",
       "      <td>NaN</td>\n",
       "      <td>NaN</td>\n",
       "      <td>https://twitter.com/dog_rates/status/891815181...</td>\n",
       "      <td>12</td>\n",
       "      <td>10</td>\n",
       "      <td>Archie</td>\n",
       "      <td>not_availabe</td>\n",
       "    </tr>\n",
       "    <tr>\n",
       "      <th>3</th>\n",
       "      <td>Sun Jul 30 15:58:51 +0000 2017</td>\n",
       "      <td>891689557279858688</td>\n",
       "      <td>False</td>\n",
       "      <td>NaN</td>\n",
       "      <td>NaN</td>\n",
       "      <td>NaN</td>\n",
       "      <td>2017-07-30 15:58:51 +0000</td>\n",
       "      <td>&lt;a href=\"http://twitter.com/download/iphone\" r...</td>\n",
       "      <td>This is Darla. She commenced a snooze mid meal...</td>\n",
       "      <td>NaN</td>\n",
       "      <td>NaN</td>\n",
       "      <td>NaN</td>\n",
       "      <td>https://twitter.com/dog_rates/status/891689557...</td>\n",
       "      <td>13</td>\n",
       "      <td>10</td>\n",
       "      <td>Darla</td>\n",
       "      <td>not_availabe</td>\n",
       "    </tr>\n",
       "    <tr>\n",
       "      <th>4</th>\n",
       "      <td>Sat Jul 29 16:00:24 +0000 2017</td>\n",
       "      <td>891327558926688256</td>\n",
       "      <td>False</td>\n",
       "      <td>NaN</td>\n",
       "      <td>NaN</td>\n",
       "      <td>NaN</td>\n",
       "      <td>2017-07-29 16:00:24 +0000</td>\n",
       "      <td>&lt;a href=\"http://twitter.com/download/iphone\" r...</td>\n",
       "      <td>This is Franklin. He would like you to stop ca...</td>\n",
       "      <td>NaN</td>\n",
       "      <td>NaN</td>\n",
       "      <td>NaN</td>\n",
       "      <td>https://twitter.com/dog_rates/status/891327558...</td>\n",
       "      <td>12</td>\n",
       "      <td>10</td>\n",
       "      <td>Franklin</td>\n",
       "      <td>not_availabe</td>\n",
       "    </tr>\n",
       "  </tbody>\n",
       "</table>\n",
       "</div>"
      ],
      "text/plain": [
       "                       tweet_date            tweet_id  retweeted  \\\n",
       "0  Tue Aug 01 16:23:56 +0000 2017  892420643555336193      False   \n",
       "1  Tue Aug 01 00:17:27 +0000 2017  892177421306343426      False   \n",
       "2  Mon Jul 31 00:18:03 +0000 2017  891815181378084864      False   \n",
       "3  Sun Jul 30 15:58:51 +0000 2017  891689557279858688      False   \n",
       "4  Sat Jul 29 16:00:24 +0000 2017  891327558926688256      False   \n",
       "\n",
       "   favourites_count  in_reply_to_status_id  in_reply_to_user_id  \\\n",
       "0               NaN                    NaN                  NaN   \n",
       "1               NaN                    NaN                  NaN   \n",
       "2               NaN                    NaN                  NaN   \n",
       "3               NaN                    NaN                  NaN   \n",
       "4               NaN                    NaN                  NaN   \n",
       "\n",
       "                   timestamp  \\\n",
       "0  2017-08-01 16:23:56 +0000   \n",
       "1  2017-08-01 00:17:27 +0000   \n",
       "2  2017-07-31 00:18:03 +0000   \n",
       "3  2017-07-30 15:58:51 +0000   \n",
       "4  2017-07-29 16:00:24 +0000   \n",
       "\n",
       "                                              source  \\\n",
       "0  <a href=\"http://twitter.com/download/iphone\" r...   \n",
       "1  <a href=\"http://twitter.com/download/iphone\" r...   \n",
       "2  <a href=\"http://twitter.com/download/iphone\" r...   \n",
       "3  <a href=\"http://twitter.com/download/iphone\" r...   \n",
       "4  <a href=\"http://twitter.com/download/iphone\" r...   \n",
       "\n",
       "                                                text  retweeted_status_id  \\\n",
       "0  This is Phineas. He's a mystical boy. Only eve...                  NaN   \n",
       "1  This is Tilly. She's just checking pup on you....                  NaN   \n",
       "2  This is Archie. He is a rare Norwegian Pouncin...                  NaN   \n",
       "3  This is Darla. She commenced a snooze mid meal...                  NaN   \n",
       "4  This is Franklin. He would like you to stop ca...                  NaN   \n",
       "\n",
       "   retweeted_status_user_id retweeted_status_timestamp  \\\n",
       "0                       NaN                        NaN   \n",
       "1                       NaN                        NaN   \n",
       "2                       NaN                        NaN   \n",
       "3                       NaN                        NaN   \n",
       "4                       NaN                        NaN   \n",
       "\n",
       "                                       expanded_urls  rating_numerator  \\\n",
       "0  https://twitter.com/dog_rates/status/892420643...                13   \n",
       "1  https://twitter.com/dog_rates/status/892177421...                13   \n",
       "2  https://twitter.com/dog_rates/status/891815181...                12   \n",
       "3  https://twitter.com/dog_rates/status/891689557...                13   \n",
       "4  https://twitter.com/dog_rates/status/891327558...                12   \n",
       "\n",
       "   rating_denominator      name         stage  \n",
       "0                  10   Phineas  not_availabe  \n",
       "1                  10     Tilly  not_availabe  \n",
       "2                  10    Archie  not_availabe  \n",
       "3                  10     Darla  not_availabe  \n",
       "4                  10  Franklin  not_availabe  "
      ]
     },
     "execution_count": 55,
     "metadata": {},
     "output_type": "execute_result"
    }
   ],
   "source": [
    "clean_twitter_archive_df.head()"
   ]
  },
  {
   "cell_type": "markdown",
   "metadata": {},
   "source": [
    "### Issue #6: A seperate column for the rating (numerator rating / denominator rating) for comparision"
   ]
  },
  {
   "cell_type": "markdown",
   "metadata": {
    "collapsed": true,
    "extensions": {
     "jupyter_dashboards": {
      "version": 1,
      "views": {
       "grid_default": {
        "hidden": true
       },
       "report_default": {
        "hidden": true
       }
      }
     }
    }
   },
   "source": [
    "#### Define"
   ]
  },
  {
   "cell_type": "markdown",
   "metadata": {},
   "source": [
    "Create a new column which contains rate_numerator values divided by rate_denominator values for each entry."
   ]
  },
  {
   "cell_type": "markdown",
   "metadata": {},
   "source": [
    "#### Code"
   ]
  },
  {
   "cell_type": "code",
   "execution_count": 56,
   "metadata": {},
   "outputs": [],
   "source": [
    "clean_twitter_archive_df['rating'] = clean_twitter_archive_df['rating_numerator']/clean_twitter_archive_df['rating_denominator']"
   ]
  },
  {
   "cell_type": "markdown",
   "metadata": {},
   "source": [
    "#### Test"
   ]
  },
  {
   "cell_type": "code",
   "execution_count": 57,
   "metadata": {},
   "outputs": [
    {
     "data": {
      "text/html": [
       "<div>\n",
       "<style scoped>\n",
       "    .dataframe tbody tr th:only-of-type {\n",
       "        vertical-align: middle;\n",
       "    }\n",
       "\n",
       "    .dataframe tbody tr th {\n",
       "        vertical-align: top;\n",
       "    }\n",
       "\n",
       "    .dataframe thead th {\n",
       "        text-align: right;\n",
       "    }\n",
       "</style>\n",
       "<table border=\"1\" class=\"dataframe\">\n",
       "  <thead>\n",
       "    <tr style=\"text-align: right;\">\n",
       "      <th></th>\n",
       "      <th>tweet_date</th>\n",
       "      <th>tweet_id</th>\n",
       "      <th>retweeted</th>\n",
       "      <th>favourites_count</th>\n",
       "      <th>in_reply_to_status_id</th>\n",
       "      <th>in_reply_to_user_id</th>\n",
       "      <th>timestamp</th>\n",
       "      <th>source</th>\n",
       "      <th>text</th>\n",
       "      <th>retweeted_status_id</th>\n",
       "      <th>retweeted_status_user_id</th>\n",
       "      <th>retweeted_status_timestamp</th>\n",
       "      <th>expanded_urls</th>\n",
       "      <th>rating_numerator</th>\n",
       "      <th>rating_denominator</th>\n",
       "      <th>name</th>\n",
       "      <th>stage</th>\n",
       "      <th>rating</th>\n",
       "    </tr>\n",
       "  </thead>\n",
       "  <tbody>\n",
       "    <tr>\n",
       "      <th>0</th>\n",
       "      <td>Tue Aug 01 16:23:56 +0000 2017</td>\n",
       "      <td>892420643555336193</td>\n",
       "      <td>False</td>\n",
       "      <td>NaN</td>\n",
       "      <td>NaN</td>\n",
       "      <td>NaN</td>\n",
       "      <td>2017-08-01 16:23:56 +0000</td>\n",
       "      <td>&lt;a href=\"http://twitter.com/download/iphone\" r...</td>\n",
       "      <td>This is Phineas. He's a mystical boy. Only eve...</td>\n",
       "      <td>NaN</td>\n",
       "      <td>NaN</td>\n",
       "      <td>NaN</td>\n",
       "      <td>https://twitter.com/dog_rates/status/892420643...</td>\n",
       "      <td>13</td>\n",
       "      <td>10</td>\n",
       "      <td>Phineas</td>\n",
       "      <td>not_availabe</td>\n",
       "      <td>1.3</td>\n",
       "    </tr>\n",
       "    <tr>\n",
       "      <th>1</th>\n",
       "      <td>Tue Aug 01 00:17:27 +0000 2017</td>\n",
       "      <td>892177421306343426</td>\n",
       "      <td>False</td>\n",
       "      <td>NaN</td>\n",
       "      <td>NaN</td>\n",
       "      <td>NaN</td>\n",
       "      <td>2017-08-01 00:17:27 +0000</td>\n",
       "      <td>&lt;a href=\"http://twitter.com/download/iphone\" r...</td>\n",
       "      <td>This is Tilly. She's just checking pup on you....</td>\n",
       "      <td>NaN</td>\n",
       "      <td>NaN</td>\n",
       "      <td>NaN</td>\n",
       "      <td>https://twitter.com/dog_rates/status/892177421...</td>\n",
       "      <td>13</td>\n",
       "      <td>10</td>\n",
       "      <td>Tilly</td>\n",
       "      <td>not_availabe</td>\n",
       "      <td>1.3</td>\n",
       "    </tr>\n",
       "    <tr>\n",
       "      <th>2</th>\n",
       "      <td>Mon Jul 31 00:18:03 +0000 2017</td>\n",
       "      <td>891815181378084864</td>\n",
       "      <td>False</td>\n",
       "      <td>NaN</td>\n",
       "      <td>NaN</td>\n",
       "      <td>NaN</td>\n",
       "      <td>2017-07-31 00:18:03 +0000</td>\n",
       "      <td>&lt;a href=\"http://twitter.com/download/iphone\" r...</td>\n",
       "      <td>This is Archie. He is a rare Norwegian Pouncin...</td>\n",
       "      <td>NaN</td>\n",
       "      <td>NaN</td>\n",
       "      <td>NaN</td>\n",
       "      <td>https://twitter.com/dog_rates/status/891815181...</td>\n",
       "      <td>12</td>\n",
       "      <td>10</td>\n",
       "      <td>Archie</td>\n",
       "      <td>not_availabe</td>\n",
       "      <td>1.2</td>\n",
       "    </tr>\n",
       "    <tr>\n",
       "      <th>3</th>\n",
       "      <td>Sun Jul 30 15:58:51 +0000 2017</td>\n",
       "      <td>891689557279858688</td>\n",
       "      <td>False</td>\n",
       "      <td>NaN</td>\n",
       "      <td>NaN</td>\n",
       "      <td>NaN</td>\n",
       "      <td>2017-07-30 15:58:51 +0000</td>\n",
       "      <td>&lt;a href=\"http://twitter.com/download/iphone\" r...</td>\n",
       "      <td>This is Darla. She commenced a snooze mid meal...</td>\n",
       "      <td>NaN</td>\n",
       "      <td>NaN</td>\n",
       "      <td>NaN</td>\n",
       "      <td>https://twitter.com/dog_rates/status/891689557...</td>\n",
       "      <td>13</td>\n",
       "      <td>10</td>\n",
       "      <td>Darla</td>\n",
       "      <td>not_availabe</td>\n",
       "      <td>1.3</td>\n",
       "    </tr>\n",
       "    <tr>\n",
       "      <th>4</th>\n",
       "      <td>Sat Jul 29 16:00:24 +0000 2017</td>\n",
       "      <td>891327558926688256</td>\n",
       "      <td>False</td>\n",
       "      <td>NaN</td>\n",
       "      <td>NaN</td>\n",
       "      <td>NaN</td>\n",
       "      <td>2017-07-29 16:00:24 +0000</td>\n",
       "      <td>&lt;a href=\"http://twitter.com/download/iphone\" r...</td>\n",
       "      <td>This is Franklin. He would like you to stop ca...</td>\n",
       "      <td>NaN</td>\n",
       "      <td>NaN</td>\n",
       "      <td>NaN</td>\n",
       "      <td>https://twitter.com/dog_rates/status/891327558...</td>\n",
       "      <td>12</td>\n",
       "      <td>10</td>\n",
       "      <td>Franklin</td>\n",
       "      <td>not_availabe</td>\n",
       "      <td>1.2</td>\n",
       "    </tr>\n",
       "  </tbody>\n",
       "</table>\n",
       "</div>"
      ],
      "text/plain": [
       "                       tweet_date            tweet_id  retweeted  \\\n",
       "0  Tue Aug 01 16:23:56 +0000 2017  892420643555336193      False   \n",
       "1  Tue Aug 01 00:17:27 +0000 2017  892177421306343426      False   \n",
       "2  Mon Jul 31 00:18:03 +0000 2017  891815181378084864      False   \n",
       "3  Sun Jul 30 15:58:51 +0000 2017  891689557279858688      False   \n",
       "4  Sat Jul 29 16:00:24 +0000 2017  891327558926688256      False   \n",
       "\n",
       "   favourites_count  in_reply_to_status_id  in_reply_to_user_id  \\\n",
       "0               NaN                    NaN                  NaN   \n",
       "1               NaN                    NaN                  NaN   \n",
       "2               NaN                    NaN                  NaN   \n",
       "3               NaN                    NaN                  NaN   \n",
       "4               NaN                    NaN                  NaN   \n",
       "\n",
       "                   timestamp  \\\n",
       "0  2017-08-01 16:23:56 +0000   \n",
       "1  2017-08-01 00:17:27 +0000   \n",
       "2  2017-07-31 00:18:03 +0000   \n",
       "3  2017-07-30 15:58:51 +0000   \n",
       "4  2017-07-29 16:00:24 +0000   \n",
       "\n",
       "                                              source  \\\n",
       "0  <a href=\"http://twitter.com/download/iphone\" r...   \n",
       "1  <a href=\"http://twitter.com/download/iphone\" r...   \n",
       "2  <a href=\"http://twitter.com/download/iphone\" r...   \n",
       "3  <a href=\"http://twitter.com/download/iphone\" r...   \n",
       "4  <a href=\"http://twitter.com/download/iphone\" r...   \n",
       "\n",
       "                                                text  retweeted_status_id  \\\n",
       "0  This is Phineas. He's a mystical boy. Only eve...                  NaN   \n",
       "1  This is Tilly. She's just checking pup on you....                  NaN   \n",
       "2  This is Archie. He is a rare Norwegian Pouncin...                  NaN   \n",
       "3  This is Darla. She commenced a snooze mid meal...                  NaN   \n",
       "4  This is Franklin. He would like you to stop ca...                  NaN   \n",
       "\n",
       "   retweeted_status_user_id retweeted_status_timestamp  \\\n",
       "0                       NaN                        NaN   \n",
       "1                       NaN                        NaN   \n",
       "2                       NaN                        NaN   \n",
       "3                       NaN                        NaN   \n",
       "4                       NaN                        NaN   \n",
       "\n",
       "                                       expanded_urls  rating_numerator  \\\n",
       "0  https://twitter.com/dog_rates/status/892420643...                13   \n",
       "1  https://twitter.com/dog_rates/status/892177421...                13   \n",
       "2  https://twitter.com/dog_rates/status/891815181...                12   \n",
       "3  https://twitter.com/dog_rates/status/891689557...                13   \n",
       "4  https://twitter.com/dog_rates/status/891327558...                12   \n",
       "\n",
       "   rating_denominator      name         stage  rating  \n",
       "0                  10   Phineas  not_availabe     1.3  \n",
       "1                  10     Tilly  not_availabe     1.3  \n",
       "2                  10    Archie  not_availabe     1.2  \n",
       "3                  10     Darla  not_availabe     1.3  \n",
       "4                  10  Franklin  not_availabe     1.2  "
      ]
     },
     "execution_count": 57,
     "metadata": {},
     "output_type": "execute_result"
    }
   ],
   "source": [
    "clean_twitter_archive_df.head()"
   ]
  },
  {
   "cell_type": "markdown",
   "metadata": {},
   "source": [
    "### Issue #7: There are 66 duplicate images."
   ]
  },
  {
   "cell_type": "markdown",
   "metadata": {
    "collapsed": true,
    "extensions": {
     "jupyter_dashboards": {
      "version": 1,
      "views": {
       "grid_default": {
        "hidden": true
       },
       "report_default": {
        "hidden": true
       }
      }
     }
    }
   },
   "source": [
    "#### Define"
   ]
  },
  {
   "cell_type": "markdown",
   "metadata": {},
   "source": [
    "Remove the duplicate images using .drop_duplicates() method."
   ]
  },
  {
   "cell_type": "markdown",
   "metadata": {},
   "source": [
    "#### Code"
   ]
  },
  {
   "cell_type": "code",
   "execution_count": 58,
   "metadata": {},
   "outputs": [],
   "source": [
    "clean_image_pred_df = clean_image_pred_df.drop_duplicates(subset='image_url')"
   ]
  },
  {
   "cell_type": "markdown",
   "metadata": {},
   "source": [
    "#### Test"
   ]
  },
  {
   "cell_type": "code",
   "execution_count": 59,
   "metadata": {},
   "outputs": [
    {
     "data": {
      "text/plain": [
       "0"
      ]
     },
     "execution_count": 59,
     "metadata": {},
     "output_type": "execute_result"
    }
   ],
   "source": [
    "clean_image_pred_df.image_url.duplicated().sum()"
   ]
  },
  {
   "cell_type": "markdown",
   "metadata": {},
   "source": [
    "### Issue #8: Dataype of timestamp is incorrect"
   ]
  },
  {
   "cell_type": "markdown",
   "metadata": {
    "collapsed": true,
    "extensions": {
     "jupyter_dashboards": {
      "version": 1,
      "views": {
       "grid_default": {
        "hidden": true
       },
       "report_default": {
        "hidden": true
       }
      }
     }
    }
   },
   "source": [
    "#### Define"
   ]
  },
  {
   "cell_type": "markdown",
   "metadata": {},
   "source": [
    "Use .to_datetime() method of pandas to convert dtype of timestamp from string format"
   ]
  },
  {
   "cell_type": "markdown",
   "metadata": {},
   "source": [
    "#### Code"
   ]
  },
  {
   "cell_type": "code",
   "execution_count": 60,
   "metadata": {},
   "outputs": [],
   "source": [
    "clean_twitter_archive_df['timestamp'] = pd.to_datetime(clean_twitter_archive_df['timestamp'])"
   ]
  },
  {
   "cell_type": "markdown",
   "metadata": {},
   "source": [
    "#### Test"
   ]
  },
  {
   "cell_type": "code",
   "execution_count": 61,
   "metadata": {},
   "outputs": [
    {
     "name": "stdout",
     "output_type": "stream",
     "text": [
      "<class 'pandas.core.frame.DataFrame'>\n",
      "Int64Index: 1897 entries, 0 to 2348\n",
      "Data columns (total 18 columns):\n",
      " #   Column                      Non-Null Count  Dtype              \n",
      "---  ------                      --------------  -----              \n",
      " 0   tweet_date                  1897 non-null   object             \n",
      " 1   tweet_id                    1897 non-null   int64              \n",
      " 2   retweeted                   1897 non-null   bool               \n",
      " 3   favourites_count            0 non-null      float64            \n",
      " 4   in_reply_to_status_id       62 non-null     float64            \n",
      " 5   in_reply_to_user_id         62 non-null     float64            \n",
      " 6   timestamp                   1897 non-null   datetime64[ns, UTC]\n",
      " 7   source                      1897 non-null   object             \n",
      " 8   text                        1897 non-null   object             \n",
      " 9   retweeted_status_id         170 non-null    float64            \n",
      " 10  retweeted_status_user_id    170 non-null    float64            \n",
      " 11  retweeted_status_timestamp  170 non-null    object             \n",
      " 12  expanded_urls               1851 non-null   object             \n",
      " 13  rating_numerator            1897 non-null   int64              \n",
      " 14  rating_denominator          1897 non-null   int64              \n",
      " 15  name                        1897 non-null   object             \n",
      " 16  stage                       1897 non-null   object             \n",
      " 17  rating                      1897 non-null   float64            \n",
      "dtypes: bool(1), datetime64[ns, UTC](1), float64(6), int64(3), object(7)\n",
      "memory usage: 268.6+ KB\n"
     ]
    }
   ],
   "source": [
    "clean_twitter_archive_df.info()"
   ]
  },
  {
   "cell_type": "markdown",
   "metadata": {},
   "source": [
    "### Issue #9:"
   ]
  },
  {
   "cell_type": "markdown",
   "metadata": {
    "collapsed": true,
    "extensions": {
     "jupyter_dashboards": {
      "version": 1,
      "views": {
       "grid_default": {
        "hidden": true
       },
       "report_default": {
        "hidden": true
       }
      }
     }
    }
   },
   "source": [
    "#### Define"
   ]
  },
  {
   "cell_type": "markdown",
   "metadata": {},
   "source": [
    "Query clean_twitter_archive_df dataframe where retweeted_status_id is null."
   ]
  },
  {
   "cell_type": "markdown",
   "metadata": {},
   "source": [
    "#### Code"
   ]
  },
  {
   "cell_type": "code",
   "execution_count": 62,
   "metadata": {},
   "outputs": [],
   "source": [
    "clean_twitter_archive_df = clean_twitter_archive_df[clean_twitter_archive_df['retweeted_status_id'].isnull()]"
   ]
  },
  {
   "cell_type": "markdown",
   "metadata": {},
   "source": [
    "#### Test"
   ]
  },
  {
   "cell_type": "code",
   "execution_count": 63,
   "metadata": {},
   "outputs": [
    {
     "name": "stdout",
     "output_type": "stream",
     "text": [
      "<class 'pandas.core.frame.DataFrame'>\n",
      "Int64Index: 1727 entries, 0 to 2348\n",
      "Data columns (total 18 columns):\n",
      " #   Column                      Non-Null Count  Dtype              \n",
      "---  ------                      --------------  -----              \n",
      " 0   tweet_date                  1727 non-null   object             \n",
      " 1   tweet_id                    1727 non-null   int64              \n",
      " 2   retweeted                   1727 non-null   bool               \n",
      " 3   favourites_count            0 non-null      float64            \n",
      " 4   in_reply_to_status_id       62 non-null     float64            \n",
      " 5   in_reply_to_user_id         62 non-null     float64            \n",
      " 6   timestamp                   1727 non-null   datetime64[ns, UTC]\n",
      " 7   source                      1727 non-null   object             \n",
      " 8   text                        1727 non-null   object             \n",
      " 9   retweeted_status_id         0 non-null      float64            \n",
      " 10  retweeted_status_user_id    0 non-null      float64            \n",
      " 11  retweeted_status_timestamp  0 non-null      object             \n",
      " 12  expanded_urls               1682 non-null   object             \n",
      " 13  rating_numerator            1727 non-null   int64              \n",
      " 14  rating_denominator          1727 non-null   int64              \n",
      " 15  name                        1727 non-null   object             \n",
      " 16  stage                       1727 non-null   object             \n",
      " 17  rating                      1727 non-null   float64            \n",
      "dtypes: bool(1), datetime64[ns, UTC](1), float64(6), int64(3), object(7)\n",
      "memory usage: 244.5+ KB\n"
     ]
    }
   ],
   "source": [
    "clean_twitter_archive_df.info()"
   ]
  },
  {
   "cell_type": "code",
   "execution_count": 64,
   "metadata": {},
   "outputs": [
    {
     "data": {
      "text/plain": [
       "array([nan])"
      ]
     },
     "execution_count": 64,
     "metadata": {},
     "output_type": "execute_result"
    }
   ],
   "source": [
    "clean_twitter_archive_df.retweeted_status_id.unique()"
   ]
  },
  {
   "cell_type": "markdown",
   "metadata": {},
   "source": [
    "### Issue 10#: Some of the predicted items contain underscore between words."
   ]
  },
  {
   "cell_type": "markdown",
   "metadata": {
    "collapsed": true,
    "extensions": {
     "jupyter_dashboards": {
      "version": 1,
      "views": {
       "grid_default": {
        "hidden": true
       },
       "report_default": {
        "hidden": true
       }
      }
     }
    }
   },
   "source": [
    "#### Define"
   ]
  },
  {
   "cell_type": "markdown",
   "metadata": {},
   "source": [
    "In the respective columns, use .replace to replace underscore with blank space"
   ]
  },
  {
   "cell_type": "markdown",
   "metadata": {},
   "source": [
    "#### Code"
   ]
  },
  {
   "cell_type": "code",
   "execution_count": 65,
   "metadata": {},
   "outputs": [],
   "source": [
    "clean_image_pred_df['prediction_1'] = clean_image_pred_df['prediction_1'].str.replace('_',' ')\n",
    "clean_image_pred_df['prediction_2'] = clean_image_pred_df['prediction_2'].str.replace('_',' ')\n",
    "clean_image_pred_df['prediction_3'] = clean_image_pred_df['prediction_3'].str.replace('_',' ')"
   ]
  },
  {
   "cell_type": "markdown",
   "metadata": {},
   "source": [
    "#### Test"
   ]
  },
  {
   "cell_type": "code",
   "execution_count": 66,
   "metadata": {},
   "outputs": [
    {
     "data": {
      "text/plain": [
       "array(['Welsh springer spaniel', 'redbone', 'German shepherd',\n",
       "       'Rhodesian ridgeback', 'miniature pinscher',\n",
       "       'Bernese mountain dog', 'box turtle', 'chow', 'shopping cart',\n",
       "       'miniature poodle', 'golden retriever', 'Gordon setter',\n",
       "       'Walker hound', 'pug', 'bloodhound', 'Lhasa', 'English setter',\n",
       "       'hen', 'desktop computer', 'Italian greyhound', 'Maltese dog',\n",
       "       'three-toed sloth', 'ox', 'malamute', 'guinea pig',\n",
       "       'soft-coated wheaten terrier', 'Chihuahua',\n",
       "       'black-and-tan coonhound', 'coho', 'toy terrier',\n",
       "       'Blenheim spaniel', 'Pembroke', 'llama',\n",
       "       'Chesapeake Bay retriever', 'curly-coated retriever', 'dalmatian',\n",
       "       'Ibizan hound', 'Border collie', 'Labrador retriever', 'seat belt',\n",
       "       'snail', 'miniature schnauzer', 'Airedale', 'triceratops', 'swab',\n",
       "       'hay', 'hyena', 'jigsaw puzzle', 'West Highland white terrier',\n",
       "       'toy poodle', 'giant schnauzer', 'vizsla', 'vacuum', 'Rottweiler',\n",
       "       'Siberian husky', 'teddy', 'papillon', 'Saint Bernard',\n",
       "       'porcupine', 'goose', 'Tibetan terrier', 'borzoi', 'beagle',\n",
       "       'hare', 'Yorkshire terrier', 'Pomeranian', 'electric fan',\n",
       "       'web site', 'ibex', 'kuvasz', 'fire engine', 'lorikeet',\n",
       "       'flat-coated retriever', 'toyshop', 'common iguana',\n",
       "       'Norwegian elkhound', 'frilled lizard', 'leatherback turtle',\n",
       "       'hamster', 'Angora', 'Arctic fox', 'trombone', 'canoe',\n",
       "       'king penguin', 'shopping basket', 'standard poodle',\n",
       "       'Staffordshire bullterrier', 'basenji', 'Lakeland terrier',\n",
       "       'American Staffordshire terrier', 'bearskin', 'Shih-Tzu',\n",
       "       'bustard', 'crash helmet', 'French bulldog', 'Pekinese',\n",
       "       'komondor', 'ski mask', 'malinois', 'kelpie', 'Brittany spaniel',\n",
       "       'cocker spaniel', 'shower curtain', 'basset', 'jellyfish',\n",
       "       'doormat', 'Arabian camel', 'lynx', 'hog', 'comic book', 'minivan',\n",
       "       'seashore', 'cuirass', 'Brabancon griffon', 'candle', 'Eskimo dog',\n",
       "       'weasel', 'Christmas stocking', 'washbasin', 'car mirror',\n",
       "       'piggy bank', 'pot', 'boathouse', 'mud turtle',\n",
       "       'German short-haired pointer', 'Shetland sheepdog',\n",
       "       'Irish terrier', 'cairn', 'platypus', 'English springer',\n",
       "       'whippet', 'ping-pong ball', 'sea urchin', 'bow tie',\n",
       "       'window shade', \"jack-o'-lantern\", 'sorrel', 'Sussex spaniel',\n",
       "       'peacock', 'axolotl', 'wool', 'banana', 'Dandie Dinmont',\n",
       "       'Norwich terrier', 'wood rabbit', 'dhole', 'keeshond',\n",
       "       'Norfolk terrier', 'lacewing', 'dingo', 'brown bear',\n",
       "       'Old English sheepdog', 'scorpion', 'flamingo', 'microphone',\n",
       "       'Samoyed', 'pitcher', 'African hunting dog', 'refrigerator',\n",
       "       'picket fence', 'tub', 'zebra', 'hermit crab', 'swing', 'Doberman',\n",
       "       'park bench', 'feather boa', 'Loafer', 'stone wall', 'ice bear',\n",
       "       'prayer rug', 'chimpanzee', 'china cabinet', 'bee eater',\n",
       "       'tennis ball', 'carton', 'killer whale', 'ostrich', 'terrapin',\n",
       "       'Siamese cat', 'gondola', 'Great Pyrenees', 'microwave',\n",
       "       'starfish', 'sandbar', 'tusker', 'motor scooter', 'ram',\n",
       "       'leaf beetle', 'wombat', 'schipperke', 'Newfoundland',\n",
       "       'bull mastiff', 'water bottle', 'suit', 'toilet seat', 'collie',\n",
       "       'robin', 'Cardigan', 'Greater Swiss Mountain dog', 'slug',\n",
       "       'toilet tissue', 'acorn squash', 'soccer ball',\n",
       "       'African crocodile', 'tick', 'ocarina', 'boxer', 'street sign',\n",
       "       'bow', 'stove', 'paper towel', 'upright', 'dough',\n",
       "       'Scottish deerhound', 'bath towel', 'standard schnauzer',\n",
       "       'walking stick', 'Irish water spaniel', 'bubble', 'Boston bull',\n",
       "       'book jacket', 'rain barrel', 'black-footed ferret', 'guenon',\n",
       "       'Japanese spaniel', 'water buffalo', 'patio', 'cowboy hat',\n",
       "       'dogsled', 'maze', 'harp', 'panpipe', 'cash machine', 'mailbox',\n",
       "       'wallaby', 'EntleBucher', 'earthstar', 'pillow', 'bluetick',\n",
       "       'space heater', 'carousel', 'Irish setter', 'birdhouse', 'snorkel',\n",
       "       'bald eagle', 'koala', 'Leonberg', 'cheetah', 'minibus',\n",
       "       'Weimaraner', 'clog', 'dishwasher', 'white wolf', 'sliding door',\n",
       "       'damselfly', 'Great Dane', 'Tibetan mastiff', 'cheeseburger',\n",
       "       'fiddler crab', 'bannister', 'crane', 'Scotch terrier',\n",
       "       'snowmobile', 'badger', 'bighorn', 'geyser', 'barrow', 'bison',\n",
       "       'Mexican hairless', 'ice lolly', 'sea lion', 'dining table',\n",
       "       'groenendael', 'Australian terrier', 'beaver', 'briard',\n",
       "       'Appenzeller', 'grey fox', 'mousetrap', 'hippopotamus',\n",
       "       'Border terrier', 'hummingbird', 'tailed frog', 'otter',\n",
       "       'Egyptian cat', 'four-poster', 'wild boar', 'bathtub', 'agama',\n",
       "       'muzzle', 'hotdog', 'bib', 'espresso', 'timber wolf', 'meerkat',\n",
       "       'nail', 'hammer', 'home theater', 'alp', 'bonnet', 'handkerchief',\n",
       "       'hand blower', 'polecat', 'lakeside', 'studio couch', 'cup',\n",
       "       'cliff', 'Bedlington terrier', 'lawn mower', 'balloon',\n",
       "       'sunglasses', 'rapeseed', 'traffic light', 'coil', 'binoculars',\n",
       "       'paddle', 'tiger shark', 'sulphur-crested cockatoo',\n",
       "       'wire-haired fox terrier', 'Saluki', 'American black bear',\n",
       "       'rotisserie', 'conch', 'skunk', 'bookshop', 'radio telescope',\n",
       "       'cougar', 'African grey', 'coral reef', 'lion', 'maillot',\n",
       "       'Madagascar cat', 'tabby', 'silky terrier', 'giant panda',\n",
       "       'long-horned beetle', 'Afghan hound', 'clumber', 'sundial',\n",
       "       'padlock', 'pool table', 'quilt', 'beach wagon', 'remote control',\n",
       "       'bakery', 'pedestal', 'gas pump', 'bookcase', 'shield', 'loupe',\n",
       "       'restaurant', 'prison', 'school bus', 'cowboy boot', 'jersey',\n",
       "       'wooden spoon', 'leopard', 'mortarboard', 'teapot',\n",
       "       'military uniform', 'washer', 'coffee mug', 'fountain',\n",
       "       'pencil box', 'barbell', 'grille', 'revolver', 'envelope',\n",
       "       'syringe', 'marmot', 'pole', 'laptop', 'basketball', 'tricycle',\n",
       "       'convertible', 'limousine', 'orange'], dtype=object)"
      ]
     },
     "execution_count": 66,
     "metadata": {},
     "output_type": "execute_result"
    }
   ],
   "source": [
    "clean_image_pred_df.prediction_1.unique()"
   ]
  },
  {
   "cell_type": "code",
   "execution_count": 67,
   "metadata": {},
   "outputs": [
    {
     "data": {
      "text/plain": [
       "array(['collie', 'miniature pinscher', 'malinois', 'redbone',\n",
       "       'Rottweiler', 'English springer', 'mud turtle', 'Tibetan mastiff',\n",
       "       'shopping basket', 'komondor', 'Yorkshire terrier',\n",
       "       'English foxhound', 'bull mastiff', 'German shepherd', 'Shih-Tzu',\n",
       "       'Newfoundland', 'cock', 'desk', 'toy terrier', 'toy poodle',\n",
       "       'otter', 'Chesapeake Bay retriever', 'Siberian husky', 'skunk',\n",
       "       'Afghan hound', 'bloodhound', 'barracouta', 'papillon',\n",
       "       'cocker spaniel', 'chow', 'Irish terrier', 'chain saw', 'beagle',\n",
       "       'giant schnauzer', 'Labrador retriever', 'Pembroke', 'Chihuahua',\n",
       "       'Weimaraner', 'slug', 'Brittany spaniel', 'standard schnauzer',\n",
       "       'teddy', 'armadillo', 'African hunting dog', 'vizsla', 'doormat',\n",
       "       'pug', 'Italian greyhound', 'Samoyed', 'Pomeranian',\n",
       "       'miniature poodle', 'Lakeland terrier', 'Irish setter', 'swab',\n",
       "       'malamute', 'bath towel', 'Border collie', 'Leonberg', 'drake',\n",
       "       'French bulldog', 'ice bear', 'Christmas stocking',\n",
       "       'golden retriever', 'standard poodle', 'dhole', 'kuvasz',\n",
       "       'Cardigan', 'silky terrier', 'spotlight', 'dishwasher', 'bighorn',\n",
       "       'tow truck', 'hummingbird', 'English setter', 'prayer rug',\n",
       "       'frilled lizard', 'Pekinese', 'ox', 'boxer', 'hog', 'guinea pig',\n",
       "       'hen', 'wallaby', 'cowboy boot', 'cornet', 'minivan', 'paddle',\n",
       "       'basset', 'hamper', 'Bedlington terrier', 'Shetland sheepdog',\n",
       "       'bow', 'Lhasa', 'pelican', 'toaster', 'groenendael',\n",
       "       'Australian terrier', 'llama', 'knee pad', 'pillow',\n",
       "       'Ibizan hound', 'Old English sheepdog', 'Welsh springer spaniel',\n",
       "       'coral reef', 'bison', 'waffle iron', 'tabby', 'bib', 'police van',\n",
       "       'Eskimo dog', 'breastplate', 'German short-haired pointer',\n",
       "       'Norfolk terrier', 'Blenheim spaniel', 'pickup',\n",
       "       'miniature schnauzer', 'lampshade', 'Tibetan terrier',\n",
       "       'Siamese cat', 'borzoi', 'studio couch', 'toilet seat', 'hamster',\n",
       "       'seat belt', 'keeshond', 'koala', 'hair spray', 'Saint Bernard',\n",
       "       'tray', 'American Staffordshire terrier', 'birdhouse', 'terrapin',\n",
       "       'Staffordshire bullterrier', 'briard',\n",
       "       'West Highland white terrier', 'spotted salamander', 'tennis ball',\n",
       "       'porcupine', 'cardigan', 'corn', 'basenji', 'otterhound',\n",
       "       'European gallinule', 'indri', 'tailed frog', 'beach wagon',\n",
       "       'siamang', 'orange', 'home theater', 'cairn', 'hare',\n",
       "       'Norwegian elkhound', 'Brabancon griffon', 'American black bear',\n",
       "       'sulphur butterfly', 'Sealyham terrier', 'Walker hound',\n",
       "       'tarantula', 'Persian cat', 'coral fungus', 'accordion', 'kelpie',\n",
       "       'Great Pyrenees', 'wood rabbit', 'black-and-tan coonhound',\n",
       "       'sunglasses', 'plow', 'whippet', 'rain barrel', 'bathtub', 'tiger',\n",
       "       'snail', 'tick', 'wire-haired fox terrier', 'water bottle', 'wig',\n",
       "       'platypus', 'Irish wolfhound', 'ram', 'gorilla',\n",
       "       'entertainment center', 'toucan', 'mask', 'shopping cart',\n",
       "       'Sussex spaniel', 'crate', 'grey whale', 'badger', 'Airedale',\n",
       "       'Arabian camel', 'cockroach', 'lifeboat', 'rotisserie', 'goldfish',\n",
       "       'stingray', 'warthog', 'bobsled', 'rhinoceros beetle', 'beaver',\n",
       "       'brown bear', 'Maltese dog', 'weasel', 'quill',\n",
       "       'Rhodesian ridgeback', 'Arctic fox', 'ashcan', 'bow tie',\n",
       "       'soft-coated wheaten terrier', 'schipperke', 'bearskin',\n",
       "       'Kerry blue terrier', 'ice lolly', 'American alligator',\n",
       "       'mosquito net', 'sea lion', 'Boston bull', 'nail',\n",
       "       'black-footed ferret', 'promontory', 'sarong', 'Doberman',\n",
       "       'space heater', 'Great Dane', 'mailbox', 'Saluki', 'bakery',\n",
       "       'sandal', 'leafhopper', 'barrel', 'water buffalo', 'polecat',\n",
       "       'macaque', 'Japanese spaniel', 'folding chair', 'trench coat',\n",
       "       'Angora', 'junco', 'crib', 'dalmatian', 'snowmobile',\n",
       "       'flat-coated retriever', 'streetcar', 'window screen', 'bannister',\n",
       "       'hair slide', 'meerkat', 'cannon', 'jaguar', 'Border terrier',\n",
       "       'Greater Swiss Mountain dog', 'hay', 'apron', 'cloak', 'radiator',\n",
       "       'muzzle', 'feather boa', 'rifle', 'chimpanzee', 'loggerhead',\n",
       "       'torch', 'Mexican hairless', 'spindle', 'triceratops',\n",
       "       'Appenzeller', 'stove', 'dingo', 'oscilloscope', 'common newt',\n",
       "       'hotdog', 'medicine chest', 'quail', 'horse cart', 'four-poster',\n",
       "       'pier', 'red fox', 'affenpinscher', 'assault rifle',\n",
       "       'mashed potato', 'moped', 'hyena', 'seashore', 'tub', 'sports car',\n",
       "       'swing', 'mink', 'bluetick', 'neck brace', 'grey fox', 'mongoose',\n",
       "       'fur coat', 'Scotch terrier', 'spatula', 'paper towel', 'shoji',\n",
       "       'toyshop', 'banded gecko', 'peacock', 'crossword puzzle',\n",
       "       'tree frog', 'wombat', 'turnstile', 'sleeping bag', 'quilt',\n",
       "       'Gila monster', 'giant panda', 'Dandie Dinmont', 'handkerchief',\n",
       "       'sombrero', 'Indian elephant', 'coffee mug', 'gibbon', 'carton',\n",
       "       'screw', 'minibus', 'hatchet', 'window shade', 'lawn mower',\n",
       "       'washbasin', 'sock', 'prison', 'patio', 'china cabinet',\n",
       "       'chain mail', 'breakwater', 'computer keyboard', 'goose',\n",
       "       'lakeside', 'solar dish', 'table lamp', 'Windsor tie',\n",
       "       'punching bag', 'comic book', 'sunglass', 'great white shark',\n",
       "       'timber wolf', 'fountain', 'dugong', 'marmot', 'barbershop',\n",
       "       'shovel', 'curly-coated retriever', 'lesser panda', 'monitor',\n",
       "       'crutch', 'cash machine', 'printer', 'volcano', 'wallet', 'laptop',\n",
       "       'bathing cap', 'confectionery', 'dam', 'killer whale', 'canoe',\n",
       "       'Madagascar cat', 'jean', 'boathouse', 'cliff', 'maillot', 'iPod',\n",
       "       'hand-held computer', 'black widow', 'Norwich terrier', 'necklace',\n",
       "       'dining table', 'binoculars', 'cradle', 'sea urchin', 'cougar',\n",
       "       'EntleBucher', 'basketball', 'lighter', 'saltshaker', 'harvester',\n",
       "       'television', 'envelope', 'house finch', 'web site', 'palace',\n",
       "       'shower curtain', 'cab', 'snorkel', 'jigsaw puzzle', 'sweatshirt',\n",
       "       'white wolf', 'sliding door', 'academic gown', 'cowboy hat',\n",
       "       'can opener', 'cup', 'rule', 'soccer ball', 'bucket', 'racket',\n",
       "       'menu', 'purse', 'Bernese mountain dog', 'dumbbell', 'projectile',\n",
       "       'dock', 'oxygen mask', 'sandbar', 'umbrella', 'shower cap',\n",
       "       'bagel'], dtype=object)"
      ]
     },
     "execution_count": 67,
     "metadata": {},
     "output_type": "execute_result"
    }
   ],
   "source": [
    "clean_image_pred_df.prediction_2.unique()"
   ]
  },
  {
   "cell_type": "code",
   "execution_count": 68,
   "metadata": {},
   "outputs": [
    {
     "data": {
      "text/plain": [
       "array(['Shetland sheepdog', 'Rhodesian ridgeback', 'bloodhound',\n",
       "       'miniature pinscher', 'Doberman', 'Greater Swiss Mountain dog',\n",
       "       'terrapin', 'fur coat', 'golden retriever',\n",
       "       'soft-coated wheaten terrier', 'Labrador retriever', 'Pekinese',\n",
       "       'Ibizan hound', 'French bulldog', 'malinois', 'Dandie Dinmont',\n",
       "       'borzoi', 'partridge', 'bookcase', 'basenji', 'miniature poodle',\n",
       "       'great grey owl', 'groenendael', 'Eskimo dog', 'hamster', 'briard',\n",
       "       'papillon', 'flat-coated retriever', 'gar', 'Chihuahua',\n",
       "       'Shih-Tzu', 'Pomeranian', 'dingo', 'power drill', 'Saluki',\n",
       "       'Great Pyrenees', 'West Highland white terrier', 'collie',\n",
       "       'toy poodle', 'vizsla', 'acorn', 'giant schnauzer', 'teddy',\n",
       "       'common iguana', 'wig', 'water buffalo', 'coyote', 'seat belt',\n",
       "       'kelpie', 'space heater', 'Brabancon griffon', 'standard poodle',\n",
       "       'beagle', 'Irish water spaniel', 'bluetick', 'Weimaraner',\n",
       "       'Chesapeake Bay retriever', 'toilet tissue',\n",
       "       'black-and-tan coonhound', 'kuvasz', 'Christmas stocking',\n",
       "       'badger', 'hen', 'Staffordshire bullterrier', 'Yorkshire terrier',\n",
       "       'Lakeland terrier', 'weasel', 'ski mask', 'cocker spaniel',\n",
       "       'Australian terrier', 'lampshade', 'oscilloscope', 'ram', 'jeep',\n",
       "       'ice bear', 'African grey', 'Great Dane', 'curly-coated retriever',\n",
       "       'doormat', 'African chameleon', 'schipperke', 'muzzle',\n",
       "       'triceratops', 'Newfoundland', 'Band Aid', 'wood rabbit',\n",
       "       'white wolf', 'giant panda', 'Welsh springer spaniel',\n",
       "       'French horn', 'toy terrier', 'Pembroke', 'Cardigan', 'bassinet',\n",
       "       'pug', 'Afghan hound', 'American Staffordshire terrier', 'whippet',\n",
       "       'English setter', 'panpipe', 'crane', 'mouse', 'titi', 'Angora',\n",
       "       'Boston bull', 'silky terrier', 'Japanese spaniel', 'sandbar',\n",
       "       'balance beam', 'black-footed ferret', 'miniature schnauzer',\n",
       "       'Blenheim spaniel', 'bathtub', 'Saint Bernard', 'redbone',\n",
       "       'goldfish', 'Norfolk terrier', 'llama', 'koala', 'pillow',\n",
       "       'jersey', 'chow', 'minibus', 'malamute', 'bulletproof vest',\n",
       "       'beach wagon', 'cairn', 'plunger', 'paper towel', 'wing',\n",
       "       'English foxhound', 'Brittany spaniel', 'bolete', 'ashcan',\n",
       "       'box turtle', 'guinea pig', 'bison', 'bull mastiff', 'racket',\n",
       "       'cardoon', 'Tibetan mastiff', 'window screen', 'Irish terrier',\n",
       "       'agama', 'common newt', 'car wheel', 'gorilla', 'bagel', 'clumber',\n",
       "       'Egyptian cat', 'television', 'boxer', 'brown bear', 'leafhopper',\n",
       "       'German shepherd', 'Border collie', 'menu', 'wolf spider',\n",
       "       'bathing cap', 'stinkhorn', 'drumstick', 'mask',\n",
       "       'Scottish deerhound', 'shower curtain', 'Appenzeller',\n",
       "       'plastic bag', 'swimming trunks', 'prairie chicken', 'red wolf',\n",
       "       'Maltese dog', 'snail', 'gibbon', 'Gordon setter', 'black swan',\n",
       "       'beacon', 'wool', 'cowboy boot', 'Rottweiler', 'poncho', 'swing',\n",
       "       'Arctic fox', 'bib', 'Italian greyhound', 'steam locomotive',\n",
       "       'fountain', 'chickadee', 'abaya', 'Border terrier', 'bubble',\n",
       "       'chimpanzee', 'hammerhead', 'Norwegian elkhound',\n",
       "       'Norwich terrier', 'Airedale', 'Siamese cat', 'sea cucumber',\n",
       "       'seashore', 'nipple', 'moped', 'Arabian camel', 'crayfish',\n",
       "       'wallaby', 'wire-haired fox terrier', 'toilet seat',\n",
       "       'Old English sheepdog', 'pajama', 'Walker hound', 'shovel',\n",
       "       'bucket', 'Sealyham terrier', 'Windsor tie', 'Siberian husky',\n",
       "       'quill', 'Persian cat', 'European fire salamander',\n",
       "       'three-toed sloth', 'swab', 'echidna', 'tennis ball', 'Lhasa',\n",
       "       'coral reef', 'keeshond', 'mink', 'screw', 'basset', 'wreck',\n",
       "       'kimono', 'German short-haired pointer', 'joystick', 'microwave',\n",
       "       'Tibetan terrier', 'Irish wolfhound', 'Samoyed', 'loggerhead',\n",
       "       'French loaf', 'Irish setter', 'komondor', 'purse', 'greenhouse',\n",
       "       'broccoli', 'shopping basket', 'macaque', 'squirrel monkey',\n",
       "       'green lizard', 'parallel bars', 'cloak', 'chest', 'sundial',\n",
       "       'mosquito net', 'bath towel', 'cuirass', 'zebra', 'lumbermill',\n",
       "       'wallet', 'feather boa', 'English springer', 'electric fan',\n",
       "       'hippopotamus', 'ox', 'quilt', 'assault rifle', 'axolotl', 'pot',\n",
       "       'toyshop', 'pizza', 'scuba diver', 'beaver', 'Mexican hairless',\n",
       "       'cliff', 'loupe', 'wild boar', 'jaguar', 'hog', 'polecat', 'lion',\n",
       "       'EntleBucher', 'hand-held computer', 'washbasin', 'whiptail',\n",
       "       'rock crab', 'hare', 'shoji', 'sombrero', 'bell cote', 'rifle',\n",
       "       'goose', 'pickup', 'sunglasses', 'limousine', 'bow tie', 'pretzel',\n",
       "       'marmot', 'ice lolly', 'vacuum', 'dalmatian', 'prison',\n",
       "       'shower cap', 'sliding door', 'dugong', 'otterhound', 'eel',\n",
       "       'binder', 'bullfrog', 'soap dispenser', 'sea lion', 'carton',\n",
       "       'brass', 'mitten', 'golfcart', 'cougar', 'warthog', 'umbrella',\n",
       "       'neck brace', 'cup', 'book jacket', 'padlock', 'cab', 'chime',\n",
       "       'Leonberg', 'viaduct', 'American black bear', 'tub', 'hand blower',\n",
       "       'king penguin', 'rotisserie', 'bannister', 'passenger car',\n",
       "       'mongoose', 'dhole', 'consomme', 'valley', 'park bench',\n",
       "       'mushroom', 'barrow', 'parachute', 'desktop computer', 'snorkel',\n",
       "       'wok', 'affenpinscher', 'space shuttle', 'rain barrel',\n",
       "       'ballplayer', 'mountain tent', 'oxcart', 'buckeye', 'sunglass',\n",
       "       'croquet ball', 'refrigerator', 'snow leopard', 'tripod',\n",
       "       'rapeseed', 'tiger cat', 'Bernese mountain dog', 'notebook',\n",
       "       'maraca', 'pool table', 'lakeside', 'theater curtain', 'pier',\n",
       "       'cheetah', 'mousetrap', 'pop bottle', 'soccer ball', 'wombat',\n",
       "       'rhinoceros beetle', 'paddlewheel', 'paintbrush', 'maze',\n",
       "       'hatchet', 'chain', 'jigsaw puzzle', 'switch',\n",
       "       'Kerry blue terrier', 'barbell', 'convertible',\n",
       "       'entertainment center', 'file', 'guillotine', 'nail',\n",
       "       'standard schnauzer', 'bow', 'grocery store', 'boathouse', 'conch',\n",
       "       'Bouvier des Flandres', 'grey fox', 'shopping cart', 'meerkat',\n",
       "       'grand piano', 'envelope', 'screen', 'coffeepot', 'printer',\n",
       "       'otter', 'restaurant', 'bonnet', 'crossword puzzle', 'go-kart',\n",
       "       'Sussex spaniel', 'orangutan', 'canoe', 'barber chair',\n",
       "       'traffic light', 'ibex', 'can opener', 'Indian elephant',\n",
       "       'spatula', 'banana'], dtype=object)"
      ]
     },
     "execution_count": 68,
     "metadata": {},
     "output_type": "execute_result"
    }
   ],
   "source": [
    "clean_image_pred_df.prediction_3.unique()"
   ]
  },
  {
   "cell_type": "markdown",
   "metadata": {},
   "source": [
    "### Issue 11#: Tweet id should be string."
   ]
  },
  {
   "cell_type": "markdown",
   "metadata": {
    "collapsed": true,
    "extensions": {
     "jupyter_dashboards": {
      "version": 1,
      "views": {
       "grid_default": {
        "hidden": true
       },
       "report_default": {
        "hidden": true
       }
      }
     }
    }
   },
   "source": [
    "#### Define"
   ]
  },
  {
   "cell_type": "markdown",
   "metadata": {},
   "source": [
    "Appply .astype(str) to the tweet_id column"
   ]
  },
  {
   "cell_type": "markdown",
   "metadata": {},
   "source": [
    "#### Code"
   ]
  },
  {
   "cell_type": "code",
   "execution_count": 100,
   "metadata": {},
   "outputs": [],
   "source": [
    "clean_image_pred_df['tweet_id'] = clean_image_pred_df['tweet_id'].astype(str)\n",
    "clean_twitter_archive_df['tweet_id'] = clean_twitter_archive_df['tweet_id'].astype(str)"
   ]
  },
  {
   "cell_type": "markdown",
   "metadata": {},
   "source": [
    "#### Test"
   ]
  },
  {
   "cell_type": "code",
   "execution_count": 70,
   "metadata": {},
   "outputs": [
    {
     "data": {
      "text/plain": [
       "dtype('O')"
      ]
     },
     "execution_count": 70,
     "metadata": {},
     "output_type": "execute_result"
    }
   ],
   "source": [
    "clean_image_pred_df.tweet_id.dtype"
   ]
  },
  {
   "cell_type": "code",
   "execution_count": 101,
   "metadata": {},
   "outputs": [
    {
     "data": {
      "text/plain": [
       "dtype('O')"
      ]
     },
     "execution_count": 101,
     "metadata": {},
     "output_type": "execute_result"
    }
   ],
   "source": [
    "clean_twitter_archive_df.tweet_id.dtype"
   ]
  },
  {
   "cell_type": "markdown",
   "metadata": {},
   "source": [
    "## Storing Data\n",
    "Save gathered, assessed, and cleaned master dataset to a CSV file named \"twitter_archive_master.csv\"."
   ]
  },
  {
   "cell_type": "code",
   "execution_count": 102,
   "metadata": {},
   "outputs": [],
   "source": [
    "twitter_archive_master_df = clean_image_pred_df.merge(clean_twitter_archive_df, how='inner',on='tweet_id')"
   ]
  },
  {
   "cell_type": "code",
   "execution_count": 103,
   "metadata": {},
   "outputs": [
    {
     "data": {
      "text/html": [
       "<div>\n",
       "<style scoped>\n",
       "    .dataframe tbody tr th:only-of-type {\n",
       "        vertical-align: middle;\n",
       "    }\n",
       "\n",
       "    .dataframe tbody tr th {\n",
       "        vertical-align: top;\n",
       "    }\n",
       "\n",
       "    .dataframe thead th {\n",
       "        text-align: right;\n",
       "    }\n",
       "</style>\n",
       "<table border=\"1\" class=\"dataframe\">\n",
       "  <thead>\n",
       "    <tr style=\"text-align: right;\">\n",
       "      <th></th>\n",
       "      <th>tweet_id</th>\n",
       "      <th>image_url</th>\n",
       "      <th>number_of_images</th>\n",
       "      <th>prediction_1</th>\n",
       "      <th>p1_conf</th>\n",
       "      <th>prediction_1_if_dog</th>\n",
       "      <th>prediction_2</th>\n",
       "      <th>p2_conf</th>\n",
       "      <th>prediction_2_if_dog</th>\n",
       "      <th>prediction_3</th>\n",
       "      <th>...</th>\n",
       "      <th>text</th>\n",
       "      <th>retweeted_status_id</th>\n",
       "      <th>retweeted_status_user_id</th>\n",
       "      <th>retweeted_status_timestamp</th>\n",
       "      <th>expanded_urls</th>\n",
       "      <th>rating_numerator</th>\n",
       "      <th>rating_denominator</th>\n",
       "      <th>name</th>\n",
       "      <th>stage</th>\n",
       "      <th>rating</th>\n",
       "    </tr>\n",
       "  </thead>\n",
       "  <tbody>\n",
       "    <tr>\n",
       "      <th>0</th>\n",
       "      <td>666050758794694657</td>\n",
       "      <td>https://pbs.twimg.com/media/CT5Jof1WUAEuVxN.jpg</td>\n",
       "      <td>1</td>\n",
       "      <td>Bernese mountain dog</td>\n",
       "      <td>0.651137</td>\n",
       "      <td>True</td>\n",
       "      <td>English springer</td>\n",
       "      <td>0.263788</td>\n",
       "      <td>True</td>\n",
       "      <td>Greater Swiss Mountain dog</td>\n",
       "      <td>...</td>\n",
       "      <td>This is a truly beautiful English Wilson Staff...</td>\n",
       "      <td>NaN</td>\n",
       "      <td>NaN</td>\n",
       "      <td>NaN</td>\n",
       "      <td>https://twitter.com/dog_rates/status/666050758...</td>\n",
       "      <td>10</td>\n",
       "      <td>10</td>\n",
       "      <td>a</td>\n",
       "      <td>not_availabe</td>\n",
       "      <td>1.0</td>\n",
       "    </tr>\n",
       "    <tr>\n",
       "      <th>1</th>\n",
       "      <td>666055525042405380</td>\n",
       "      <td>https://pbs.twimg.com/media/CT5N9tpXIAAifs1.jpg</td>\n",
       "      <td>1</td>\n",
       "      <td>chow</td>\n",
       "      <td>0.692517</td>\n",
       "      <td>True</td>\n",
       "      <td>Tibetan mastiff</td>\n",
       "      <td>0.058279</td>\n",
       "      <td>True</td>\n",
       "      <td>fur coat</td>\n",
       "      <td>...</td>\n",
       "      <td>Here is a Siberian heavily armored polar bear ...</td>\n",
       "      <td>NaN</td>\n",
       "      <td>NaN</td>\n",
       "      <td>NaN</td>\n",
       "      <td>https://twitter.com/dog_rates/status/666055525...</td>\n",
       "      <td>10</td>\n",
       "      <td>10</td>\n",
       "      <td>a</td>\n",
       "      <td>not_availabe</td>\n",
       "      <td>1.0</td>\n",
       "    </tr>\n",
       "    <tr>\n",
       "      <th>2</th>\n",
       "      <td>666063827256086533</td>\n",
       "      <td>https://pbs.twimg.com/media/CT5Vg_wXIAAXfnj.jpg</td>\n",
       "      <td>1</td>\n",
       "      <td>golden retriever</td>\n",
       "      <td>0.775930</td>\n",
       "      <td>True</td>\n",
       "      <td>Tibetan mastiff</td>\n",
       "      <td>0.093718</td>\n",
       "      <td>True</td>\n",
       "      <td>Labrador retriever</td>\n",
       "      <td>...</td>\n",
       "      <td>This is the happiest dog you will ever see. Ve...</td>\n",
       "      <td>NaN</td>\n",
       "      <td>NaN</td>\n",
       "      <td>NaN</td>\n",
       "      <td>https://twitter.com/dog_rates/status/666063827...</td>\n",
       "      <td>10</td>\n",
       "      <td>10</td>\n",
       "      <td>the</td>\n",
       "      <td>not_availabe</td>\n",
       "      <td>1.0</td>\n",
       "    </tr>\n",
       "    <tr>\n",
       "      <th>3</th>\n",
       "      <td>666073100786774016</td>\n",
       "      <td>https://pbs.twimg.com/media/CT5d9DZXAAALcwe.jpg</td>\n",
       "      <td>1</td>\n",
       "      <td>Walker hound</td>\n",
       "      <td>0.260857</td>\n",
       "      <td>True</td>\n",
       "      <td>English foxhound</td>\n",
       "      <td>0.175382</td>\n",
       "      <td>True</td>\n",
       "      <td>Ibizan hound</td>\n",
       "      <td>...</td>\n",
       "      <td>Let's hope this flight isn't Malaysian (lol). ...</td>\n",
       "      <td>NaN</td>\n",
       "      <td>NaN</td>\n",
       "      <td>NaN</td>\n",
       "      <td>https://twitter.com/dog_rates/status/666073100...</td>\n",
       "      <td>10</td>\n",
       "      <td>10</td>\n",
       "      <td>None</td>\n",
       "      <td>not_availabe</td>\n",
       "      <td>1.0</td>\n",
       "    </tr>\n",
       "    <tr>\n",
       "      <th>4</th>\n",
       "      <td>666102155909144576</td>\n",
       "      <td>https://pbs.twimg.com/media/CT54YGiWUAEZnoK.jpg</td>\n",
       "      <td>1</td>\n",
       "      <td>English setter</td>\n",
       "      <td>0.298617</td>\n",
       "      <td>True</td>\n",
       "      <td>Newfoundland</td>\n",
       "      <td>0.149842</td>\n",
       "      <td>True</td>\n",
       "      <td>borzoi</td>\n",
       "      <td>...</td>\n",
       "      <td>Oh my. Here you are seeing an Adobe Setter giv...</td>\n",
       "      <td>NaN</td>\n",
       "      <td>NaN</td>\n",
       "      <td>NaN</td>\n",
       "      <td>https://twitter.com/dog_rates/status/666102155...</td>\n",
       "      <td>11</td>\n",
       "      <td>10</td>\n",
       "      <td>None</td>\n",
       "      <td>not_availabe</td>\n",
       "      <td>1.1</td>\n",
       "    </tr>\n",
       "  </tbody>\n",
       "</table>\n",
       "<p>5 rows × 29 columns</p>\n",
       "</div>"
      ],
      "text/plain": [
       "             tweet_id                                        image_url  \\\n",
       "0  666050758794694657  https://pbs.twimg.com/media/CT5Jof1WUAEuVxN.jpg   \n",
       "1  666055525042405380  https://pbs.twimg.com/media/CT5N9tpXIAAifs1.jpg   \n",
       "2  666063827256086533  https://pbs.twimg.com/media/CT5Vg_wXIAAXfnj.jpg   \n",
       "3  666073100786774016  https://pbs.twimg.com/media/CT5d9DZXAAALcwe.jpg   \n",
       "4  666102155909144576  https://pbs.twimg.com/media/CT54YGiWUAEZnoK.jpg   \n",
       "\n",
       "   number_of_images          prediction_1   p1_conf  prediction_1_if_dog  \\\n",
       "0                 1  Bernese mountain dog  0.651137                 True   \n",
       "1                 1                  chow  0.692517                 True   \n",
       "2                 1      golden retriever  0.775930                 True   \n",
       "3                 1          Walker hound  0.260857                 True   \n",
       "4                 1        English setter  0.298617                 True   \n",
       "\n",
       "       prediction_2   p2_conf  prediction_2_if_dog  \\\n",
       "0  English springer  0.263788                 True   \n",
       "1   Tibetan mastiff  0.058279                 True   \n",
       "2   Tibetan mastiff  0.093718                 True   \n",
       "3  English foxhound  0.175382                 True   \n",
       "4      Newfoundland  0.149842                 True   \n",
       "\n",
       "                 prediction_3  ...  \\\n",
       "0  Greater Swiss Mountain dog  ...   \n",
       "1                    fur coat  ...   \n",
       "2          Labrador retriever  ...   \n",
       "3                Ibizan hound  ...   \n",
       "4                      borzoi  ...   \n",
       "\n",
       "                                                text  retweeted_status_id  \\\n",
       "0  This is a truly beautiful English Wilson Staff...                  NaN   \n",
       "1  Here is a Siberian heavily armored polar bear ...                  NaN   \n",
       "2  This is the happiest dog you will ever see. Ve...                  NaN   \n",
       "3  Let's hope this flight isn't Malaysian (lol). ...                  NaN   \n",
       "4  Oh my. Here you are seeing an Adobe Setter giv...                  NaN   \n",
       "\n",
       "  retweeted_status_user_id  retweeted_status_timestamp  \\\n",
       "0                      NaN                         NaN   \n",
       "1                      NaN                         NaN   \n",
       "2                      NaN                         NaN   \n",
       "3                      NaN                         NaN   \n",
       "4                      NaN                         NaN   \n",
       "\n",
       "                                       expanded_urls  rating_numerator  \\\n",
       "0  https://twitter.com/dog_rates/status/666050758...                10   \n",
       "1  https://twitter.com/dog_rates/status/666055525...                10   \n",
       "2  https://twitter.com/dog_rates/status/666063827...                10   \n",
       "3  https://twitter.com/dog_rates/status/666073100...                10   \n",
       "4  https://twitter.com/dog_rates/status/666102155...                11   \n",
       "\n",
       "   rating_denominator  name         stage rating  \n",
       "0                  10     a  not_availabe    1.0  \n",
       "1                  10     a  not_availabe    1.0  \n",
       "2                  10   the  not_availabe    1.0  \n",
       "3                  10  None  not_availabe    1.0  \n",
       "4                  10  None  not_availabe    1.1  \n",
       "\n",
       "[5 rows x 29 columns]"
      ]
     },
     "execution_count": 103,
     "metadata": {},
     "output_type": "execute_result"
    }
   ],
   "source": [
    "twitter_archive_master_df.head()"
   ]
  },
  {
   "cell_type": "code",
   "execution_count": 104,
   "metadata": {},
   "outputs": [
    {
     "name": "stdout",
     "output_type": "stream",
     "text": [
      "<class 'pandas.core.frame.DataFrame'>\n",
      "Int64Index: 1566 entries, 0 to 1565\n",
      "Data columns (total 29 columns):\n",
      " #   Column                      Non-Null Count  Dtype              \n",
      "---  ------                      --------------  -----              \n",
      " 0   tweet_id                    1566 non-null   object             \n",
      " 1   image_url                   1566 non-null   object             \n",
      " 2   number_of_images            1566 non-null   int64              \n",
      " 3   prediction_1                1566 non-null   object             \n",
      " 4   p1_conf                     1566 non-null   float64            \n",
      " 5   prediction_1_if_dog         1566 non-null   bool               \n",
      " 6   prediction_2                1566 non-null   object             \n",
      " 7   p2_conf                     1566 non-null   float64            \n",
      " 8   prediction_2_if_dog         1566 non-null   bool               \n",
      " 9   prediction_3                1566 non-null   object             \n",
      " 10  p3_conf                     1566 non-null   float64            \n",
      " 11  prediction_3_if_dog         1566 non-null   bool               \n",
      " 12  tweet_date                  1566 non-null   object             \n",
      " 13  retweeted                   1566 non-null   bool               \n",
      " 14  favourites_count            0 non-null      float64            \n",
      " 15  in_reply_to_status_id       20 non-null     float64            \n",
      " 16  in_reply_to_user_id         20 non-null     float64            \n",
      " 17  timestamp                   1566 non-null   datetime64[ns, UTC]\n",
      " 18  source                      1566 non-null   object             \n",
      " 19  text                        1566 non-null   object             \n",
      " 20  retweeted_status_id         0 non-null      float64            \n",
      " 21  retweeted_status_user_id    0 non-null      float64            \n",
      " 22  retweeted_status_timestamp  0 non-null      object             \n",
      " 23  expanded_urls               1566 non-null   object             \n",
      " 24  rating_numerator            1566 non-null   int64              \n",
      " 25  rating_denominator          1566 non-null   int64              \n",
      " 26  name                        1566 non-null   object             \n",
      " 27  stage                       1566 non-null   object             \n",
      " 28  rating                      1566 non-null   float64            \n",
      "dtypes: bool(4), datetime64[ns, UTC](1), float64(9), int64(3), object(12)\n",
      "memory usage: 324.2+ KB\n"
     ]
    }
   ],
   "source": [
    "twitter_archive_master_df.info()"
   ]
  },
  {
   "cell_type": "code",
   "execution_count": 105,
   "metadata": {},
   "outputs": [],
   "source": [
    "twitter_archive_master_df.to_csv('twitter_archive_master.csv')"
   ]
  },
  {
   "cell_type": "markdown",
   "metadata": {},
   "source": [
    "## Analyzing and Visualizing Data\n",
    "In this section, analyze and visualize your wrangled data. You must produce at least **three (3) insights and one (1) visualization.**"
   ]
  },
  {
   "cell_type": "code",
   "execution_count": 106,
   "metadata": {},
   "outputs": [
    {
     "data": {
      "text/html": [
       "<div>\n",
       "<style scoped>\n",
       "    .dataframe tbody tr th:only-of-type {\n",
       "        vertical-align: middle;\n",
       "    }\n",
       "\n",
       "    .dataframe tbody tr th {\n",
       "        vertical-align: top;\n",
       "    }\n",
       "\n",
       "    .dataframe thead th {\n",
       "        text-align: right;\n",
       "    }\n",
       "</style>\n",
       "<table border=\"1\" class=\"dataframe\">\n",
       "  <thead>\n",
       "    <tr style=\"text-align: right;\">\n",
       "      <th></th>\n",
       "      <th>tweet_id</th>\n",
       "      <th>image_url</th>\n",
       "      <th>number_of_images</th>\n",
       "      <th>prediction_1</th>\n",
       "      <th>p1_conf</th>\n",
       "      <th>prediction_1_if_dog</th>\n",
       "      <th>prediction_2</th>\n",
       "      <th>p2_conf</th>\n",
       "      <th>prediction_2_if_dog</th>\n",
       "      <th>prediction_3</th>\n",
       "      <th>...</th>\n",
       "      <th>text</th>\n",
       "      <th>retweeted_status_id</th>\n",
       "      <th>retweeted_status_user_id</th>\n",
       "      <th>retweeted_status_timestamp</th>\n",
       "      <th>expanded_urls</th>\n",
       "      <th>rating_numerator</th>\n",
       "      <th>rating_denominator</th>\n",
       "      <th>name</th>\n",
       "      <th>stage</th>\n",
       "      <th>rating</th>\n",
       "    </tr>\n",
       "  </thead>\n",
       "  <tbody>\n",
       "    <tr>\n",
       "      <th>0</th>\n",
       "      <td>666050758794694657</td>\n",
       "      <td>https://pbs.twimg.com/media/CT5Jof1WUAEuVxN.jpg</td>\n",
       "      <td>1</td>\n",
       "      <td>Bernese mountain dog</td>\n",
       "      <td>0.651137</td>\n",
       "      <td>True</td>\n",
       "      <td>English springer</td>\n",
       "      <td>0.263788</td>\n",
       "      <td>True</td>\n",
       "      <td>Greater Swiss Mountain dog</td>\n",
       "      <td>...</td>\n",
       "      <td>This is a truly beautiful English Wilson Staff...</td>\n",
       "      <td>NaN</td>\n",
       "      <td>NaN</td>\n",
       "      <td>NaN</td>\n",
       "      <td>https://twitter.com/dog_rates/status/666050758...</td>\n",
       "      <td>10</td>\n",
       "      <td>10</td>\n",
       "      <td>a</td>\n",
       "      <td>not_availabe</td>\n",
       "      <td>1.0</td>\n",
       "    </tr>\n",
       "    <tr>\n",
       "      <th>1</th>\n",
       "      <td>666055525042405380</td>\n",
       "      <td>https://pbs.twimg.com/media/CT5N9tpXIAAifs1.jpg</td>\n",
       "      <td>1</td>\n",
       "      <td>chow</td>\n",
       "      <td>0.692517</td>\n",
       "      <td>True</td>\n",
       "      <td>Tibetan mastiff</td>\n",
       "      <td>0.058279</td>\n",
       "      <td>True</td>\n",
       "      <td>fur coat</td>\n",
       "      <td>...</td>\n",
       "      <td>Here is a Siberian heavily armored polar bear ...</td>\n",
       "      <td>NaN</td>\n",
       "      <td>NaN</td>\n",
       "      <td>NaN</td>\n",
       "      <td>https://twitter.com/dog_rates/status/666055525...</td>\n",
       "      <td>10</td>\n",
       "      <td>10</td>\n",
       "      <td>a</td>\n",
       "      <td>not_availabe</td>\n",
       "      <td>1.0</td>\n",
       "    </tr>\n",
       "    <tr>\n",
       "      <th>2</th>\n",
       "      <td>666063827256086533</td>\n",
       "      <td>https://pbs.twimg.com/media/CT5Vg_wXIAAXfnj.jpg</td>\n",
       "      <td>1</td>\n",
       "      <td>golden retriever</td>\n",
       "      <td>0.775930</td>\n",
       "      <td>True</td>\n",
       "      <td>Tibetan mastiff</td>\n",
       "      <td>0.093718</td>\n",
       "      <td>True</td>\n",
       "      <td>Labrador retriever</td>\n",
       "      <td>...</td>\n",
       "      <td>This is the happiest dog you will ever see. Ve...</td>\n",
       "      <td>NaN</td>\n",
       "      <td>NaN</td>\n",
       "      <td>NaN</td>\n",
       "      <td>https://twitter.com/dog_rates/status/666063827...</td>\n",
       "      <td>10</td>\n",
       "      <td>10</td>\n",
       "      <td>the</td>\n",
       "      <td>not_availabe</td>\n",
       "      <td>1.0</td>\n",
       "    </tr>\n",
       "    <tr>\n",
       "      <th>3</th>\n",
       "      <td>666073100786774016</td>\n",
       "      <td>https://pbs.twimg.com/media/CT5d9DZXAAALcwe.jpg</td>\n",
       "      <td>1</td>\n",
       "      <td>Walker hound</td>\n",
       "      <td>0.260857</td>\n",
       "      <td>True</td>\n",
       "      <td>English foxhound</td>\n",
       "      <td>0.175382</td>\n",
       "      <td>True</td>\n",
       "      <td>Ibizan hound</td>\n",
       "      <td>...</td>\n",
       "      <td>Let's hope this flight isn't Malaysian (lol). ...</td>\n",
       "      <td>NaN</td>\n",
       "      <td>NaN</td>\n",
       "      <td>NaN</td>\n",
       "      <td>https://twitter.com/dog_rates/status/666073100...</td>\n",
       "      <td>10</td>\n",
       "      <td>10</td>\n",
       "      <td>None</td>\n",
       "      <td>not_availabe</td>\n",
       "      <td>1.0</td>\n",
       "    </tr>\n",
       "    <tr>\n",
       "      <th>4</th>\n",
       "      <td>666102155909144576</td>\n",
       "      <td>https://pbs.twimg.com/media/CT54YGiWUAEZnoK.jpg</td>\n",
       "      <td>1</td>\n",
       "      <td>English setter</td>\n",
       "      <td>0.298617</td>\n",
       "      <td>True</td>\n",
       "      <td>Newfoundland</td>\n",
       "      <td>0.149842</td>\n",
       "      <td>True</td>\n",
       "      <td>borzoi</td>\n",
       "      <td>...</td>\n",
       "      <td>Oh my. Here you are seeing an Adobe Setter giv...</td>\n",
       "      <td>NaN</td>\n",
       "      <td>NaN</td>\n",
       "      <td>NaN</td>\n",
       "      <td>https://twitter.com/dog_rates/status/666102155...</td>\n",
       "      <td>11</td>\n",
       "      <td>10</td>\n",
       "      <td>None</td>\n",
       "      <td>not_availabe</td>\n",
       "      <td>1.1</td>\n",
       "    </tr>\n",
       "  </tbody>\n",
       "</table>\n",
       "<p>5 rows × 29 columns</p>\n",
       "</div>"
      ],
      "text/plain": [
       "             tweet_id                                        image_url  \\\n",
       "0  666050758794694657  https://pbs.twimg.com/media/CT5Jof1WUAEuVxN.jpg   \n",
       "1  666055525042405380  https://pbs.twimg.com/media/CT5N9tpXIAAifs1.jpg   \n",
       "2  666063827256086533  https://pbs.twimg.com/media/CT5Vg_wXIAAXfnj.jpg   \n",
       "3  666073100786774016  https://pbs.twimg.com/media/CT5d9DZXAAALcwe.jpg   \n",
       "4  666102155909144576  https://pbs.twimg.com/media/CT54YGiWUAEZnoK.jpg   \n",
       "\n",
       "   number_of_images          prediction_1   p1_conf  prediction_1_if_dog  \\\n",
       "0                 1  Bernese mountain dog  0.651137                 True   \n",
       "1                 1                  chow  0.692517                 True   \n",
       "2                 1      golden retriever  0.775930                 True   \n",
       "3                 1          Walker hound  0.260857                 True   \n",
       "4                 1        English setter  0.298617                 True   \n",
       "\n",
       "       prediction_2   p2_conf  prediction_2_if_dog  \\\n",
       "0  English springer  0.263788                 True   \n",
       "1   Tibetan mastiff  0.058279                 True   \n",
       "2   Tibetan mastiff  0.093718                 True   \n",
       "3  English foxhound  0.175382                 True   \n",
       "4      Newfoundland  0.149842                 True   \n",
       "\n",
       "                 prediction_3  ...  \\\n",
       "0  Greater Swiss Mountain dog  ...   \n",
       "1                    fur coat  ...   \n",
       "2          Labrador retriever  ...   \n",
       "3                Ibizan hound  ...   \n",
       "4                      borzoi  ...   \n",
       "\n",
       "                                                text  retweeted_status_id  \\\n",
       "0  This is a truly beautiful English Wilson Staff...                  NaN   \n",
       "1  Here is a Siberian heavily armored polar bear ...                  NaN   \n",
       "2  This is the happiest dog you will ever see. Ve...                  NaN   \n",
       "3  Let's hope this flight isn't Malaysian (lol). ...                  NaN   \n",
       "4  Oh my. Here you are seeing an Adobe Setter giv...                  NaN   \n",
       "\n",
       "  retweeted_status_user_id  retweeted_status_timestamp  \\\n",
       "0                      NaN                         NaN   \n",
       "1                      NaN                         NaN   \n",
       "2                      NaN                         NaN   \n",
       "3                      NaN                         NaN   \n",
       "4                      NaN                         NaN   \n",
       "\n",
       "                                       expanded_urls  rating_numerator  \\\n",
       "0  https://twitter.com/dog_rates/status/666050758...                10   \n",
       "1  https://twitter.com/dog_rates/status/666055525...                10   \n",
       "2  https://twitter.com/dog_rates/status/666063827...                10   \n",
       "3  https://twitter.com/dog_rates/status/666073100...                10   \n",
       "4  https://twitter.com/dog_rates/status/666102155...                11   \n",
       "\n",
       "   rating_denominator  name         stage rating  \n",
       "0                  10     a  not_availabe    1.0  \n",
       "1                  10     a  not_availabe    1.0  \n",
       "2                  10   the  not_availabe    1.0  \n",
       "3                  10  None  not_availabe    1.0  \n",
       "4                  10  None  not_availabe    1.1  \n",
       "\n",
       "[5 rows x 29 columns]"
      ]
     },
     "execution_count": 106,
     "metadata": {},
     "output_type": "execute_result"
    }
   ],
   "source": [
    "twitter_archive_master_df.head()"
   ]
  },
  {
   "cell_type": "code",
   "execution_count": 107,
   "metadata": {},
   "outputs": [
    {
     "name": "stdout",
     "output_type": "stream",
     "text": [
      "<class 'pandas.core.frame.DataFrame'>\n",
      "Int64Index: 1566 entries, 0 to 1565\n",
      "Data columns (total 29 columns):\n",
      " #   Column                      Non-Null Count  Dtype              \n",
      "---  ------                      --------------  -----              \n",
      " 0   tweet_id                    1566 non-null   object             \n",
      " 1   image_url                   1566 non-null   object             \n",
      " 2   number_of_images            1566 non-null   int64              \n",
      " 3   prediction_1                1566 non-null   object             \n",
      " 4   p1_conf                     1566 non-null   float64            \n",
      " 5   prediction_1_if_dog         1566 non-null   bool               \n",
      " 6   prediction_2                1566 non-null   object             \n",
      " 7   p2_conf                     1566 non-null   float64            \n",
      " 8   prediction_2_if_dog         1566 non-null   bool               \n",
      " 9   prediction_3                1566 non-null   object             \n",
      " 10  p3_conf                     1566 non-null   float64            \n",
      " 11  prediction_3_if_dog         1566 non-null   bool               \n",
      " 12  tweet_date                  1566 non-null   object             \n",
      " 13  retweeted                   1566 non-null   bool               \n",
      " 14  favourites_count            0 non-null      float64            \n",
      " 15  in_reply_to_status_id       20 non-null     float64            \n",
      " 16  in_reply_to_user_id         20 non-null     float64            \n",
      " 17  timestamp                   1566 non-null   datetime64[ns, UTC]\n",
      " 18  source                      1566 non-null   object             \n",
      " 19  text                        1566 non-null   object             \n",
      " 20  retweeted_status_id         0 non-null      float64            \n",
      " 21  retweeted_status_user_id    0 non-null      float64            \n",
      " 22  retweeted_status_timestamp  0 non-null      object             \n",
      " 23  expanded_urls               1566 non-null   object             \n",
      " 24  rating_numerator            1566 non-null   int64              \n",
      " 25  rating_denominator          1566 non-null   int64              \n",
      " 26  name                        1566 non-null   object             \n",
      " 27  stage                       1566 non-null   object             \n",
      " 28  rating                      1566 non-null   float64            \n",
      "dtypes: bool(4), datetime64[ns, UTC](1), float64(9), int64(3), object(12)\n",
      "memory usage: 324.2+ KB\n"
     ]
    }
   ],
   "source": [
    "twitter_archive_master_df.info()"
   ]
  },
  {
   "cell_type": "code",
   "execution_count": 88,
   "metadata": {},
   "outputs": [
    {
     "data": {
      "text/plain": [
       "golden retriever      139\n",
       "Labrador retriever     95\n",
       "Pembroke               88\n",
       "Chihuahua              79\n",
       "pug                    55\n",
       "                     ... \n",
       "cheeseburger            1\n",
       "fiddler crab            1\n",
       "bannister               1\n",
       "crane                   1\n",
       "orange                  1\n",
       "Name: prediction_1_x, Length: 378, dtype: int64"
      ]
     },
     "execution_count": 88,
     "metadata": {},
     "output_type": "execute_result"
    }
   ],
   "source": [
    "twitter_archive_master_df.prediction_1_x.value_counts()"
   ]
  },
  {
   "cell_type": "code",
   "execution_count": 109,
   "metadata": {},
   "outputs": [
    {
     "data": {
      "text/plain": [
       "None        411\n",
       "a            29\n",
       "Charlie      11\n",
       "Lucy         10\n",
       "Cooper        9\n",
       "           ... \n",
       "Terrenth      1\n",
       "Ambrose       1\n",
       "Zara          1\n",
       "Adele         1\n",
       "Tilly         1\n",
       "Name: name, Length: 792, dtype: int64"
      ]
     },
     "execution_count": 109,
     "metadata": {},
     "output_type": "execute_result"
    }
   ],
   "source": [
    "twitter_archive_master_df.name.value_counts()"
   ]
  },
  {
   "cell_type": "code",
   "execution_count": 110,
   "metadata": {},
   "outputs": [
    {
     "data": {
      "text/plain": [
       "not_availabe        1304\n",
       "pupper               164\n",
       "doggo                 60\n",
       "puppo                 21\n",
       "multiple_entries      10\n",
       "floofer                7\n",
       "Name: stage, dtype: int64"
      ]
     },
     "execution_count": 110,
     "metadata": {},
     "output_type": "execute_result"
    }
   ],
   "source": [
    "twitter_archive_master_df.stage.value_counts()"
   ]
  },
  {
   "cell_type": "markdown",
   "metadata": {},
   "source": [
    "### Insights:\n",
    "1. In the first prediction the most common dog is Labrador retriever.\n",
    "\n",
    "2. The most common valid name for a dog is Charlie,\n",
    "\n",
    "3. Most common 'kind' of dog is pupper."
   ]
  },
  {
   "cell_type": "markdown",
   "metadata": {
    "collapsed": true
   },
   "source": [
    "### Visualization"
   ]
  },
  {
   "cell_type": "code",
   "execution_count": 134,
   "metadata": {},
   "outputs": [],
   "source": [
    "dog_stage_df = pd.DataFrame(twitter_archive_master_df.stage.value_counts()).loc[['pupper','doggo','puppo','floofer']]"
   ]
  },
  {
   "cell_type": "code",
   "execution_count": 135,
   "metadata": {},
   "outputs": [
    {
     "data": {
      "text/html": [
       "<div>\n",
       "<style scoped>\n",
       "    .dataframe tbody tr th:only-of-type {\n",
       "        vertical-align: middle;\n",
       "    }\n",
       "\n",
       "    .dataframe tbody tr th {\n",
       "        vertical-align: top;\n",
       "    }\n",
       "\n",
       "    .dataframe thead th {\n",
       "        text-align: right;\n",
       "    }\n",
       "</style>\n",
       "<table border=\"1\" class=\"dataframe\">\n",
       "  <thead>\n",
       "    <tr style=\"text-align: right;\">\n",
       "      <th></th>\n",
       "      <th>stage</th>\n",
       "    </tr>\n",
       "  </thead>\n",
       "  <tbody>\n",
       "    <tr>\n",
       "      <th>pupper</th>\n",
       "      <td>164</td>\n",
       "    </tr>\n",
       "    <tr>\n",
       "      <th>doggo</th>\n",
       "      <td>60</td>\n",
       "    </tr>\n",
       "    <tr>\n",
       "      <th>puppo</th>\n",
       "      <td>21</td>\n",
       "    </tr>\n",
       "    <tr>\n",
       "      <th>floofer</th>\n",
       "      <td>7</td>\n",
       "    </tr>\n",
       "  </tbody>\n",
       "</table>\n",
       "</div>"
      ],
      "text/plain": [
       "         stage\n",
       "pupper     164\n",
       "doggo       60\n",
       "puppo       21\n",
       "floofer      7"
      ]
     },
     "execution_count": 135,
     "metadata": {},
     "output_type": "execute_result"
    }
   ],
   "source": [
    "dog_stage_df"
   ]
  },
  {
   "cell_type": "code",
   "execution_count": 140,
   "metadata": {},
   "outputs": [
    {
     "data": {
      "text/plain": [
       "Index(['pupper', 'doggo', 'puppo', 'floofer'], dtype='object')"
      ]
     },
     "execution_count": 140,
     "metadata": {},
     "output_type": "execute_result"
    }
   ],
   "source": [
    "dog_stage_df.index"
   ]
  },
  {
   "cell_type": "code",
   "execution_count": 142,
   "metadata": {},
   "outputs": [
    {
     "data": {
      "text/plain": [
       "Text(0.5, 1.0, 'Dog Kinds')"
      ]
     },
     "execution_count": 142,
     "metadata": {},
     "output_type": "execute_result"
    },
    {
     "data": {
      "image/png": "[encoded data removed]",
      "text/plain": [
       "<Figure size 640x480 with 1 Axes>"
      ]
     },
     "metadata": {},
     "output_type": "display_data"
    }
   ],
   "source": [
    "plt.bar(dog_stage_df.index, dog_stage_df.stage)\n",
    "plt.xlabel('Kind of Dog')\n",
    "plt.ylabel('Number of Dogs')\n",
    "plt.title('Dog Kinds')"
   ]
  }
 ],
 "metadata": {
  "extensions": {
   "jupyter_dashboards": {
    "activeView": "report_default",
    "version": 1,
    "views": {
     "grid_default": {
      "cellMargin": 10,
      "defaultCellHeight": 20,
      "maxColumns": 12,
      "name": "grid",
      "type": "grid"
     },
     "report_default": {
      "name": "report",
      "type": "report"
     }
    }
   }
  },
  "kernelspec": {
   "display_name": "Python 3 (ipykernel)",
   "language": "python",
   "name": "python3"
  },
  "language_info": {
   "codemirror_mode": {
    "name": "ipython",
    "version": 3
   },
   "file_extension": ".py",
   "mimetype": "text/x-python",
   "name": "python",
   "nbconvert_exporter": "python",
   "pygments_lexer": "ipython3",
   "version": "3.9.13"
  }
 },
 "nbformat": 4,
 "nbformat_minor": 2
}

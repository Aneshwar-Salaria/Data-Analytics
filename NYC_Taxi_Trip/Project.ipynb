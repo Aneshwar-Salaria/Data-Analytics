{
 "cells": [
  {
   "cell_type": "markdown",
   "id": "cfe87cd4",
   "metadata": {},
   "source": [
    "### Load Libraries"
   ]
  },
  {
   "cell_type": "code",
   "execution_count": 1,
   "id": "c659adad",
   "metadata": {},
   "outputs": [],
   "source": [
    "%matplotlib inline\n",
    "import numpy as np\n",
    "import pandas as pd\n",
    "from datetime import timedelta\n",
    "import datetime as dt\n",
    "import matplotlib.pyplot as plt\n",
    "import seaborn as sns\n",
    "from sklearn.model_selection import train_test_split\n",
    "import warnings\n",
    "warnings.filterwarnings('ignore')"
   ]
  },
  {
   "cell_type": "markdown",
   "id": "e4757118",
   "metadata": {},
   "source": [
    "### Load Data"
   ]
  },
  {
   "cell_type": "code",
   "execution_count": 2,
   "id": "bc8330a4",
   "metadata": {},
   "outputs": [],
   "source": [
    "df = pd.read_csv('nyc_taxi_trip_duration.csv')"
   ]
  },
  {
   "cell_type": "markdown",
   "id": "8eb3e3ee",
   "metadata": {},
   "source": [
    "### File structure and content"
   ]
  },
  {
   "cell_type": "code",
   "execution_count": 3,
   "id": "859b95c4",
   "metadata": {},
   "outputs": [
    {
     "data": {
      "text/plain": [
       "Index(['id', 'vendor_id', 'pickup_datetime', 'dropoff_datetime',\n",
       "       'passenger_count', 'pickup_longitude', 'pickup_latitude',\n",
       "       'dropoff_longitude', 'dropoff_latitude', 'store_and_fwd_flag',\n",
       "       'trip_duration'],\n",
       "      dtype='object')"
      ]
     },
     "execution_count": 3,
     "metadata": {},
     "output_type": "execute_result"
    }
   ],
   "source": [
    "df.columns"
   ]
  },
  {
   "cell_type": "code",
   "execution_count": 4,
   "id": "ba5bcec8",
   "metadata": {},
   "outputs": [
    {
     "data": {
      "text/html": [
       "<div>\n",
       "<style scoped>\n",
       "    .dataframe tbody tr th:only-of-type {\n",
       "        vertical-align: middle;\n",
       "    }\n",
       "\n",
       "    .dataframe tbody tr th {\n",
       "        vertical-align: top;\n",
       "    }\n",
       "\n",
       "    .dataframe thead th {\n",
       "        text-align: right;\n",
       "    }\n",
       "</style>\n",
       "<table border=\"1\" class=\"dataframe\">\n",
       "  <thead>\n",
       "    <tr style=\"text-align: right;\">\n",
       "      <th></th>\n",
       "      <th>id</th>\n",
       "      <th>vendor_id</th>\n",
       "      <th>pickup_datetime</th>\n",
       "      <th>dropoff_datetime</th>\n",
       "      <th>passenger_count</th>\n",
       "      <th>pickup_longitude</th>\n",
       "      <th>pickup_latitude</th>\n",
       "      <th>dropoff_longitude</th>\n",
       "      <th>dropoff_latitude</th>\n",
       "      <th>store_and_fwd_flag</th>\n",
       "      <th>trip_duration</th>\n",
       "    </tr>\n",
       "  </thead>\n",
       "  <tbody>\n",
       "    <tr>\n",
       "      <th>0</th>\n",
       "      <td>id1080784</td>\n",
       "      <td>2</td>\n",
       "      <td>2016-02-29 16:40:21</td>\n",
       "      <td>2016-02-29 16:47:01</td>\n",
       "      <td>1</td>\n",
       "      <td>-73.953918</td>\n",
       "      <td>40.778873</td>\n",
       "      <td>-73.963875</td>\n",
       "      <td>40.771164</td>\n",
       "      <td>N</td>\n",
       "      <td>400</td>\n",
       "    </tr>\n",
       "    <tr>\n",
       "      <th>1</th>\n",
       "      <td>id0889885</td>\n",
       "      <td>1</td>\n",
       "      <td>2016-03-11 23:35:37</td>\n",
       "      <td>2016-03-11 23:53:57</td>\n",
       "      <td>2</td>\n",
       "      <td>-73.988312</td>\n",
       "      <td>40.731743</td>\n",
       "      <td>-73.994751</td>\n",
       "      <td>40.694931</td>\n",
       "      <td>N</td>\n",
       "      <td>1100</td>\n",
       "    </tr>\n",
       "    <tr>\n",
       "      <th>2</th>\n",
       "      <td>id0857912</td>\n",
       "      <td>2</td>\n",
       "      <td>2016-02-21 17:59:33</td>\n",
       "      <td>2016-02-21 18:26:48</td>\n",
       "      <td>2</td>\n",
       "      <td>-73.997314</td>\n",
       "      <td>40.721458</td>\n",
       "      <td>-73.948029</td>\n",
       "      <td>40.774918</td>\n",
       "      <td>N</td>\n",
       "      <td>1635</td>\n",
       "    </tr>\n",
       "    <tr>\n",
       "      <th>3</th>\n",
       "      <td>id3744273</td>\n",
       "      <td>2</td>\n",
       "      <td>2016-01-05 09:44:31</td>\n",
       "      <td>2016-01-05 10:03:32</td>\n",
       "      <td>6</td>\n",
       "      <td>-73.961670</td>\n",
       "      <td>40.759720</td>\n",
       "      <td>-73.956779</td>\n",
       "      <td>40.780628</td>\n",
       "      <td>N</td>\n",
       "      <td>1141</td>\n",
       "    </tr>\n",
       "    <tr>\n",
       "      <th>4</th>\n",
       "      <td>id0232939</td>\n",
       "      <td>1</td>\n",
       "      <td>2016-02-17 06:42:23</td>\n",
       "      <td>2016-02-17 06:56:31</td>\n",
       "      <td>1</td>\n",
       "      <td>-74.017120</td>\n",
       "      <td>40.708469</td>\n",
       "      <td>-73.988182</td>\n",
       "      <td>40.740631</td>\n",
       "      <td>N</td>\n",
       "      <td>848</td>\n",
       "    </tr>\n",
       "  </tbody>\n",
       "</table>\n",
       "</div>"
      ],
      "text/plain": [
       "          id  vendor_id      pickup_datetime     dropoff_datetime  \\\n",
       "0  id1080784          2  2016-02-29 16:40:21  2016-02-29 16:47:01   \n",
       "1  id0889885          1  2016-03-11 23:35:37  2016-03-11 23:53:57   \n",
       "2  id0857912          2  2016-02-21 17:59:33  2016-02-21 18:26:48   \n",
       "3  id3744273          2  2016-01-05 09:44:31  2016-01-05 10:03:32   \n",
       "4  id0232939          1  2016-02-17 06:42:23  2016-02-17 06:56:31   \n",
       "\n",
       "   passenger_count  pickup_longitude  pickup_latitude  dropoff_longitude  \\\n",
       "0                1        -73.953918        40.778873         -73.963875   \n",
       "1                2        -73.988312        40.731743         -73.994751   \n",
       "2                2        -73.997314        40.721458         -73.948029   \n",
       "3                6        -73.961670        40.759720         -73.956779   \n",
       "4                1        -74.017120        40.708469         -73.988182   \n",
       "\n",
       "   dropoff_latitude store_and_fwd_flag  trip_duration  \n",
       "0         40.771164                  N            400  \n",
       "1         40.694931                  N           1100  \n",
       "2         40.774918                  N           1635  \n",
       "3         40.780628                  N           1141  \n",
       "4         40.740631                  N            848  "
      ]
     },
     "execution_count": 4,
     "metadata": {},
     "output_type": "execute_result"
    }
   ],
   "source": [
    "df.head()"
   ]
  },
  {
   "cell_type": "code",
   "execution_count": 5,
   "id": "aafc9c93",
   "metadata": {},
   "outputs": [
    {
     "name": "stdout",
     "output_type": "stream",
     "text": [
      "<class 'pandas.core.frame.DataFrame'>\n",
      "RangeIndex: 729322 entries, 0 to 729321\n",
      "Data columns (total 11 columns):\n",
      " #   Column              Non-Null Count   Dtype  \n",
      "---  ------              --------------   -----  \n",
      " 0   id                  729322 non-null  object \n",
      " 1   vendor_id           729322 non-null  int64  \n",
      " 2   pickup_datetime     729322 non-null  object \n",
      " 3   dropoff_datetime    729322 non-null  object \n",
      " 4   passenger_count     729322 non-null  int64  \n",
      " 5   pickup_longitude    729322 non-null  float64\n",
      " 6   pickup_latitude     729322 non-null  float64\n",
      " 7   dropoff_longitude   729322 non-null  float64\n",
      " 8   dropoff_latitude    729322 non-null  float64\n",
      " 9   store_and_fwd_flag  729322 non-null  object \n",
      " 10  trip_duration       729322 non-null  int64  \n",
      "dtypes: float64(4), int64(3), object(4)\n",
      "memory usage: 61.2+ MB\n"
     ]
    }
   ],
   "source": [
    "df.info()"
   ]
  },
  {
   "cell_type": "code",
   "execution_count": 6,
   "id": "d77de37a",
   "metadata": {},
   "outputs": [
    {
     "name": "stdout",
     "output_type": "stream",
     "text": [
      "We have 729322 rows.\n",
      "We have 11 columns\n"
     ]
    },
    {
     "data": {
      "text/plain": [
       "id                              id0889885\n",
       "vendor_id                               1\n",
       "pickup_datetime       2016-03-11 23:35:37\n",
       "dropoff_datetime      2016-03-11 23:53:57\n",
       "passenger_count                         2\n",
       "pickup_longitude               -73.988312\n",
       "pickup_latitude                 40.731743\n",
       "dropoff_longitude              -73.994751\n",
       "dropoff_latitude                40.694931\n",
       "store_and_fwd_flag                      N\n",
       "trip_duration                        1100\n",
       "Name: 1, dtype: object"
      ]
     },
     "execution_count": 6,
     "metadata": {},
     "output_type": "execute_result"
    }
   ],
   "source": [
    "print('We have {} rows.'.format(df.shape[0]))\n",
    "print('We have {} columns'.format(df.shape[1]))\n",
    "df.iloc[1,:]"
   ]
  },
  {
   "cell_type": "markdown",
   "id": "d7aabf66",
   "metadata": {},
   "source": [
    "### Reformatting features "
   ]
  },
  {
   "cell_type": "code",
   "execution_count": 7,
   "id": "efaf0d18",
   "metadata": {},
   "outputs": [],
   "source": [
    "# converting strings to datetime features\n",
    "df['pickup_datetime'] = pd.to_datetime(df.pickup_datetime)\n",
    "df['dropoff_datetime'] = pd.to_datetime(df.dropoff_datetime)"
   ]
  },
  {
   "cell_type": "code",
   "execution_count": 8,
   "id": "812505ef",
   "metadata": {},
   "outputs": [],
   "source": [
    "# extracting day of week and hour of day for trips\n",
    "df['day_of_week'] = df['pickup_datetime'].dt.weekday\n",
    "df['hour_of_day'] = df['pickup_datetime'].dt.hour"
   ]
  },
  {
   "cell_type": "code",
   "execution_count": 9,
   "id": "6be28712",
   "metadata": {},
   "outputs": [],
   "source": [
    "# Removing features not to be used in modeling\n",
    "df = df.drop(['pickup_datetime', 'dropoff_datetime','store_and_fwd_flag','pickup_longitude', 'pickup_latitude','dropoff_longitude', 'dropoff_latitude','id'],axis=1)"
   ]
  },
  {
   "cell_type": "code",
   "execution_count": 10,
   "id": "ce36096f",
   "metadata": {},
   "outputs": [
    {
     "name": "stdout",
     "output_type": "stream",
     "text": [
      "<class 'pandas.core.frame.DataFrame'>\n",
      "RangeIndex: 729322 entries, 0 to 729321\n",
      "Data columns (total 5 columns):\n",
      " #   Column           Non-Null Count   Dtype\n",
      "---  ------           --------------   -----\n",
      " 0   vendor_id        729322 non-null  int64\n",
      " 1   passenger_count  729322 non-null  int64\n",
      " 2   trip_duration    729322 non-null  int64\n",
      " 3   day_of_week      729322 non-null  int64\n",
      " 4   hour_of_day      729322 non-null  int64\n",
      "dtypes: int64(5)\n",
      "memory usage: 27.8 MB\n"
     ]
    }
   ],
   "source": [
    "df.info()"
   ]
  },
  {
   "cell_type": "markdown",
   "id": "78ca054c",
   "metadata": {},
   "source": [
    "### Missing Values"
   ]
  },
  {
   "cell_type": "code",
   "execution_count": 11,
   "id": "86361620",
   "metadata": {},
   "outputs": [
    {
     "data": {
      "text/plain": [
       "vendor_id          0\n",
       "passenger_count    0\n",
       "trip_duration      0\n",
       "day_of_week        0\n",
       "hour_of_day        0\n",
       "dtype: int64"
      ]
     },
     "execution_count": 11,
     "metadata": {},
     "output_type": "execute_result"
    }
   ],
   "source": [
    "np.sum(pd.isnull(df))"
   ]
  },
  {
   "cell_type": "markdown",
   "id": "4c8d7bc8",
   "metadata": {},
   "source": [
    "### Making Copy of Data"
   ]
  },
  {
   "cell_type": "code",
   "execution_count": 12,
   "id": "0cf83201",
   "metadata": {},
   "outputs": [],
   "source": [
    "data = df.copy()"
   ]
  },
  {
   "cell_type": "markdown",
   "id": "c1830fd5",
   "metadata": {},
   "source": [
    "## Evaluation Metrics"
   ]
  },
  {
   "cell_type": "markdown",
   "id": "daf5f3fe",
   "metadata": {},
   "source": [
    "We will be using adjusted R-squared as a metric for evaluation of our models. \n",
    "\n",
    "The adjusted R-squared metric is a modified version of the R-squared metric used to evaluate regression models. While the R-squared metric tells us the proportion of the variation in the dependent variable explained by the independent variables, the adjusted R-squared metric takes into account the number of independent variables used in the model.\n",
    "\n",
    "Here are some benefits of using the adjusted R-squared metric:\n",
    "\n",
    "    1.It provides a more accurate evaluation of the goodness of fit of a regression model than the R-squared metric.\n",
    "        \n",
    "    2.It helps to avoid overfitting, which occurs when a model fits the training data too closely and may not perform well on new data.\n",
    "        \n",
    "    3.It takes into account the number of independent variables in the model, providing a more fair evaluation of the model's performance.\n",
    "    \n",
    "    4.It can be used to compare different models with different numbers of independent variables, as the adjusted R-squared metric adjusts for the number of independent variables used.\n",
    "    \n",
    "Overall, the adjusted R-squared metric is a useful tool for evaluating the performance of regression models and making informed decisions about which models to use."
   ]
  },
  {
   "cell_type": "markdown",
   "id": "94a4a9a6",
   "metadata": {},
   "source": [
    "# Regression Benchmark "
   ]
  },
  {
   "cell_type": "markdown",
   "id": "df641884",
   "metadata": {},
   "source": [
    "### Shuffling and Creating Train and Test Set\n"
   ]
  },
  {
   "cell_type": "code",
   "execution_count": 13,
   "id": "540dc1e5",
   "metadata": {},
   "outputs": [],
   "source": [
    "from sklearn.utils import shuffle\n",
    "\n",
    "# Shuffling the Dataset\n",
    "data = shuffle(data, random_state = 42)\n",
    "\n",
    "from sklearn.model_selection import train_test_split\n",
    "\n",
    "# Split data into training and test sets\n",
    "train, test = train_test_split(data, test_size=0.2, random_state=42)\n"
   ]
  },
  {
   "cell_type": "code",
   "execution_count": 19,
   "id": "6e76faa3",
   "metadata": {},
   "outputs": [
    {
     "data": {
      "text/html": [
       "<div>\n",
       "<style scoped>\n",
       "    .dataframe tbody tr th:only-of-type {\n",
       "        vertical-align: middle;\n",
       "    }\n",
       "\n",
       "    .dataframe tbody tr th {\n",
       "        vertical-align: top;\n",
       "    }\n",
       "\n",
       "    .dataframe thead th {\n",
       "        text-align: right;\n",
       "    }\n",
       "</style>\n",
       "<table border=\"1\" class=\"dataframe\">\n",
       "  <thead>\n",
       "    <tr style=\"text-align: right;\">\n",
       "      <th></th>\n",
       "      <th>vendor_id</th>\n",
       "      <th>passenger_count</th>\n",
       "      <th>trip_duration</th>\n",
       "      <th>day_of_week</th>\n",
       "      <th>hour_of_day</th>\n",
       "    </tr>\n",
       "  </thead>\n",
       "  <tbody>\n",
       "    <tr>\n",
       "      <th>136414</th>\n",
       "      <td>1</td>\n",
       "      <td>1</td>\n",
       "      <td>303</td>\n",
       "      <td>2</td>\n",
       "      <td>14</td>\n",
       "    </tr>\n",
       "    <tr>\n",
       "      <th>708966</th>\n",
       "      <td>1</td>\n",
       "      <td>1</td>\n",
       "      <td>962</td>\n",
       "      <td>6</td>\n",
       "      <td>13</td>\n",
       "    </tr>\n",
       "    <tr>\n",
       "      <th>26900</th>\n",
       "      <td>1</td>\n",
       "      <td>1</td>\n",
       "      <td>300</td>\n",
       "      <td>1</td>\n",
       "      <td>14</td>\n",
       "    </tr>\n",
       "    <tr>\n",
       "      <th>680138</th>\n",
       "      <td>2</td>\n",
       "      <td>6</td>\n",
       "      <td>1629</td>\n",
       "      <td>0</td>\n",
       "      <td>6</td>\n",
       "    </tr>\n",
       "    <tr>\n",
       "      <th>287486</th>\n",
       "      <td>2</td>\n",
       "      <td>3</td>\n",
       "      <td>656</td>\n",
       "      <td>6</td>\n",
       "      <td>14</td>\n",
       "    </tr>\n",
       "  </tbody>\n",
       "</table>\n",
       "</div>"
      ],
      "text/plain": [
       "        vendor_id  passenger_count  trip_duration  day_of_week  hour_of_day\n",
       "136414          1                1            303            2           14\n",
       "708966          1                1            962            6           13\n",
       "26900           1                1            300            1           14\n",
       "680138          2                6           1629            0            6\n",
       "287486          2                3            656            6           14"
      ]
     },
     "execution_count": 19,
     "metadata": {},
     "output_type": "execute_result"
    }
   ],
   "source": [
    "train.head()"
   ]
  },
  {
   "cell_type": "code",
   "execution_count": 20,
   "id": "046048f5",
   "metadata": {},
   "outputs": [
    {
     "data": {
      "text/html": [
       "<div>\n",
       "<style scoped>\n",
       "    .dataframe tbody tr th:only-of-type {\n",
       "        vertical-align: middle;\n",
       "    }\n",
       "\n",
       "    .dataframe tbody tr th {\n",
       "        vertical-align: top;\n",
       "    }\n",
       "\n",
       "    .dataframe thead th {\n",
       "        text-align: right;\n",
       "    }\n",
       "</style>\n",
       "<table border=\"1\" class=\"dataframe\">\n",
       "  <thead>\n",
       "    <tr style=\"text-align: right;\">\n",
       "      <th></th>\n",
       "      <th>vendor_id</th>\n",
       "      <th>passenger_count</th>\n",
       "      <th>trip_duration</th>\n",
       "      <th>day_of_week</th>\n",
       "      <th>hour_of_day</th>\n",
       "    </tr>\n",
       "  </thead>\n",
       "  <tbody>\n",
       "    <tr>\n",
       "      <th>247177</th>\n",
       "      <td>2</td>\n",
       "      <td>1</td>\n",
       "      <td>1514</td>\n",
       "      <td>6</td>\n",
       "      <td>16</td>\n",
       "    </tr>\n",
       "    <tr>\n",
       "      <th>41189</th>\n",
       "      <td>1</td>\n",
       "      <td>1</td>\n",
       "      <td>1332</td>\n",
       "      <td>0</td>\n",
       "      <td>11</td>\n",
       "    </tr>\n",
       "    <tr>\n",
       "      <th>441690</th>\n",
       "      <td>1</td>\n",
       "      <td>1</td>\n",
       "      <td>1840</td>\n",
       "      <td>5</td>\n",
       "      <td>13</td>\n",
       "    </tr>\n",
       "    <tr>\n",
       "      <th>246922</th>\n",
       "      <td>2</td>\n",
       "      <td>2</td>\n",
       "      <td>1027</td>\n",
       "      <td>4</td>\n",
       "      <td>17</td>\n",
       "    </tr>\n",
       "    <tr>\n",
       "      <th>202073</th>\n",
       "      <td>1</td>\n",
       "      <td>2</td>\n",
       "      <td>295</td>\n",
       "      <td>5</td>\n",
       "      <td>21</td>\n",
       "    </tr>\n",
       "  </tbody>\n",
       "</table>\n",
       "</div>"
      ],
      "text/plain": [
       "        vendor_id  passenger_count  trip_duration  day_of_week  hour_of_day\n",
       "247177          2                1           1514            6           16\n",
       "41189           1                1           1332            0           11\n",
       "441690          1                1           1840            5           13\n",
       "246922          2                2           1027            4           17\n",
       "202073          1                2            295            5           21"
      ]
     },
     "execution_count": 20,
     "metadata": {},
     "output_type": "execute_result"
    }
   ],
   "source": [
    "test.head()"
   ]
  },
  {
   "cell_type": "markdown",
   "id": "a02c55d8",
   "metadata": {},
   "source": [
    "## Simple Mean ( mean of trip_duration)\n"
   ]
  },
  {
   "cell_type": "code",
   "execution_count": 21,
   "id": "198ac530",
   "metadata": {},
   "outputs": [],
   "source": [
    "# storing simple mean in a new column in the test set as \"simple_mean\"\n",
    "test['simple_mean'] = train['trip_duration'].mean()"
   ]
  },
  {
   "cell_type": "code",
   "execution_count": 22,
   "id": "c6a19b4b",
   "metadata": {},
   "outputs": [
    {
     "data": {
      "text/html": [
       "<div>\n",
       "<style scoped>\n",
       "    .dataframe tbody tr th:only-of-type {\n",
       "        vertical-align: middle;\n",
       "    }\n",
       "\n",
       "    .dataframe tbody tr th {\n",
       "        vertical-align: top;\n",
       "    }\n",
       "\n",
       "    .dataframe thead th {\n",
       "        text-align: right;\n",
       "    }\n",
       "</style>\n",
       "<table border=\"1\" class=\"dataframe\">\n",
       "  <thead>\n",
       "    <tr style=\"text-align: right;\">\n",
       "      <th></th>\n",
       "      <th>vendor_id</th>\n",
       "      <th>passenger_count</th>\n",
       "      <th>trip_duration</th>\n",
       "      <th>day_of_week</th>\n",
       "      <th>hour_of_day</th>\n",
       "      <th>simple_mean</th>\n",
       "    </tr>\n",
       "  </thead>\n",
       "  <tbody>\n",
       "    <tr>\n",
       "      <th>247177</th>\n",
       "      <td>2</td>\n",
       "      <td>1</td>\n",
       "      <td>1514</td>\n",
       "      <td>6</td>\n",
       "      <td>16</td>\n",
       "      <td>956.041033</td>\n",
       "    </tr>\n",
       "    <tr>\n",
       "      <th>41189</th>\n",
       "      <td>1</td>\n",
       "      <td>1</td>\n",
       "      <td>1332</td>\n",
       "      <td>0</td>\n",
       "      <td>11</td>\n",
       "      <td>956.041033</td>\n",
       "    </tr>\n",
       "    <tr>\n",
       "      <th>441690</th>\n",
       "      <td>1</td>\n",
       "      <td>1</td>\n",
       "      <td>1840</td>\n",
       "      <td>5</td>\n",
       "      <td>13</td>\n",
       "      <td>956.041033</td>\n",
       "    </tr>\n",
       "    <tr>\n",
       "      <th>246922</th>\n",
       "      <td>2</td>\n",
       "      <td>2</td>\n",
       "      <td>1027</td>\n",
       "      <td>4</td>\n",
       "      <td>17</td>\n",
       "      <td>956.041033</td>\n",
       "    </tr>\n",
       "    <tr>\n",
       "      <th>202073</th>\n",
       "      <td>1</td>\n",
       "      <td>2</td>\n",
       "      <td>295</td>\n",
       "      <td>5</td>\n",
       "      <td>21</td>\n",
       "      <td>956.041033</td>\n",
       "    </tr>\n",
       "  </tbody>\n",
       "</table>\n",
       "</div>"
      ],
      "text/plain": [
       "        vendor_id  passenger_count  trip_duration  day_of_week  hour_of_day  \\\n",
       "247177          2                1           1514            6           16   \n",
       "41189           1                1           1332            0           11   \n",
       "441690          1                1           1840            5           13   \n",
       "246922          2                2           1027            4           17   \n",
       "202073          1                2            295            5           21   \n",
       "\n",
       "        simple_mean  \n",
       "247177   956.041033  \n",
       "41189    956.041033  \n",
       "441690   956.041033  \n",
       "246922   956.041033  \n",
       "202073   956.041033  "
      ]
     },
     "execution_count": 22,
     "metadata": {},
     "output_type": "execute_result"
    }
   ],
   "source": [
    "test.head()"
   ]
  },
  {
   "cell_type": "code",
   "execution_count": 25,
   "id": "cf52186e",
   "metadata": {},
   "outputs": [
    {
     "name": "stdout",
     "output_type": "stream",
     "text": [
      "Adjusted R-squared: -4.835295428518016e-05\n"
     ]
    }
   ],
   "source": [
    "import sklearn.metrics as metrics\n",
    "\n",
    "# Calculate the R-squared value\n",
    "r2 = metrics.r2_score(test['trip_duration'],test['simple_mean'])\n",
    "\n",
    "# Calculate the number of data points in the training data\n",
    "num_data_points = len(test['trip_duration'])\n",
    "\n",
    "# Calculate the number of predictors (assuming you have a constant term)\n",
    "num_predictors = 1\n",
    "\n",
    "# Calculate the adjusted R-squared value\n",
    "adjusted_r2 = 1 - ((1 - r2) * (num_data_points - 1)) / (num_data_points - num_predictors - 1)\n",
    "\n",
    "print(\"Adjusted R-squared:\", adjusted_r2)\n"
   ]
  },
  {
   "cell_type": "markdown",
   "id": "c2d9e90b",
   "metadata": {},
   "source": [
    "This indicates that model has not predictive value"
   ]
  },
  {
   "cell_type": "code",
   "execution_count": 29,
   "id": "324c9d00",
   "metadata": {},
   "outputs": [
    {
     "data": {
      "text/plain": [
       "Index(['vendor_id', 'passenger_count', 'trip_duration', 'day_of_week',\n",
       "       'hour_of_day'],\n",
       "      dtype='object')"
      ]
     },
     "execution_count": 29,
     "metadata": {},
     "output_type": "execute_result"
    }
   ],
   "source": [
    "train.columns"
   ]
  },
  {
   "cell_type": "markdown",
   "id": "0b906692",
   "metadata": {},
   "source": [
    "### Considering all the features"
   ]
  },
  {
   "cell_type": "code",
   "execution_count": 30,
   "id": "12eed0aa",
   "metadata": {},
   "outputs": [
    {
     "data": {
      "text/html": [
       "<div>\n",
       "<style scoped>\n",
       "    .dataframe tbody tr th:only-of-type {\n",
       "        vertical-align: middle;\n",
       "    }\n",
       "\n",
       "    .dataframe tbody tr th {\n",
       "        vertical-align: top;\n",
       "    }\n",
       "\n",
       "    .dataframe thead th {\n",
       "        text-align: right;\n",
       "    }\n",
       "</style>\n",
       "<table border=\"1\" class=\"dataframe\">\n",
       "  <thead>\n",
       "    <tr style=\"text-align: right;\">\n",
       "      <th></th>\n",
       "      <th></th>\n",
       "      <th></th>\n",
       "      <th></th>\n",
       "      <th>trip_duration</th>\n",
       "    </tr>\n",
       "    <tr>\n",
       "      <th>hour_of_day</th>\n",
       "      <th>day_of_week</th>\n",
       "      <th>passenger_count</th>\n",
       "      <th>vendor_id</th>\n",
       "      <th></th>\n",
       "    </tr>\n",
       "  </thead>\n",
       "  <tbody>\n",
       "    <tr>\n",
       "      <th rowspan=\"5\" valign=\"top\">0</th>\n",
       "      <th rowspan=\"5\" valign=\"top\">0</th>\n",
       "      <th rowspan=\"2\" valign=\"top\">0</th>\n",
       "      <th>1</th>\n",
       "      <td>45.000000</td>\n",
       "    </tr>\n",
       "    <tr>\n",
       "      <th>2</th>\n",
       "      <td>1.000000</td>\n",
       "    </tr>\n",
       "    <tr>\n",
       "      <th rowspan=\"2\" valign=\"top\">1</th>\n",
       "      <th>1</th>\n",
       "      <td>709.308715</td>\n",
       "    </tr>\n",
       "    <tr>\n",
       "      <th>2</th>\n",
       "      <td>1164.410256</td>\n",
       "    </tr>\n",
       "    <tr>\n",
       "      <th>2</th>\n",
       "      <th>1</th>\n",
       "      <td>782.127517</td>\n",
       "    </tr>\n",
       "    <tr>\n",
       "      <th>...</th>\n",
       "      <th>...</th>\n",
       "      <th>...</th>\n",
       "      <th>...</th>\n",
       "      <td>...</td>\n",
       "    </tr>\n",
       "    <tr>\n",
       "      <th rowspan=\"5\" valign=\"top\">23</th>\n",
       "      <th rowspan=\"5\" valign=\"top\">6</th>\n",
       "      <th rowspan=\"2\" valign=\"top\">4</th>\n",
       "      <th>1</th>\n",
       "      <td>870.684211</td>\n",
       "    </tr>\n",
       "    <tr>\n",
       "      <th>2</th>\n",
       "      <td>707.090909</td>\n",
       "    </tr>\n",
       "    <tr>\n",
       "      <th rowspan=\"2\" valign=\"top\">5</th>\n",
       "      <th>1</th>\n",
       "      <td>304.000000</td>\n",
       "    </tr>\n",
       "    <tr>\n",
       "      <th>2</th>\n",
       "      <td>748.007874</td>\n",
       "    </tr>\n",
       "    <tr>\n",
       "      <th>6</th>\n",
       "      <th>2</th>\n",
       "      <td>672.805195</td>\n",
       "    </tr>\n",
       "  </tbody>\n",
       "</table>\n",
       "<p>1837 rows × 1 columns</p>\n",
       "</div>"
      ],
      "text/plain": [
       "                                                   trip_duration\n",
       "hour_of_day day_of_week passenger_count vendor_id               \n",
       "0           0           0               1              45.000000\n",
       "                                        2               1.000000\n",
       "                        1               1             709.308715\n",
       "                                        2            1164.410256\n",
       "                        2               1             782.127517\n",
       "...                                                          ...\n",
       "23          6           4               1             870.684211\n",
       "                                        2             707.090909\n",
       "                        5               1             304.000000\n",
       "                                        2             748.007874\n",
       "                        6               2             672.805195\n",
       "\n",
       "[1837 rows x 1 columns]"
      ]
     },
     "execution_count": 30,
     "metadata": {},
     "output_type": "execute_result"
    }
   ],
   "source": [
    "combo = pd.pivot_table(train, values = 'trip_duration', index = ['hour_of_day','day_of_week','passenger_count','vendor_id'], aggfunc = np.mean)\n",
    "combo"
   ]
  },
  {
   "cell_type": "code",
   "execution_count": 31,
   "id": "36d5f3fb",
   "metadata": {},
   "outputs": [],
   "source": [
    "# Initiating new empty column\n",
    "test['Super_mean'] = 0\n",
    "\n",
    "# Assigning variables to strings ( to shorten code length)\n",
    "s4 = 'hour_of_day'\n",
    "s3 = 'day_of_week'\n",
    "s2 = 'passenger_count'\n",
    "s1 = 'vendor_id'\n",
    "\n",
    "# For every Unique Value in s1\n",
    "for i in test[s1].unique():\n",
    "  # For every Unique Value in s2\n",
    "  for j in test[s2].unique():\n",
    "        # For every Unique Value in s3\n",
    "        for k in test[s3].unique():\n",
    "            # For every Unique Value in s4\n",
    "            for l in test[s4].unique():\n",
    "                # Calculate and Assign mean to new column, corresponding to both unique values of s1, s2, s3, s4 and s5 simultaneously\n",
    "                test['Super_mean'][(test[s1] == i) & (test[s2]==j) & (test[s3]==k) & (test[s4]==l)] = train['trip_duration'][(train[s1] == i) & (train[s2]==j) & (train[s3]==k) & (train[s4]==l)].mean()"
   ]
  },
  {
   "cell_type": "markdown",
   "id": "51354f8a",
   "metadata": {},
   "source": [
    "Replacing all the null values of Super mean by its mean value"
   ]
  },
  {
   "cell_type": "code",
   "execution_count": 40,
   "id": "daae1e2a",
   "metadata": {},
   "outputs": [],
   "source": [
    "test['Super_mean'] = test['Super_mean'].fillna(test['Super_mean'].mean())"
   ]
  },
  {
   "cell_type": "code",
   "execution_count": 41,
   "id": "61bfadab",
   "metadata": {},
   "outputs": [
    {
     "name": "stdout",
     "output_type": "stream",
     "text": [
      "Adjusted-R2 :  -0.002199790747377417\n"
     ]
    }
   ],
   "source": [
    "#calculate r-squared\n",
    "r2 = metrics.r2_score(test['trip_duration'],test['Super_mean'])\n",
    "N=test['trip_duration'].shape[0]\n",
    "p=4\n",
    "x = (1-r2)\n",
    "y = (N-1) / (N-p-1)\n",
    "adj_rsquared = (1 - (x * y))\n",
    "print(\"Adjusted-R2 : \" , adj_rsquared)"
   ]
  },
  {
   "cell_type": "code",
   "execution_count": 45,
   "id": "92b10e9d",
   "metadata": {},
   "outputs": [],
   "source": [
    "alfa = adj_rsquared"
   ]
  },
  {
   "cell_type": "markdown",
   "id": "1e257f46",
   "metadata": {},
   "source": [
    "# K-Nearest neighbours's model"
   ]
  },
  {
   "cell_type": "code",
   "execution_count": 46,
   "id": "aee41fa4",
   "metadata": {},
   "outputs": [
    {
     "data": {
      "text/html": [
       "<div>\n",
       "<style scoped>\n",
       "    .dataframe tbody tr th:only-of-type {\n",
       "        vertical-align: middle;\n",
       "    }\n",
       "\n",
       "    .dataframe tbody tr th {\n",
       "        vertical-align: top;\n",
       "    }\n",
       "\n",
       "    .dataframe thead th {\n",
       "        text-align: right;\n",
       "    }\n",
       "</style>\n",
       "<table border=\"1\" class=\"dataframe\">\n",
       "  <thead>\n",
       "    <tr style=\"text-align: right;\">\n",
       "      <th></th>\n",
       "      <th>vendor_id</th>\n",
       "      <th>passenger_count</th>\n",
       "      <th>trip_duration</th>\n",
       "      <th>day_of_week</th>\n",
       "      <th>hour_of_day</th>\n",
       "    </tr>\n",
       "  </thead>\n",
       "  <tbody>\n",
       "    <tr>\n",
       "      <th>count</th>\n",
       "      <td>729322.000000</td>\n",
       "      <td>729322.000000</td>\n",
       "      <td>7.293220e+05</td>\n",
       "      <td>729322.000000</td>\n",
       "      <td>729322.000000</td>\n",
       "    </tr>\n",
       "    <tr>\n",
       "      <th>mean</th>\n",
       "      <td>1.535403</td>\n",
       "      <td>1.662055</td>\n",
       "      <td>9.522291e+02</td>\n",
       "      <td>3.049081</td>\n",
       "      <td>13.611698</td>\n",
       "    </tr>\n",
       "    <tr>\n",
       "      <th>std</th>\n",
       "      <td>0.498745</td>\n",
       "      <td>1.312446</td>\n",
       "      <td>3.864626e+03</td>\n",
       "      <td>1.954470</td>\n",
       "      <td>6.402853</td>\n",
       "    </tr>\n",
       "    <tr>\n",
       "      <th>min</th>\n",
       "      <td>1.000000</td>\n",
       "      <td>0.000000</td>\n",
       "      <td>1.000000e+00</td>\n",
       "      <td>0.000000</td>\n",
       "      <td>0.000000</td>\n",
       "    </tr>\n",
       "    <tr>\n",
       "      <th>25%</th>\n",
       "      <td>1.000000</td>\n",
       "      <td>1.000000</td>\n",
       "      <td>3.970000e+02</td>\n",
       "      <td>1.000000</td>\n",
       "      <td>9.000000</td>\n",
       "    </tr>\n",
       "    <tr>\n",
       "      <th>50%</th>\n",
       "      <td>2.000000</td>\n",
       "      <td>1.000000</td>\n",
       "      <td>6.630000e+02</td>\n",
       "      <td>3.000000</td>\n",
       "      <td>14.000000</td>\n",
       "    </tr>\n",
       "    <tr>\n",
       "      <th>75%</th>\n",
       "      <td>2.000000</td>\n",
       "      <td>2.000000</td>\n",
       "      <td>1.075000e+03</td>\n",
       "      <td>5.000000</td>\n",
       "      <td>19.000000</td>\n",
       "    </tr>\n",
       "    <tr>\n",
       "      <th>max</th>\n",
       "      <td>2.000000</td>\n",
       "      <td>9.000000</td>\n",
       "      <td>1.939736e+06</td>\n",
       "      <td>6.000000</td>\n",
       "      <td>23.000000</td>\n",
       "    </tr>\n",
       "  </tbody>\n",
       "</table>\n",
       "</div>"
      ],
      "text/plain": [
       "           vendor_id  passenger_count  trip_duration    day_of_week  \\\n",
       "count  729322.000000    729322.000000   7.293220e+05  729322.000000   \n",
       "mean        1.535403         1.662055   9.522291e+02       3.049081   \n",
       "std         0.498745         1.312446   3.864626e+03       1.954470   \n",
       "min         1.000000         0.000000   1.000000e+00       0.000000   \n",
       "25%         1.000000         1.000000   3.970000e+02       1.000000   \n",
       "50%         2.000000         1.000000   6.630000e+02       3.000000   \n",
       "75%         2.000000         2.000000   1.075000e+03       5.000000   \n",
       "max         2.000000         9.000000   1.939736e+06       6.000000   \n",
       "\n",
       "         hour_of_day  \n",
       "count  729322.000000  \n",
       "mean       13.611698  \n",
       "std         6.402853  \n",
       "min         0.000000  \n",
       "25%         9.000000  \n",
       "50%        14.000000  \n",
       "75%        19.000000  \n",
       "max        23.000000  "
      ]
     },
     "execution_count": 46,
     "metadata": {},
     "output_type": "execute_result"
    }
   ],
   "source": [
    "data.describe()"
   ]
  },
  {
   "cell_type": "code",
   "execution_count": 47,
   "id": "56b8a8fc",
   "metadata": {},
   "outputs": [
    {
     "name": "stdout",
     "output_type": "stream",
     "text": [
      "<class 'pandas.core.frame.DataFrame'>\n",
      "Int64Index: 729322 entries, 469114 to 121958\n",
      "Data columns (total 5 columns):\n",
      " #   Column           Non-Null Count   Dtype\n",
      "---  ------           --------------   -----\n",
      " 0   vendor_id        729322 non-null  int64\n",
      " 1   passenger_count  729322 non-null  int64\n",
      " 2   trip_duration    729322 non-null  int64\n",
      " 3   day_of_week      729322 non-null  int64\n",
      " 4   hour_of_day      729322 non-null  int64\n",
      "dtypes: int64(5)\n",
      "memory usage: 33.4 MB\n"
     ]
    }
   ],
   "source": [
    "data.info()"
   ]
  },
  {
   "cell_type": "markdown",
   "id": "262cc224",
   "metadata": {},
   "source": [
    "Here we need to convert the vendor_id into dummy variables"
   ]
  },
  {
   "cell_type": "markdown",
   "id": "659d1aab",
   "metadata": {},
   "source": [
    "### Creating Dummy Variables"
   ]
  },
  {
   "cell_type": "code",
   "execution_count": 48,
   "id": "217d76c4",
   "metadata": {},
   "outputs": [],
   "source": [
    "dummy_vendor = pd.get_dummies(data['vendor_id'])\n",
    "data[1] = dummy_vendor[1]\n",
    "data[2] = dummy_vendor[2]\n",
    "data = data.drop('vendor_id',axis=1)"
   ]
  },
  {
   "cell_type": "code",
   "execution_count": 49,
   "id": "2c171560",
   "metadata": {},
   "outputs": [
    {
     "data": {
      "text/html": [
       "<div>\n",
       "<style scoped>\n",
       "    .dataframe tbody tr th:only-of-type {\n",
       "        vertical-align: middle;\n",
       "    }\n",
       "\n",
       "    .dataframe tbody tr th {\n",
       "        vertical-align: top;\n",
       "    }\n",
       "\n",
       "    .dataframe thead th {\n",
       "        text-align: right;\n",
       "    }\n",
       "</style>\n",
       "<table border=\"1\" class=\"dataframe\">\n",
       "  <thead>\n",
       "    <tr style=\"text-align: right;\">\n",
       "      <th></th>\n",
       "      <th>passenger_count</th>\n",
       "      <th>trip_duration</th>\n",
       "      <th>day_of_week</th>\n",
       "      <th>hour_of_day</th>\n",
       "      <th>1</th>\n",
       "      <th>2</th>\n",
       "    </tr>\n",
       "  </thead>\n",
       "  <tbody>\n",
       "    <tr>\n",
       "      <th>469114</th>\n",
       "      <td>1</td>\n",
       "      <td>657</td>\n",
       "      <td>5</td>\n",
       "      <td>10</td>\n",
       "      <td>0</td>\n",
       "      <td>1</td>\n",
       "    </tr>\n",
       "    <tr>\n",
       "      <th>694852</th>\n",
       "      <td>5</td>\n",
       "      <td>195</td>\n",
       "      <td>4</td>\n",
       "      <td>18</td>\n",
       "      <td>0</td>\n",
       "      <td>1</td>\n",
       "    </tr>\n",
       "    <tr>\n",
       "      <th>696324</th>\n",
       "      <td>1</td>\n",
       "      <td>840</td>\n",
       "      <td>6</td>\n",
       "      <td>0</td>\n",
       "      <td>1</td>\n",
       "      <td>0</td>\n",
       "    </tr>\n",
       "    <tr>\n",
       "      <th>356496</th>\n",
       "      <td>1</td>\n",
       "      <td>398</td>\n",
       "      <td>5</td>\n",
       "      <td>10</td>\n",
       "      <td>1</td>\n",
       "      <td>0</td>\n",
       "    </tr>\n",
       "    <tr>\n",
       "      <th>645318</th>\n",
       "      <td>3</td>\n",
       "      <td>682</td>\n",
       "      <td>6</td>\n",
       "      <td>10</td>\n",
       "      <td>1</td>\n",
       "      <td>0</td>\n",
       "    </tr>\n",
       "  </tbody>\n",
       "</table>\n",
       "</div>"
      ],
      "text/plain": [
       "        passenger_count  trip_duration  day_of_week  hour_of_day  1  2\n",
       "469114                1            657            5           10  0  1\n",
       "694852                5            195            4           18  0  1\n",
       "696324                1            840            6            0  1  0\n",
       "356496                1            398            5           10  1  0\n",
       "645318                3            682            6           10  1  0"
      ]
     },
     "execution_count": 49,
     "metadata": {},
     "output_type": "execute_result"
    }
   ],
   "source": [
    "data.head()"
   ]
  },
  {
   "cell_type": "markdown",
   "id": "0944076e",
   "metadata": {},
   "source": [
    "### Seperating independent and independent variables"
   ]
  },
  {
   "cell_type": "code",
   "execution_count": 50,
   "id": "31a8fd9b",
   "metadata": {},
   "outputs": [
    {
     "data": {
      "text/plain": [
       "((729322, 5), (729322,))"
      ]
     },
     "execution_count": 50,
     "metadata": {},
     "output_type": "execute_result"
    }
   ],
   "source": [
    "#seperating independent and dependent variables\n",
    "x = data.drop(['trip_duration'], axis=1)\n",
    "y = data['trip_duration']\n",
    "x.shape, y.shape"
   ]
  },
  {
   "cell_type": "markdown",
   "id": "10de015c",
   "metadata": {},
   "source": [
    "### Scaling the data (Using MinMax Scaler)"
   ]
  },
  {
   "cell_type": "code",
   "execution_count": 51,
   "id": "02503d6f",
   "metadata": {},
   "outputs": [],
   "source": [
    "# Importing MinMax Scaler\n",
    "from sklearn.preprocessing import MinMaxScaler\n",
    "scaler = MinMaxScaler()\n",
    "x_scaled = scaler.fit_transform(x)"
   ]
  },
  {
   "cell_type": "code",
   "execution_count": 52,
   "id": "9baba841",
   "metadata": {},
   "outputs": [],
   "source": [
    "x = pd.DataFrame(x_scaled,columns=x.columns)"
   ]
  },
  {
   "cell_type": "code",
   "execution_count": 53,
   "id": "13aad3c1",
   "metadata": {},
   "outputs": [
    {
     "data": {
      "text/html": [
       "<div>\n",
       "<style scoped>\n",
       "    .dataframe tbody tr th:only-of-type {\n",
       "        vertical-align: middle;\n",
       "    }\n",
       "\n",
       "    .dataframe tbody tr th {\n",
       "        vertical-align: top;\n",
       "    }\n",
       "\n",
       "    .dataframe thead th {\n",
       "        text-align: right;\n",
       "    }\n",
       "</style>\n",
       "<table border=\"1\" class=\"dataframe\">\n",
       "  <thead>\n",
       "    <tr style=\"text-align: right;\">\n",
       "      <th></th>\n",
       "      <th>passenger_count</th>\n",
       "      <th>day_of_week</th>\n",
       "      <th>hour_of_day</th>\n",
       "      <th>1</th>\n",
       "      <th>2</th>\n",
       "    </tr>\n",
       "  </thead>\n",
       "  <tbody>\n",
       "    <tr>\n",
       "      <th>0</th>\n",
       "      <td>0.111111</td>\n",
       "      <td>0.833333</td>\n",
       "      <td>0.434783</td>\n",
       "      <td>0.0</td>\n",
       "      <td>1.0</td>\n",
       "    </tr>\n",
       "    <tr>\n",
       "      <th>1</th>\n",
       "      <td>0.555556</td>\n",
       "      <td>0.666667</td>\n",
       "      <td>0.782609</td>\n",
       "      <td>0.0</td>\n",
       "      <td>1.0</td>\n",
       "    </tr>\n",
       "    <tr>\n",
       "      <th>2</th>\n",
       "      <td>0.111111</td>\n",
       "      <td>1.000000</td>\n",
       "      <td>0.000000</td>\n",
       "      <td>1.0</td>\n",
       "      <td>0.0</td>\n",
       "    </tr>\n",
       "    <tr>\n",
       "      <th>3</th>\n",
       "      <td>0.111111</td>\n",
       "      <td>0.833333</td>\n",
       "      <td>0.434783</td>\n",
       "      <td>1.0</td>\n",
       "      <td>0.0</td>\n",
       "    </tr>\n",
       "    <tr>\n",
       "      <th>4</th>\n",
       "      <td>0.333333</td>\n",
       "      <td>1.000000</td>\n",
       "      <td>0.434783</td>\n",
       "      <td>1.0</td>\n",
       "      <td>0.0</td>\n",
       "    </tr>\n",
       "  </tbody>\n",
       "</table>\n",
       "</div>"
      ],
      "text/plain": [
       "   passenger_count  day_of_week  hour_of_day    1    2\n",
       "0         0.111111     0.833333     0.434783  0.0  1.0\n",
       "1         0.555556     0.666667     0.782609  0.0  1.0\n",
       "2         0.111111     1.000000     0.000000  1.0  0.0\n",
       "3         0.111111     0.833333     0.434783  1.0  0.0\n",
       "4         0.333333     1.000000     0.434783  1.0  0.0"
      ]
     },
     "execution_count": 53,
     "metadata": {},
     "output_type": "execute_result"
    }
   ],
   "source": [
    "x.head()"
   ]
  },
  {
   "cell_type": "code",
   "execution_count": 54,
   "id": "5ace3cd3",
   "metadata": {},
   "outputs": [],
   "source": [
    "# Importing Train test split\n",
    "from sklearn.model_selection import train_test_split\n",
    "train_x,test_x,train_y,test_y = train_test_split(x,y, random_state = 56)"
   ]
  },
  {
   "cell_type": "markdown",
   "id": "fa263ac4",
   "metadata": {},
   "source": [
    "### Implementing KNN Regressor"
   ]
  },
  {
   "cell_type": "code",
   "execution_count": 55,
   "id": "0ae362fe",
   "metadata": {},
   "outputs": [],
   "source": [
    "#importing KNN regressor and metric mse\n",
    "\n",
    "from sklearn.neighbors import KNeighborsRegressor as KNN\n",
    "from sklearn.metrics import mean_squared_error as mse"
   ]
  },
  {
   "cell_type": "markdown",
   "id": "5cac455c",
   "metadata": {},
   "source": [
    "### Elbow for Classifier"
   ]
  },
  {
   "cell_type": "code",
   "execution_count": 56,
   "id": "9ea153c5",
   "metadata": {},
   "outputs": [],
   "source": [
    "def Elbow(K):\n",
    "  #initiating empty list\n",
    "    test_mse = []\n",
    "  \n",
    "  #training model for evey value of K\n",
    "    for i in K:\n",
    "        #Instance of KNN\n",
    "        reg = KNN(n_neighbors = i)\n",
    "        reg.fit(train_x, train_y)\n",
    "        #Appending mse value to empty list claculated using the predictions\n",
    "        tmp = reg.predict(test_x)\n",
    "        tmp = mse(tmp,test_y)\n",
    "        test_mse.append(tmp)\n",
    "    \n",
    "    return test_mse"
   ]
  },
  {
   "cell_type": "code",
   "execution_count": 39,
   "id": "cbdff788",
   "metadata": {},
   "outputs": [
    {
     "data": {
      "text/plain": [
       "Text(0.5, 1.0, 'Elbow Curve for test')"
      ]
     },
     "execution_count": 39,
     "metadata": {},
     "output_type": "execute_result"
    },
    {
     "data": {
      "image/png": "[encoded data removed]",
      "text/plain": [
       "<Figure size 640x480 with 1 Axes>"
      ]
     },
     "metadata": {},
     "output_type": "display_data"
    }
   ],
   "source": [
    "k = range(1,1000,100)\n",
    "\n",
    "# calling above defined function\n",
    "test = Elbow(k)\n",
    "\n",
    "# plotting the Curves\n",
    "plt.plot(k, test)\n",
    "plt.xlabel('K Neighbors')\n",
    "plt.ylabel('Test Mean Squared Error')\n",
    "plt.title('Elbow Curve for test')"
   ]
  },
  {
   "cell_type": "markdown",
   "id": "5c7a71da",
   "metadata": {},
   "source": [
    "Thus, Test MSE appears to be minimum around 100 value of k"
   ]
  },
  {
   "cell_type": "code",
   "execution_count": 57,
   "id": "163518ae",
   "metadata": {},
   "outputs": [],
   "source": [
    "# Creating instance of KNN\n",
    "reg = KNN(n_neighbors = 100)\n",
    "\n",
    "# Fitting the model\n",
    "reg.fit(train_x, train_y)\n",
    "\n",
    "# Predicting over the Train Set\n",
    "test_predict = reg.predict(test_x)"
   ]
  },
  {
   "cell_type": "code",
   "execution_count": 58,
   "id": "bfd84e94",
   "metadata": {},
   "outputs": [
    {
     "name": "stdout",
     "output_type": "stream",
     "text": [
      "Adjusted-R2 :  -0.002292104869636047\n"
     ]
    }
   ],
   "source": [
    "#calculate r-squared\n",
    "r2 = metrics.r2_score(test_y,test_predict)\n",
    "N=test_y.shape[0]\n",
    "p=4\n",
    "x = (1-r2)\n",
    "y = (N-1) / (N-p-1)\n",
    "adj_rsquared = (1 - (x * y))\n",
    "print(\"Adjusted-R2 : \" , adj_rsquared)\n"
   ]
  },
  {
   "cell_type": "code",
   "execution_count": 59,
   "id": "9f1309ce",
   "metadata": {},
   "outputs": [],
   "source": [
    "beta = adj_rsquared"
   ]
  },
  {
   "cell_type": "markdown",
   "id": "87038b61",
   "metadata": {},
   "source": [
    "# Decision Tree"
   ]
  },
  {
   "cell_type": "code",
   "execution_count": 60,
   "id": "a22e938b",
   "metadata": {},
   "outputs": [],
   "source": [
    "# Import required libraries\n",
    "from sklearn.tree import DecisionTreeRegressor\n",
    "from sklearn.model_selection import train_test_split\n",
    "from sklearn.metrics import mean_squared_error\n",
    "\n",
    "\n",
    "\n",
    "# Create decision tree regressor object\n",
    "dt_regressor = DecisionTreeRegressor(max_depth=5, min_samples_split=10, random_state=42)\n",
    "\n",
    "# Train the model on the training data\n",
    "dt_regressor.fit(train_x, train_y)\n",
    "\n",
    "# Make predictions on the test data\n",
    "y_pred = dt_regressor.predict(test_x)\n",
    "\n"
   ]
  },
  {
   "cell_type": "code",
   "execution_count": 61,
   "id": "2f729d0a",
   "metadata": {},
   "outputs": [
    {
     "name": "stdout",
     "output_type": "stream",
     "text": [
      "Adjusted-R2 :  0.0005215451482346589\n"
     ]
    }
   ],
   "source": [
    "#calculate r-squared\n",
    "r2 = metrics.r2_score(test_y,y_pred)\n",
    "N=test_y.shape[0]\n",
    "p=4\n",
    "x = (1-r2)\n",
    "y = (N-1) / (N-p-1)\n",
    "adj_rsquared = (1 - (x * y))\n",
    "print(\"Adjusted-R2 : \" , adj_rsquared)"
   ]
  },
  {
   "cell_type": "code",
   "execution_count": 62,
   "id": "186517dd",
   "metadata": {},
   "outputs": [],
   "source": [
    "gamma = adj_rsquared"
   ]
  },
  {
   "cell_type": "markdown",
   "id": "d8736190",
   "metadata": {},
   "source": [
    "# Linear Regression"
   ]
  },
  {
   "cell_type": "markdown",
   "id": "2cd41baf",
   "metadata": {
    "colab_type": "text",
    "id": "WvsDKzjdyNWi"
   },
   "source": [
    "### Implementing Linear Regression"
   ]
  },
  {
   "cell_type": "code",
   "execution_count": 63,
   "id": "3111839b",
   "metadata": {},
   "outputs": [],
   "source": [
    "#importing Linear Regression and metric mean square error\n",
    "from sklearn.linear_model import LinearRegression as LR\n",
    "from sklearn.metrics import mean_absolute_error as MAE"
   ]
  },
  {
   "cell_type": "code",
   "execution_count": 64,
   "id": "ba0c100d",
   "metadata": {
    "colab": {
     "base_uri": "https://localhost:8080/",
     "height": 34
    },
    "colab_type": "code",
    "executionInfo": {
     "elapsed": 2294,
     "status": "ok",
     "timestamp": 1559646189820,
     "user": {
      "displayName": "Sharoon Saxena",
      "photoUrl": "",
      "userId": "14774175216384036942"
     },
     "user_tz": -330
    },
    "id": "TFrwDTRdybYF",
    "outputId": "f8cf7216-edf8-4009-891e-ac6fee7209cc"
   },
   "outputs": [
    {
     "data": {
      "text/plain": [
       "LinearRegression()"
      ]
     },
     "execution_count": 64,
     "metadata": {},
     "output_type": "execute_result"
    }
   ],
   "source": [
    "# Creating instance of Linear Regresssion\n",
    "lr = LR()\n",
    "\n",
    "# Fitting the model\n",
    "lr.fit(train_x, train_y)"
   ]
  },
  {
   "cell_type": "code",
   "execution_count": 66,
   "id": "4c104a11",
   "metadata": {},
   "outputs": [
    {
     "name": "stdout",
     "output_type": "stream",
     "text": [
      "Adjusted R-squared: 0.9999797612319562\n"
     ]
    }
   ],
   "source": [
    "# Predicting over the Train Set and calculating error\n",
    "train_predict = lr.predict(train_x)\n",
    "mae = MAE(train_predict, train_y)\n",
    "\n",
    "r2 = 1 - (mae / np.var(test_y))\n",
    "n = len(test_y)\n",
    "k = 4\n",
    "\n",
    "# Calculate adjusted r-squared\n",
    "adj_r2 = 1 - ((1 - r2) * (n - 1) / (n - k - 1))\n",
    "\n",
    "print('Adjusted R-squared:', adj_r2)\n"
   ]
  },
  {
   "cell_type": "code",
   "execution_count": 49,
   "id": "edf6012b",
   "metadata": {},
   "outputs": [
    {
     "data": {
      "text/plain": [
       "array([ 1.74192405e+02, -1.66028102e+01,  4.37217514e+01, -6.34229377e+13,\n",
       "       -6.34229377e+13])"
      ]
     },
     "execution_count": 49,
     "metadata": {},
     "output_type": "execute_result"
    }
   ],
   "source": [
    "lr.coef_"
   ]
  },
  {
   "cell_type": "markdown",
   "id": "b3fd2d6a",
   "metadata": {},
   "source": [
    "### Plotting the coefficients"
   ]
  },
  {
   "cell_type": "code",
   "execution_count": 67,
   "id": "b2f9aa79",
   "metadata": {},
   "outputs": [
    {
     "data": {
      "text/plain": [
       "Text(0.5, 1.0, 'Coefficient plot')"
      ]
     },
     "execution_count": 67,
     "metadata": {},
     "output_type": "execute_result"
    },
    {
     "data": {
      "image/png": "[encoded data removed]",
      "text/plain": [
       "<Figure size 960x720 with 1 Axes>"
      ]
     },
     "metadata": {},
     "output_type": "display_data"
    }
   ],
   "source": [
    "plt.figure(figsize=(8, 6), dpi=120, facecolor='w', edgecolor='b')\n",
    "x = range(len(train_x.columns))\n",
    "y = lr.coef_\n",
    "plt.bar( x, y )\n",
    "plt.xlabel( \"Variables\")\n",
    "plt.ylabel('Coefficients')\n",
    "plt.title('Coefficient plot')"
   ]
  },
  {
   "cell_type": "markdown",
   "id": "6e09c637",
   "metadata": {},
   "source": [
    "Here we can see that model is dependent highly on vendor"
   ]
  },
  {
   "cell_type": "markdown",
   "id": "9ba5bf22",
   "metadata": {
    "colab_type": "text",
    "id": "6Go_VU3igLFl"
   },
   "source": [
    "## Checking assumptions of Linear Model"
   ]
  },
  {
   "cell_type": "code",
   "execution_count": 68,
   "id": "5d295f40",
   "metadata": {
    "colab": {
     "base_uri": "https://localhost:8080/",
     "height": 204
    },
    "colab_type": "code",
    "executionInfo": {
     "elapsed": 3163,
     "status": "ok",
     "timestamp": 1559646190733,
     "user": {
      "displayName": "Sharoon Saxena",
      "photoUrl": "",
      "userId": "14774175216384036942"
     },
     "user_tz": -330
    },
    "id": "Lx_yVB9Hf9ga",
    "outputId": "126bd569-abf1-4bdc-a70c-e568577b4387"
   },
   "outputs": [
    {
     "data": {
      "text/html": [
       "<div>\n",
       "<style scoped>\n",
       "    .dataframe tbody tr th:only-of-type {\n",
       "        vertical-align: middle;\n",
       "    }\n",
       "\n",
       "    .dataframe tbody tr th {\n",
       "        vertical-align: top;\n",
       "    }\n",
       "\n",
       "    .dataframe thead th {\n",
       "        text-align: right;\n",
       "    }\n",
       "</style>\n",
       "<table border=\"1\" class=\"dataframe\">\n",
       "  <thead>\n",
       "    <tr style=\"text-align: right;\">\n",
       "      <th></th>\n",
       "      <th>fitted values</th>\n",
       "      <th>predicted values</th>\n",
       "      <th>residuals</th>\n",
       "    </tr>\n",
       "  </thead>\n",
       "  <tbody>\n",
       "    <tr>\n",
       "      <th>711017</th>\n",
       "      <td>1707</td>\n",
       "      <td>1599.06</td>\n",
       "      <td>107.94</td>\n",
       "    </tr>\n",
       "    <tr>\n",
       "      <th>90179</th>\n",
       "      <td>1225</td>\n",
       "      <td>786.61</td>\n",
       "      <td>438.39</td>\n",
       "    </tr>\n",
       "    <tr>\n",
       "      <th>191653</th>\n",
       "      <td>676</td>\n",
       "      <td>1516.01</td>\n",
       "      <td>-840.01</td>\n",
       "    </tr>\n",
       "    <tr>\n",
       "      <th>3951</th>\n",
       "      <td>494</td>\n",
       "      <td>515.56</td>\n",
       "      <td>-21.56</td>\n",
       "    </tr>\n",
       "    <tr>\n",
       "      <th>4259</th>\n",
       "      <td>746</td>\n",
       "      <td>938.19</td>\n",
       "      <td>-192.19</td>\n",
       "    </tr>\n",
       "  </tbody>\n",
       "</table>\n",
       "</div>"
      ],
      "text/plain": [
       "        fitted values  predicted values  residuals\n",
       "711017           1707           1599.06     107.94\n",
       "90179            1225            786.61     438.39\n",
       "191653            676           1516.01    -840.01\n",
       "3951              494            515.56     -21.56\n",
       "4259              746            938.19    -192.19"
      ]
     },
     "execution_count": 68,
     "metadata": {},
     "output_type": "execute_result"
    }
   ],
   "source": [
    "# Arranging and calculating the Residuals\n",
    "residuals = pd.DataFrame({\n",
    "    'fitted values' : test_y,\n",
    "    'predicted values' : test_predict,\n",
    "})\n",
    "\n",
    "residuals['residuals'] = residuals['fitted values'] - residuals['predicted values']\n",
    "residuals.head()"
   ]
  },
  {
   "cell_type": "markdown",
   "id": "3ec5316f",
   "metadata": {},
   "source": [
    "### Checking Distribution of Residuals"
   ]
  },
  {
   "cell_type": "code",
   "execution_count": 79,
   "id": "1942546a",
   "metadata": {},
   "outputs": [
    {
     "data": {
      "image/png": "[encoded data removed]",
      "text/plain": [
       "<Figure size 1200x720 with 1 Axes>"
      ]
     },
     "metadata": {},
     "output_type": "display_data"
    }
   ],
   "source": [
    "# Histogram for distribution\n",
    "plt.figure(figsize=(10, 6), dpi=120, facecolor='w', edgecolor='b')\n",
    "plt.hist(residuals.residuals, bins = 150)\n",
    "plt.xlabel('Error')\n",
    "plt.ylabel('Frequency')\n",
    "plt.title('Distribution of Error Terms')\n",
    "plt.xlim(1,20000)\n",
    "plt.show()"
   ]
  },
  {
   "cell_type": "markdown",
   "id": "ab30c32c",
   "metadata": {},
   "source": [
    "According to the Histogram, the distribution of error is nearly normal and concentrated between 0 abd 10000, but there are some outliers on the Higher end of the errors."
   ]
  },
  {
   "cell_type": "markdown",
   "id": "7759eb3e",
   "metadata": {},
   "source": [
    "### QQ-Plot (Is the data Normally Distributed?)"
   ]
  },
  {
   "cell_type": "code",
   "execution_count": 78,
   "id": "0f7a9af0",
   "metadata": {},
   "outputs": [
    {
     "data": {
      "image/png": "[encoded data removed]",
      "text/plain": [
       "<Figure size 600x600 with 1 Axes>"
      ]
     },
     "metadata": {},
     "output_type": "display_data"
    }
   ],
   "source": [
    "# importing the QQ-plot from the from the statsmodels\n",
    "from statsmodels.graphics.gofplots import qqplot\n",
    "\n",
    "## Plotting the QQ plot\n",
    "fig, ax = plt.subplots(figsize=(5,5) , dpi = 120)\n",
    "qqplot(residuals.residuals, line = 's' , ax = ax)\n",
    "plt.ylabel('Residual Quantiles')\n",
    "plt.xlabel('Ideal Scaled Quantiles')\n",
    "plt.title('Checking distribution of Residual Errors')\n",
    "plt.ylim(1,20000)\n",
    "plt.show()"
   ]
  },
  {
   "cell_type": "markdown",
   "id": "5420cf8a",
   "metadata": {
    "colab_type": "text",
    "id": "k7-N6WuyGXSy"
   },
   "source": [
    "## Model Interpretability\n",
    "\n",
    "So far we have simply been predicting the values using the linear regression, But in order to Interpret the model, the normalising of the data is essential."
   ]
  },
  {
   "cell_type": "code",
   "execution_count": 80,
   "id": "f12530d1",
   "metadata": {
    "colab": {
     "base_uri": "https://localhost:8080/",
     "height": 34
    },
    "colab_type": "code",
    "executionInfo": {
     "elapsed": 6719,
     "status": "ok",
     "timestamp": 1559646194343,
     "user": {
      "displayName": "Sharoon Saxena",
      "photoUrl": "",
      "userId": "14774175216384036942"
     },
     "user_tz": -330
    },
    "id": "rS_vN2OkhjT6",
    "outputId": "3686ac86-9664-4095-a872-bd69afc7458a"
   },
   "outputs": [
    {
     "data": {
      "text/plain": [
       "LinearRegression(normalize=True)"
      ]
     },
     "execution_count": 80,
     "metadata": {},
     "output_type": "execute_result"
    }
   ],
   "source": [
    "# Creating instance of Linear Regresssion\n",
    "lr = LR(normalize = True)\n",
    "\n",
    "# Fitting the model\n",
    "lr.fit(train_x, train_y)"
   ]
  },
  {
   "cell_type": "code",
   "execution_count": 81,
   "id": "99660cda",
   "metadata": {
    "colab": {
     "base_uri": "https://localhost:8080/",
     "height": 34
    },
    "colab_type": "code",
    "executionInfo": {
     "elapsed": 6710,
     "status": "ok",
     "timestamp": 1559646194344,
     "user": {
      "displayName": "Sharoon Saxena",
      "photoUrl": "",
      "userId": "14774175216384036942"
     },
     "user_tz": -330
    },
    "id": "bQUV6sq_H281",
    "outputId": "d6cdd12b-2d33-4666-ad6e-f8f12feb7141"
   },
   "outputs": [
    {
     "name": "stdout",
     "output_type": "stream",
     "text": [
      "Training Mean Absolute Error 619.7420863500267\n"
     ]
    }
   ],
   "source": [
    "# Predicting over the Train Set and calculating error\n",
    "train_predict = lr.predict(train_x)\n",
    "k = MAE(train_predict, train_y)\n",
    "print('Training Mean Absolute Error', k )"
   ]
  },
  {
   "cell_type": "code",
   "execution_count": 82,
   "id": "0f815c04",
   "metadata": {
    "colab": {
     "base_uri": "https://localhost:8080/",
     "height": 34
    },
    "colab_type": "code",
    "executionInfo": {
     "elapsed": 6704,
     "status": "ok",
     "timestamp": 1559646194345,
     "user": {
      "displayName": "Sharoon Saxena",
      "photoUrl": "",
      "userId": "14774175216384036942"
     },
     "user_tz": -330
    },
    "id": "3mCEp-QOH286",
    "outputId": "9840234c-822b-4485-d3d2-6a1fe81cdd8e"
   },
   "outputs": [
    {
     "name": "stdout",
     "output_type": "stream",
     "text": [
      "Test Mean Absolute Error     631.9401754227202\n"
     ]
    }
   ],
   "source": [
    "# Predicting over the Test Set and calculating error\n",
    "test_predict = lr.predict(test_x)\n",
    "k = MAE(test_predict, test_y)\n",
    "print('Test Mean Absolute Error    ', k )"
   ]
  },
  {
   "cell_type": "code",
   "execution_count": 83,
   "id": "e098ce9a",
   "metadata": {
    "colab": {
     "base_uri": "https://localhost:8080/",
     "height": 680
    },
    "colab_type": "code",
    "executionInfo": {
     "elapsed": 7672,
     "status": "ok",
     "timestamp": 1559646195326,
     "user": {
      "displayName": "Sharoon Saxena",
      "photoUrl": "",
      "userId": "14774175216384036942"
     },
     "user_tz": -330
    },
    "id": "IwJUupk4H40S",
    "outputId": "7ba2b350-9994-493b-fc51-c4e69fe735ed"
   },
   "outputs": [
    {
     "data": {
      "text/plain": [
       "Text(0.5, 1.0, 'Normalized Coefficient plot')"
      ]
     },
     "execution_count": 83,
     "metadata": {},
     "output_type": "execute_result"
    },
    {
     "data": {
      "image/png": "[encoded data removed]",
      "text/plain": [
       "<Figure size 960x720 with 1 Axes>"
      ]
     },
     "metadata": {},
     "output_type": "display_data"
    }
   ],
   "source": [
    "plt.figure(figsize=(8, 6), dpi=120, facecolor='w', edgecolor='b')\n",
    "x = range(len(train_x.columns))\n",
    "y = lr.coef_\n",
    "plt.bar( x, y )\n",
    "plt.xlabel( \"Variables\")\n",
    "plt.ylabel('Coefficients')\n",
    "plt.title('Normalized Coefficient plot')"
   ]
  },
  {
   "cell_type": "markdown",
   "id": "1a5369db",
   "metadata": {
    "colab_type": "text",
    "id": "T3qFZlh3M52j"
   },
   "source": [
    "#### Creating new subsets of data"
   ]
  },
  {
   "cell_type": "code",
   "execution_count": 84,
   "id": "f1580c6e",
   "metadata": {
    "colab": {
     "base_uri": "https://localhost:8080/",
     "height": 34
    },
    "colab_type": "code",
    "executionInfo": {
     "elapsed": 1807,
     "status": "ok",
     "timestamp": 1559646231383,
     "user": {
      "displayName": "Sharoon Saxena",
      "photoUrl": "",
      "userId": "14774175216384036942"
     },
     "user_tz": -330
    },
    "id": "693ZFEkvKMsh",
    "outputId": "f3568382-7958-4b7d-ff5c-c5b39eb501c0"
   },
   "outputs": [
    {
     "data": {
      "text/plain": [
       "((729322, 5), (729322,))"
      ]
     },
     "execution_count": 84,
     "metadata": {},
     "output_type": "execute_result"
    }
   ],
   "source": [
    "#seperating independent and dependent variables\n",
    "x = data.drop(['trip_duration'], axis=1)\n",
    "y = data['trip_duration']\n",
    "x.shape, y.shape"
   ]
  },
  {
   "cell_type": "code",
   "execution_count": 85,
   "id": "a114822a",
   "metadata": {},
   "outputs": [
    {
     "data": {
      "text/html": [
       "<div>\n",
       "<style scoped>\n",
       "    .dataframe tbody tr th:only-of-type {\n",
       "        vertical-align: middle;\n",
       "    }\n",
       "\n",
       "    .dataframe tbody tr th {\n",
       "        vertical-align: top;\n",
       "    }\n",
       "\n",
       "    .dataframe thead th {\n",
       "        text-align: right;\n",
       "    }\n",
       "</style>\n",
       "<table border=\"1\" class=\"dataframe\">\n",
       "  <thead>\n",
       "    <tr style=\"text-align: right;\">\n",
       "      <th></th>\n",
       "      <th>Variable</th>\n",
       "      <th>coefficient</th>\n",
       "    </tr>\n",
       "  </thead>\n",
       "  <tbody>\n",
       "    <tr>\n",
       "      <th>0</th>\n",
       "      <td>passenger_count</td>\n",
       "      <td>1.759472e+02</td>\n",
       "    </tr>\n",
       "    <tr>\n",
       "      <th>1</th>\n",
       "      <td>day_of_week</td>\n",
       "      <td>-1.661744e+01</td>\n",
       "    </tr>\n",
       "    <tr>\n",
       "      <th>2</th>\n",
       "      <td>hour_of_day</td>\n",
       "      <td>4.370704e+01</td>\n",
       "    </tr>\n",
       "    <tr>\n",
       "      <th>3</th>\n",
       "      <td>1</td>\n",
       "      <td>-4.829389e+13</td>\n",
       "    </tr>\n",
       "    <tr>\n",
       "      <th>4</th>\n",
       "      <td>2</td>\n",
       "      <td>-4.829389e+13</td>\n",
       "    </tr>\n",
       "  </tbody>\n",
       "</table>\n",
       "</div>"
      ],
      "text/plain": [
       "          Variable   coefficient\n",
       "0  passenger_count  1.759472e+02\n",
       "1      day_of_week -1.661744e+01\n",
       "2      hour_of_day  4.370704e+01\n",
       "3                1 -4.829389e+13\n",
       "4                2 -4.829389e+13"
      ]
     },
     "execution_count": 85,
     "metadata": {},
     "output_type": "execute_result"
    }
   ],
   "source": [
    "# Arranging coefficients with features\n",
    "\n",
    "Coefficients = pd.DataFrame({\n",
    "    'Variable'    : x.columns,\n",
    "    'coefficient' : lr.coef_\n",
    "})\n",
    "Coefficients.head()"
   ]
  },
  {
   "cell_type": "markdown",
   "id": "c33d5e60",
   "metadata": {
    "colab_type": "text",
    "id": "BUCtDApgNM6X"
   },
   "source": [
    "#### Chossing variables with sigificance greater than 0.5 ( Filtering Significant Features)"
   ]
  },
  {
   "cell_type": "code",
   "execution_count": 86,
   "id": "2b7b599f",
   "metadata": {
    "colab": {},
    "colab_type": "code",
    "id": "e1aLhGv1JE7e"
   },
   "outputs": [],
   "source": [
    "sig_var = Coefficients[Coefficients.coefficient > 0.5]"
   ]
  },
  {
   "cell_type": "markdown",
   "id": "a53cc033",
   "metadata": {
    "colab_type": "text",
    "id": "nsfBK1cwNYeS"
   },
   "source": [
    "#### Extracting the significant subset do independent Variables"
   ]
  },
  {
   "cell_type": "code",
   "execution_count": 87,
   "id": "30157f75",
   "metadata": {
    "colab": {
     "base_uri": "https://localhost:8080/",
     "height": 241
    },
    "colab_type": "code",
    "executionInfo": {
     "elapsed": 1146,
     "status": "ok",
     "timestamp": 1559646654608,
     "user": {
      "displayName": "Sharoon Saxena",
      "photoUrl": "",
      "userId": "14774175216384036942"
     },
     "user_tz": -330
    },
    "id": "W7WNJQ-5Lncx",
    "outputId": "5d2702bb-07a4-4652-b850-e51e800e3368"
   },
   "outputs": [
    {
     "data": {
      "text/html": [
       "<div>\n",
       "<style scoped>\n",
       "    .dataframe tbody tr th:only-of-type {\n",
       "        vertical-align: middle;\n",
       "    }\n",
       "\n",
       "    .dataframe tbody tr th {\n",
       "        vertical-align: top;\n",
       "    }\n",
       "\n",
       "    .dataframe thead th {\n",
       "        text-align: right;\n",
       "    }\n",
       "</style>\n",
       "<table border=\"1\" class=\"dataframe\">\n",
       "  <thead>\n",
       "    <tr style=\"text-align: right;\">\n",
       "      <th></th>\n",
       "      <th>passenger_count</th>\n",
       "      <th>hour_of_day</th>\n",
       "    </tr>\n",
       "  </thead>\n",
       "  <tbody>\n",
       "    <tr>\n",
       "      <th>469114</th>\n",
       "      <td>1</td>\n",
       "      <td>10</td>\n",
       "    </tr>\n",
       "    <tr>\n",
       "      <th>694852</th>\n",
       "      <td>5</td>\n",
       "      <td>18</td>\n",
       "    </tr>\n",
       "    <tr>\n",
       "      <th>696324</th>\n",
       "      <td>1</td>\n",
       "      <td>0</td>\n",
       "    </tr>\n",
       "    <tr>\n",
       "      <th>356496</th>\n",
       "      <td>1</td>\n",
       "      <td>10</td>\n",
       "    </tr>\n",
       "    <tr>\n",
       "      <th>645318</th>\n",
       "      <td>3</td>\n",
       "      <td>10</td>\n",
       "    </tr>\n",
       "  </tbody>\n",
       "</table>\n",
       "</div>"
      ],
      "text/plain": [
       "        passenger_count  hour_of_day\n",
       "469114                1           10\n",
       "694852                5           18\n",
       "696324                1            0\n",
       "356496                1           10\n",
       "645318                3           10"
      ]
     },
     "execution_count": 87,
     "metadata": {},
     "output_type": "execute_result"
    }
   ],
   "source": [
    "subset = data[sig_var['Variable'].values]\n",
    "subset.head()"
   ]
  },
  {
   "cell_type": "markdown",
   "id": "993f8e14",
   "metadata": {
    "colab_type": "text",
    "id": "U8JPAMHKKutz"
   },
   "source": [
    "#### Splitting the data into train set and the test set"
   ]
  },
  {
   "cell_type": "code",
   "execution_count": 88,
   "id": "a4a263b4",
   "metadata": {
    "colab": {},
    "colab_type": "code",
    "id": "IgW8nm99Kut1"
   },
   "outputs": [],
   "source": [
    "# Importing the train test split function\n",
    "from sklearn.model_selection import train_test_split\n",
    "train_x,test_x,train_y,test_y = train_test_split(subset, y , random_state = 56)"
   ]
  },
  {
   "cell_type": "markdown",
   "id": "ffecc16a",
   "metadata": {
    "colab_type": "text",
    "id": "vxgz_jCMKut4"
   },
   "source": [
    "#### Implementing Linear Regression"
   ]
  },
  {
   "cell_type": "code",
   "execution_count": 89,
   "id": "4dd95c35",
   "metadata": {
    "colab": {},
    "colab_type": "code",
    "id": "Ju8gCMxZKut5"
   },
   "outputs": [],
   "source": [
    "#importing Linear Regression and metric mean square error\n",
    "from sklearn.linear_model import LinearRegression as LR\n",
    "from sklearn.metrics import mean_absolute_error as mae"
   ]
  },
  {
   "cell_type": "markdown",
   "id": "d0a65ad9",
   "metadata": {
    "colab_type": "text",
    "id": "lMRLnpT9NimN"
   },
   "source": [
    "#### Training Model"
   ]
  },
  {
   "cell_type": "code",
   "execution_count": 90,
   "id": "ced91ae1",
   "metadata": {
    "colab": {
     "base_uri": "https://localhost:8080/",
     "height": 34
    },
    "colab_type": "code",
    "executionInfo": {
     "elapsed": 1286,
     "status": "ok",
     "timestamp": 1559646833678,
     "user": {
      "displayName": "Sharoon Saxena",
      "photoUrl": "",
      "userId": "14774175216384036942"
     },
     "user_tz": -330
    },
    "id": "yLeVFA7tMehg",
    "outputId": "10b68000-c11e-4f0d-abc0-a56805ff67e3"
   },
   "outputs": [
    {
     "data": {
      "text/plain": [
       "LinearRegression(normalize=True)"
      ]
     },
     "execution_count": 90,
     "metadata": {},
     "output_type": "execute_result"
    }
   ],
   "source": [
    "# Creating instance of Linear Regresssion with Normalised Data\n",
    "lr = LR(normalize = True)\n",
    "\n",
    "# Fitting the model\n",
    "lr.fit(train_x, train_y)"
   ]
  },
  {
   "cell_type": "markdown",
   "id": "3c9a38a3",
   "metadata": {
    "colab_type": "text",
    "id": "ubHMF3B_Nk0X"
   },
   "source": [
    "#### Predicting over the train set"
   ]
  },
  {
   "cell_type": "code",
   "execution_count": 95,
   "id": "6976c8c1",
   "metadata": {},
   "outputs": [],
   "source": [
    "# Predicting over the Train Set and calculating error\n",
    "train_predict = lr.predict(test_x)"
   ]
  },
  {
   "cell_type": "code",
   "execution_count": 97,
   "id": "bf47951b",
   "metadata": {},
   "outputs": [
    {
     "name": "stdout",
     "output_type": "stream",
     "text": [
      "Adjusted-R2 :  1.0377947085804529e-05\n"
     ]
    }
   ],
   "source": [
    "#calculate r-squared\n",
    "r2 = metrics.r2_score(test_y,train_predict)\n",
    "N=test_y.shape[0]\n",
    "p=4\n",
    "x = (1-r2)\n",
    "y = (N-1) / (N-p-1)\n",
    "adj_rsquared = (1 - (x * y))\n",
    "print(\"Adjusted-R2 : \" , adj_rsquared)"
   ]
  },
  {
   "cell_type": "code",
   "execution_count": 98,
   "id": "2135c98c",
   "metadata": {},
   "outputs": [],
   "source": [
    "delta = adj_rsquared"
   ]
  },
  {
   "cell_type": "code",
   "execution_count": 99,
   "id": "10cf1f6a",
   "metadata": {},
   "outputs": [
    {
     "data": {
      "text/plain": [
       "(-0.002199790747377417,\n",
       " -0.002292104869636047,\n",
       " 0.0005215451482346589,\n",
       " 1.0377947085804529e-05)"
      ]
     },
     "execution_count": 99,
     "metadata": {},
     "output_type": "execute_result"
    }
   ],
   "source": [
    "alfa, beta, gamma, delta"
   ]
  },
  {
   "cell_type": "markdown",
   "id": "09441e16",
   "metadata": {},
   "source": [
    "# Plottting Adjusted R-squared values for different variables"
   ]
  },
  {
   "cell_type": "code",
   "execution_count": 101,
   "id": "18edf051",
   "metadata": {},
   "outputs": [
    {
     "data": {
      "image/png": "[encoded data removed]",
      "text/plain": [
       "<Figure size 640x480 with 1 Axes>"
      ]
     },
     "metadata": {},
     "output_type": "display_data"
    }
   ],
   "source": [
    "import matplotlib.pyplot as plt\n",
    "\n",
    "# Define the data\n",
    "values = [alfa, beta, gamma, delta]\n",
    "labels = ['Benchmark Model ', 'K-Nearest neighbours’ mode', 'Decision Tree', 'Linear Model']\n",
    "\n",
    "# Create a bar chart\n",
    "fig, ax = plt.subplots()\n",
    "ax.bar(labels, values)\n",
    "\n",
    "# Add labels and title\n",
    "ax.set_xlabel('Model')\n",
    "ax.set_ylabel('Adjusted R-Squared')\n",
    "ax.set_title('Calculated Adjusted R-Squared value for Models')\n",
    "plt.xticks(rotation=45)\n",
    "\n",
    "# Display the chart\n",
    "plt.show()\n",
    "\n"
   ]
  },
  {
   "cell_type": "markdown",
   "id": "cb99b3b4",
   "metadata": {},
   "source": [
    "Take Adjusted R-Squared as the evaluation metric, we can draw following conclusions:\n",
    "- Benchmark Model and K-Nearest Neighbour has no predicitive value and fit worse than a horizontal line. \n",
    "- Predictive value of Linear Model is very less. \n",
    "- Best predictions are made by Decision Tree Model."
   ]
  }
 ],
 "metadata": {
  "kernelspec": {
   "display_name": "Python 3 (ipykernel)",
   "language": "python",
   "name": "python3"
  },
  "language_info": {
   "codemirror_mode": {
    "name": "ipython",
    "version": 3
   },
   "file_extension": ".py",
   "mimetype": "text/x-python",
   "name": "python",
   "nbconvert_exporter": "python",
   "pygments_lexer": "ipython3",
   "version": "3.9.13"
  }
 },
 "nbformat": 4,
 "nbformat_minor": 5
}
